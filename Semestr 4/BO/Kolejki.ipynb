{
 "cells": [
  {
   "cell_type": "code",
   "execution_count": 2,
   "id": "06cf39fc",
   "metadata": {},
   "outputs": [
    {
     "name": "stdout",
     "output_type": "stream",
     "text": [
      "p          = [ 0.4716981 0.3773585 0.1509434 ]\n",
      "N.avg      =   0.6792453 \n",
      "lambda.avg =   7.924528 \n",
      "T.avg      =   0.08571429 \n",
      "W          =   0.01904762 \n"
     ]
    }
   ],
   "source": [
    "calc.lambda <- function(m, L, f) {\n",
    "    l <- c()\n",
    "    for (i in 0:(m+L)) {\n",
    "        if (i <= m) {\n",
    "            l <- c(l, f)\n",
    "        } else {\n",
    "            l <- c(l, 0)\n",
    "        }\n",
    "    }\n",
    "    return(l)\n",
    "}\n",
    "\n",
    "calc.mi <- function(m, L, f) {\n",
    "    mi <- c()\n",
    "    for (i in 0:(m+L)) {\n",
    "        mi <- c(mi, f*min(i,m))\n",
    "    }\n",
    "    return(mi)\n",
    "}\n",
    "\n",
    "calc.p <- function(lambda, mi) {\n",
    "    p0 <- 1\n",
    "    tmp <- 1\n",
    "    for (i in 2:length(mi)) {\n",
    "        tmp <- tmp * lambda[i-1] / mi[i]\n",
    "        p0 <- p0 + tmp\n",
    "    }\n",
    "    p0 <- 1 / p0\n",
    "    p <- c(p0)\n",
    "    tmp <- 1\n",
    "    for (i in 2:length(mi)) {\n",
    "        tmp <- tmp * lambda[i-1] / mi[i]\n",
    "        p <- c(p, p0 * tmp)\n",
    "    }\n",
    "    return(p)\n",
    "}\n",
    "\n",
    "calc.N.avg <- function(p) {\n",
    "    N <- 0\n",
    "    for (i in 1:length(p)) {\n",
    "        N <- N + (i-1) * p[i]\n",
    "    }\n",
    "    return(N)\n",
    "}\n",
    "\n",
    "calc.lambda.avg <- function(lambda, p) {\n",
    "    lambda.avg <- 0\n",
    "    for (i in 1:length(p)) {\n",
    "        lambda.avg <- lambda.avg + lambda[i] * p[i]\n",
    "    }\n",
    "    return(lambda.avg)\n",
    "}\n",
    "\n",
    "\n",
    "m <- 2 #liczba stanowisk\n",
    "L <- 1 #pojemność kolejki\n",
    "f.in <- 15 #ile przybywa\n",
    "f.out <- 18 #wydajność\n",
    "#lambda <- calc.lambda(m,L,f.in) #myjnie\n",
    "lambda <- c(12,6,0) #końcówki (końcówka, której zadanie jest obsługiwane, nie generuje zadań dlatego generują w przykładzie 8,4,0)\n",
    "#mi <- calc.mi(m,L,f.out) #myjnie\n",
    "mi <- c(0,15,15) #końcówki (1 procesor, albo obsługuje albo nie dlatego 0,10,10)\n",
    "p <- calc.p(lambda, mi)\n",
    "\n",
    "N.avg <- calc.N.avg(p)\n",
    "\n",
    "lambda.avg <- calc.lambda.avg(lambda, p)\n",
    "\n",
    "T.avg <- N.avg / lambda.avg\n",
    "\n",
    "W <- p[length(p)] / lambda.avg\n",
    "\n",
    "cat(\"p          = [\", round(p,10), \"]\\n\")\n",
    "cat(\"N.avg      =  \", round(N.avg,10), \"\\n\")\n",
    "cat(\"lambda.avg =  \", round(lambda.avg,10), \"\\n\")\n",
    "cat(\"T.avg      =  \", round(T.avg, 10), \"\\n\")\n",
    "cat(\"W          =  \", round(W, 10), \"\\n\")"
   ]
  },
  {
   "cell_type": "code",
   "execution_count": 6,
   "id": "cecb1c00",
   "metadata": {
    "scrolled": false
   },
   "outputs": [
    {
     "name": "stdout",
     "output_type": "stream",
     "text": [
      "-8 \n",
      "-7 \n",
      "-4 \n",
      "Kryterium Walda:  -4 \n",
      "\n",
      "Współczynnik Ostrożności: "
     ]
    },
    {
     "data": {
      "text/html": [
       "0.6"
      ],
      "text/latex": [
       "0.6"
      ],
      "text/markdown": [
       "0.6"
      ],
      "text/plain": [
       "[1] 0.6"
      ]
     },
     "metadata": {},
     "output_type": "display_data"
    },
    {
     "name": "stdout",
     "output_type": "stream",
     "text": [
      "-2.4 \n",
      "-0.6 \n",
      "-0.4 \n",
      "Kryterium Hurwicza:  -0.4 \n",
      "\n",
      "Macierz Strat Relatywnych: "
     ]
    },
    {
     "data": {
      "text/html": [
       "<table class=\"dataframe\">\n",
       "<caption>A matrix: 3 × 4 of type dbl</caption>\n",
       "<tbody>\n",
       "\t<tr><td>8</td><td> 0</td><td>13</td><td>0</td></tr>\n",
       "\t<tr><td>0</td><td>13</td><td> 0</td><td>6</td></tr>\n",
       "\t<tr><td>2</td><td> 6</td><td> 4</td><td>4</td></tr>\n",
       "</tbody>\n",
       "</table>\n"
      ],
      "text/latex": [
       "A matrix: 3 × 4 of type dbl\n",
       "\\begin{tabular}{llll}\n",
       "\t 8 &  0 & 13 & 0\\\\\n",
       "\t 0 & 13 &  0 & 6\\\\\n",
       "\t 2 &  6 &  4 & 4\\\\\n",
       "\\end{tabular}\n"
      ],
      "text/markdown": [
       "\n",
       "A matrix: 3 × 4 of type dbl\n",
       "\n",
       "| 8 |  0 | 13 | 0 |\n",
       "| 0 | 13 |  0 | 6 |\n",
       "| 2 |  6 |  4 | 4 |\n",
       "\n"
      ],
      "text/plain": [
       "     [,1] [,2] [,3] [,4]\n",
       "[1,] 8     0   13   0   \n",
       "[2,] 0    13    0   6   \n",
       "[3,] 2     6    4   4   "
      ]
     },
     "metadata": {},
     "output_type": "display_data"
    },
    {
     "name": "stdout",
     "output_type": "stream",
     "text": [
      "13 \n",
      "13 \n",
      "6 \n",
      "Kryterium Savage'a:  6 \n",
      "\n",
      "Wektor Prawdopodobieństw: "
     ]
    },
    {
     "data": {
      "text/html": [
       "<style>\n",
       ".list-inline {list-style: none; margin:0; padding: 0}\n",
       ".list-inline>li {display: inline-block}\n",
       ".list-inline>li:not(:last-child)::after {content: \"\\00b7\"; padding: 0 .5ex}\n",
       "</style>\n",
       "<ol class=list-inline><li>0.25</li><li>0.25</li><li>0.25</li><li>0.25</li></ol>\n"
      ],
      "text/latex": [
       "\\begin{enumerate*}\n",
       "\\item 0.25\n",
       "\\item 0.25\n",
       "\\item 0.25\n",
       "\\item 0.25\n",
       "\\end{enumerate*}\n"
      ],
      "text/markdown": [
       "1. 0.25\n",
       "2. 0.25\n",
       "3. 0.25\n",
       "4. 0.25\n",
       "\n",
       "\n"
      ],
      "text/plain": [
       "[1] 0.25 0.25 0.25 0.25"
      ]
     },
     "metadata": {},
     "output_type": "display_data"
    },
    {
     "name": "stdout",
     "output_type": "stream",
     "text": [
      "-1.5 \n",
      "-1 \n",
      "-0.25 \n",
      "Kryterium Bayesa:  -0.25 \n",
      "\n"
     ]
    }
   ],
   "source": [
    "#############################################\n",
    "\n",
    "in.matrix <- matrix(c(-8, 6, -4, 0,\n",
    "                      0, -7, 9, -6,\n",
    "                      -2, 0, 5, -4),\n",
    "                      nrow = 3, byrow = TRUE)\n",
    "\n",
    "gamma <- 0.6\n",
    "\n",
    "# prob.vector <- c(0.25, 0.25, 0.25, 0.25)\n",
    "prob.vector <- rep(1 / ncol(in.matrix), times = ncol(in.matrix)) # wygeneruj jednakowe prawdopodobienstwa\n",
    "\n",
    "answers.only = FALSE\n",
    "\n",
    "##############################################\n",
    "\n",
    "loss <- function(x) {\n",
    "    max(x) - x\n",
    "}\n",
    "\n",
    "result <- c()\n",
    "\n",
    "for (i in 1:nrow(in.matrix)) {\n",
    "    result[i] <- min(in.matrix[i,])\n",
    "    if (!answers.only) cat(result[i], \"\\n\")\n",
    "}\n",
    "cat(\"Kryterium Walda: \", max(result), \"\\n\\n\")\n",
    "\n",
    "if (!answers.only) {\n",
    "cat(\"Współczynnik Ostrożności: \")\n",
    "gamma\n",
    "}\n",
    "for (i in 1:nrow(in.matrix)) {\n",
    "    result[i] <- gamma * min(in.matrix[i,]) + (1 - gamma) * max(in.matrix[i,])\n",
    "    if (!answers.only) cat(result[i], \"\\n\")\n",
    "}\n",
    "cat(\"Kryterium Hurwicza: \", max(result), \"\\n\\n\")\n",
    "\n",
    "loss.matrix <- apply(in.matrix, 2, loss) # apply on columns\n",
    "if (!answers.only) {\n",
    "cat(\"Macierz Strat Relatywnych: \")\n",
    "loss.matrix\n",
    "}\n",
    "for (i in 1:nrow(loss.matrix)) {\n",
    "    result[i] <- max(loss.matrix[i,])\n",
    "    if (!answers.only) cat(result[i], \"\\n\")\n",
    "}\n",
    "cat(\"Kryterium Savage'a: \", min(result), \"\\n\\n\")\n",
    "\n",
    "if (!answers.only) {\n",
    "cat(\"Wektor Prawdopodobieństw: \")\n",
    "prob.vector\n",
    "}\n",
    "avg.matrix <- in.matrix * prob.vector\n",
    "for (i in 1:nrow(avg.matrix)) {\n",
    "    result[i] <- sum(avg.matrix[i,])\n",
    "    if (!answers.only) cat(result[i], \"\\n\")\n",
    "}\n",
    "cat(\"Kryterium Bayesa: \", max(result), \"\\n\\n\")"
   ]
  },
  {
   "cell_type": "code",
   "execution_count": 4,
   "id": "720d7fd3",
   "metadata": {},
   "outputs": [
    {
     "data": {
      "text/html": [
       "<table class=\"dataframe\">\n",
       "<caption>A matrix: 8 × 8 of type dbl</caption>\n",
       "<thead>\n",
       "\t<tr><th></th><th scope=col>1</th><th scope=col>2</th><th scope=col>3</th><th scope=col>4</th><th scope=col>5</th><th scope=col>6</th><th scope=col>7</th><th scope=col>8</th></tr>\n",
       "</thead>\n",
       "<tbody>\n",
       "\t<tr><th scope=row>1</th><td>0</td><td>6</td><td>5</td><td>8</td><td> 0</td><td> 0</td><td> 0</td><td> 0</td></tr>\n",
       "\t<tr><th scope=row>2</th><td>0</td><td>0</td><td>0</td><td>0</td><td> 9</td><td> 0</td><td> 0</td><td> 0</td></tr>\n",
       "\t<tr><th scope=row>3</th><td>0</td><td>0</td><td>0</td><td>9</td><td>14</td><td> 8</td><td> 0</td><td> 0</td></tr>\n",
       "\t<tr><th scope=row>4</th><td>0</td><td>0</td><td>0</td><td>0</td><td> 0</td><td>16</td><td>19</td><td> 0</td></tr>\n",
       "\t<tr><th scope=row>5</th><td>0</td><td>0</td><td>0</td><td>0</td><td> 0</td><td> 0</td><td> 0</td><td>18</td></tr>\n",
       "\t<tr><th scope=row>6</th><td>0</td><td>0</td><td>0</td><td>0</td><td> 0</td><td> 0</td><td> 0</td><td>21</td></tr>\n",
       "\t<tr><th scope=row>7</th><td>0</td><td>0</td><td>0</td><td>0</td><td> 0</td><td> 0</td><td> 0</td><td>22</td></tr>\n",
       "\t<tr><th scope=row>8</th><td>0</td><td>0</td><td>0</td><td>0</td><td> 0</td><td> 0</td><td> 0</td><td> 0</td></tr>\n",
       "</tbody>\n",
       "</table>\n"
      ],
      "text/latex": [
       "A matrix: 8 × 8 of type dbl\n",
       "\\begin{tabular}{r|llllllll}\n",
       "  & 1 & 2 & 3 & 4 & 5 & 6 & 7 & 8\\\\\n",
       "\\hline\n",
       "\t1 & 0 & 6 & 5 & 8 &  0 &  0 &  0 &  0\\\\\n",
       "\t2 & 0 & 0 & 0 & 0 &  9 &  0 &  0 &  0\\\\\n",
       "\t3 & 0 & 0 & 0 & 9 & 14 &  8 &  0 &  0\\\\\n",
       "\t4 & 0 & 0 & 0 & 0 &  0 & 16 & 19 &  0\\\\\n",
       "\t5 & 0 & 0 & 0 & 0 &  0 &  0 &  0 & 18\\\\\n",
       "\t6 & 0 & 0 & 0 & 0 &  0 &  0 &  0 & 21\\\\\n",
       "\t7 & 0 & 0 & 0 & 0 &  0 &  0 &  0 & 22\\\\\n",
       "\t8 & 0 & 0 & 0 & 0 &  0 &  0 &  0 &  0\\\\\n",
       "\\end{tabular}\n"
      ],
      "text/markdown": [
       "\n",
       "A matrix: 8 × 8 of type dbl\n",
       "\n",
       "| <!--/--> | 1 | 2 | 3 | 4 | 5 | 6 | 7 | 8 |\n",
       "|---|---|---|---|---|---|---|---|---|\n",
       "| 1 | 0 | 6 | 5 | 8 |  0 |  0 |  0 |  0 |\n",
       "| 2 | 0 | 0 | 0 | 0 |  9 |  0 |  0 |  0 |\n",
       "| 3 | 0 | 0 | 0 | 9 | 14 |  8 |  0 |  0 |\n",
       "| 4 | 0 | 0 | 0 | 0 |  0 | 16 | 19 |  0 |\n",
       "| 5 | 0 | 0 | 0 | 0 |  0 |  0 |  0 | 18 |\n",
       "| 6 | 0 | 0 | 0 | 0 |  0 |  0 |  0 | 21 |\n",
       "| 7 | 0 | 0 | 0 | 0 |  0 |  0 |  0 | 22 |\n",
       "| 8 | 0 | 0 | 0 | 0 |  0 |  0 |  0 |  0 |\n",
       "\n"
      ],
      "text/plain": [
       "  1 2 3 4 5  6  7  8 \n",
       "1 0 6 5 8  0  0  0  0\n",
       "2 0 0 0 0  9  0  0  0\n",
       "3 0 0 0 9 14  8  0  0\n",
       "4 0 0 0 0  0 16 19  0\n",
       "5 0 0 0 0  0  0  0 18\n",
       "6 0 0 0 0  0  0  0 21\n",
       "7 0 0 0 0  0  0  0 22\n",
       "8 0 0 0 0  0  0  0  0"
      ]
     },
     "metadata": {},
     "output_type": "display_data"
    },
    {
     "name": "stdout",
     "output_type": "stream",
     "text": [
      "Tw:\t\t 0 6 5 9 14 16 19 22\n",
      "Tp:\t\t 0 15 5 9 18 17 19 22\n",
      "Luz calkowity:\t 0 9 0 0 4 1 0 0"
     ]
    }
   ],
   "source": [
    "#ZADANIE Z GRAFEM\n",
    "#czas trwania czynnosci - ctc\n",
    "ctc=c(6,5,8,3,9,3,4,7,10,4,5,3)\n",
    "wymiar = 8\n",
    "ctc=matrix(0,wymiar,wymiar)\n",
    "rownames(ctc) <- c(1:wymiar)\n",
    "colnames(ctc) <- c(1:wymiar)\n",
    "#indeksowanie jest od 1, a nie 0! Jezeli w zadaniu jest od 0, to trzeba dodac 1 do kazdego indeksu\n",
    "ctc[1,1] = 0\n",
    "ctc[1,2] = 6\n",
    "ctc[1,3] = 5\n",
    "ctc[1,4] = 8\n",
    "ctc[2,5] = 3\n",
    "ctc[3,5] = 9\n",
    "ctc[3,6] = 3\n",
    "ctc[3,4] = 4\n",
    "ctc[4,6] = 7\n",
    "ctc[4,7] = 10\n",
    "ctc[5,8] = 4\n",
    "ctc[6,8] = 5\n",
    "ctc[7,8] = 3\n",
    "czas <- ctc\n",
    "Tw <- c(0)\n",
    "Tp <- c(22)\n",
    "for (i in (2:wymiar))\n",
    "{\n",
    "    ctc[i, (ctc[i, 1:wymiar] != 0)] = ctc[i, (ctc[i, 1:wymiar] != 0)] + max(ctc[1:wymiar, i])\n",
    "    Tw <- c(Tw, max(ctc[1:wymiar, i]))\n",
    "}\n",
    "ctc\n",
    "for (i in (wymiar-1):2)\n",
    "{\n",
    "    TpC <- c()\n",
    "    for (j in (wymiar:(i+1)))\n",
    "    {\n",
    "        if (czas[i, j] != 0)\n",
    "            TpC <- c(Tp[wymiar-j+1] - czas[i,j], TpC)\n",
    "    }\n",
    "    Tp <- c(Tp, min(TpC))\n",
    "}\n",
    "Tp <- rev(Tp)\n",
    "Tp <- c(0, Tp)\n",
    "cat('Tw:\\t\\t', Tw, sep =' ')\n",
    "cat('\\nTp:\\t\\t', Tp, sep =' ')\n",
    "\n",
    "cat('\\nLuz calkowity:\\t', Tp - Tw, sep =' ')"
   ]
  },
  {
   "cell_type": "code",
   "execution_count": 5,
   "id": "6c4ee828",
   "metadata": {},
   "outputs": [
    {
     "ename": "ERROR",
     "evalue": "Error in eval(expr, envir, enclos): object 'tc' not found\n",
     "output_type": "error",
     "traceback": [
      "Error in eval(expr, envir, enclos): object 'tc' not found\nTraceback:\n"
     ]
    }
   ],
   "source": [
    "tm <- c(20, 14, 5, 10, 18, 15, 10, 18, 15)  #pesymistyczny\n",
    "tp <- c(20, 14, 15, 12, 25, 15, 12, 25, 15) #prawdopodobny\n",
    "beg <- c(1,1,2,2,3,3,4,4,5) #wierzcholki poczatkowe\n",
    "end <- c(2,3,3,5,6,5,5,6,6) #wierzcholki koncowe\n",
    "wymiar <- 6\n",
    "czasDoPrzekroczenia <- 60  #ustawić zgodnie z trescia zad\n",
    "\n",
    "t0 <- (tc+tp+4*tm)/6 #oczek\n",
    "cat('\\nt0:\\t\\t', format(round(t0, 3), digits = 7, width = 7), sep = '')\n",
    "war <- ((tc-tp)/6)**2\n",
    "cat('\\nWariancja:\\t', format(round(war, 3), digits = 7, width = 7), sep = '')\n",
    "\n",
    "ctc <- matrix(0,wymiar,wymiar)\n",
    "rownames(ctc) <- c(1:wymiar)\n",
    "colnames(ctc) <- c(1:wymiar)\n",
    "#indeksowanie jest od 1, a nie 0! Jezeli w zadaniu jest od 0, to trzeba dodac 1 do kazdego indeksu\n",
    "for (i in 1:length(beg))\n",
    "{\n",
    "    ctc[beg[i], end[i]] <- t0[i]\n",
    "}    \n",
    "czas <- ctc\n",
    "Tw <- c(0)\n",
    "for (i in (2:wymiar))\n",
    "{\n",
    "    ctc[i, (ctc[i, 1:wymiar] != 0)] = ctc[i, (ctc[i, 1:wymiar] != 0)] + max(ctc[1:wymiar, i])\n",
    "    Tw <- c(Tw, max(ctc[1:wymiar, i]))\n",
    "}\n",
    "Tp <- c(Tw[wymiar])\n",
    "ctc\n",
    "for (i in (wymiar-1):2)\n",
    "{\n",
    "    TpC <- c()\n",
    "    for (j in (wymiar:(i+1)))\n",
    "    {\n",
    "        if (czas[i, j] != 0)\n",
    "            TpC <- c(Tp[wymiar-j+1] - czas[i,j], TpC)\n",
    "    }\n",
    "    Tp <- c(Tp, min(TpC))\n",
    "}\n",
    "Tp <- rev(Tp)\n",
    "Tp <- c(0, Tp)\n",
    "#wcześniej pomyliłem chyba tp z tw xDD\n",
    "cat('Tp:\\t\\t', Tw, sep =' ')\n",
    "cat('\\nTw:\\t\\t', Tp, sep =' ')\n",
    "cat('\\nZapas:\\t\\t', Tp - Tw, sep =' ')\n",
    "\n",
    "cat('\\n\\nPrawdp. ujemnego luzu calkowitego:', sep =' ')\n",
    "for (i in (1:wymiar))\n",
    "{\n",
    "    for (j in (1:wymiar))\n",
    "        {\n",
    "            if (i != j && czas[i,j] != 0)\n",
    "                cat('\\n(', i, ',', j, '):\\t', pnorm(0, mean = (Tp[j] - Tw[i]), sd=sqrt(war[i]+war[j])), sep =' ')\n",
    "        }\n",
    "}\n",
    "\n",
    "sciezki <- list()\n",
    "\n",
    "for (j in ((wymiar-1):1))\n",
    "{\n",
    "    sciezka <- c()\n",
    "    for (i in wymiar:j)\n",
    "    {\n",
    "        if (j != 1 && (Tp[j] - Tw[i] - czas[i,j]) == 0)\n",
    "        {\n",
    "            sciezka <- c(sciezka,j)\n",
    "        }\n",
    "    }\n",
    "    if (length(sciezka)>0)\n",
    "        sciezki[[length(sciezki)+1]] <- sciezka\n",
    "}\n",
    "\n",
    "rysujSciezki <- function(sciezki, sciezka, wariancja)\n",
    "{\n",
    "    if (length(sciezki) == 0){\n",
    "        cat('\\n\\nSciezka (aka) krytyczna:\\t\\t1', rev(sciezka), sep = '->')\n",
    "        wariancja <- wariancja + war[1]\n",
    "        cat('\\nWariancja:', round(wariancja,3))\n",
    "        cat('\\nPrawdp przekroczenia ', czasDoPrzekroczenia, ':\\t\\t', pnorm((Tp[wymiar] - czasDoPrzekroczenia)/sqrt(wariancja)), sep='')\n",
    "    } else\n",
    "    {\n",
    "        for (i in sciezki[1])\n",
    "        {\n",
    "            wariancja <- wariancja + war[i]\n",
    "            rysujSciezki(sciezki[-1], c(sciezka, i), wariancja)\n",
    "        }\n",
    "    }\n",
    "}\n",
    "\n",
    "rysujSciezki(sciezki, c(wymiar), war[wymiar])"
   ]
  }
 ],
 "metadata": {
  "kernelspec": {
   "display_name": "R",
   "language": "R",
   "name": "ir"
  },
  "language_info": {
   "codemirror_mode": "r",
   "file_extension": ".r",
   "mimetype": "text/x-r-source",
   "name": "R",
   "pygments_lexer": "r",
   "version": "4.1.0"
  }
 },
 "nbformat": 4,
 "nbformat_minor": 5
}
