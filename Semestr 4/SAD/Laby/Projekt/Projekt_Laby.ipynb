{
 "cells": [
  {
   "cell_type": "markdown",
   "id": "36ba9ac9",
   "metadata": {},
   "source": [
    "# Statystyka i Analiza Danych - zadanie domowe"
   ]
  },
  {
   "cell_type": "code",
   "execution_count": 1,
   "id": "73ab78d5",
   "metadata": {
    "scrolled": false
   },
   "outputs": [
    {
     "name": "stdout",
     "output_type": "stream",
     "text": [
      "'data.frame':\t1615 obs. of  7 variables:\n",
      " $ year     : int  1998 1998 1998 1998 1998 1998 1998 1998 1998 1998 ...\n",
      " $ region   : chr  \"Republic of Adygea\" \"Altai Krai\" \"Amur Oblast\" \"Arkhangelsk Oblast\" ...\n",
      " $ wine     : num  1.9 3.3 2.1 4.3 2.9 1.8 3.4 3.4 1.1 1.5 ...\n",
      " $ beer     : num  8.8 19.2 21.2 10.6 18 17.5 23 32.4 8.8 16.6 ...\n",
      " $ vodka    : num  3.4 11.3 17.3 11.7 9.5 10.7 10.8 9.7 15.8 16.8 ...\n",
      " $ champagne: num  0.3 1.1 0.7 0.4 0.8 0.9 0.9 0.5 0.9 0.5 ...\n",
      " $ brandy   : num  0.1 0.1 0.4 0.3 0.2 0.2 0.1 0.1 0.1 0.1 ...\n"
     ]
    }
   ],
   "source": [
    "raw_data <- read.csv('russia_alcohol.csv')\n",
    "str(raw_data)\n",
    "attach(raw_data)"
   ]
  },
  {
   "cell_type": "code",
   "execution_count": 2,
   "id": "e87a1a45",
   "metadata": {},
   "outputs": [],
   "source": [
    "data <- na.omit(raw_data)\n",
    "detach(raw_data)\n",
    "attach(data)"
   ]
  },
  {
   "cell_type": "code",
   "execution_count": 3,
   "id": "f58dd404",
   "metadata": {},
   "outputs": [
    {
     "name": "stderr",
     "output_type": "stream",
     "text": [
      "Loading required package: lattice\n",
      "\n",
      "\n",
      "Attaching package: ‘BSDA’\n",
      "\n",
      "\n",
      "The following object is masked from ‘package:datasets’:\n",
      "\n",
      "    Orange\n",
      "\n",
      "\n"
     ]
    }
   ],
   "source": [
    "library(\"BSDA\");\n",
    "library(moments)\n",
    "sum_up <- function(X,txt){\n",
    "    cat(txt,\"\\n\")\n",
    "    cat(\"Liczność próby: \", length(X), \"\\n\")\n",
    "    cat(\"Średnia: \", mean(X), \"\\n\")\n",
    "    cat(\"Wariancja: \", var(X), \"\\n\")\n",
    "    cat(\"Odchylenie standardowe: \", sd(X), \"\\n\")\n",
    "    cat(\"Mediana: \", median(X), \"\\n\")\n",
    "    cat(\"Wartość minimalna: \", min(X), \"\\n\")\n",
    "    cat(\"Wartość maksymalna: \", max(X), \"\\n\")\n",
    "    cat(\"Skośność: \", skewness(X), \"\\n\")\n",
    "    cat(\"Kurtoza: \", kurtosis(X), \"\\n\")\n",
    "}"
   ]
  },
  {
   "cell_type": "markdown",
   "id": "a380b5be",
   "metadata": {},
   "source": [
    "# 1. Opis danych.\n",
    "Zbiór danych pochodzi z serwisu kaggle.com (https://www.kaggle.com/dwdkills/alcohol-consumption-in-russia), a został on utworzony na podstawie informacji pochodzących z https://fedstat.ru/. Dane opisują spożycie różnych rodzajów alkoholi per capita w poszczególnych regionach Federacji Rosyjskiej na przestrzeni lat 1998-2016. Przez dopiero niedawne przyłączenie regionów Krymu i konflikty w Czeczeni informacje z tych regionów są niepełne w oryginalnym zbiorze danych. W związku z tym regiony te zostaną pominięte w dalszej analizie. Po usunięciu pustych danych, zbiór zawiera około 1500 rekordów z danymi."
   ]
  },
  {
   "cell_type": "markdown",
   "id": "ed92e381",
   "metadata": {},
   "source": [
    "# 2. Analiza eksploracyjna."
   ]
  },
  {
   "cell_type": "markdown",
   "id": "293b0e6f",
   "metadata": {},
   "source": [
    "### 2.1 Podstawowe statystyki opisowe dla każdego rodzaju alkoholu."
   ]
  },
  {
   "cell_type": "markdown",
   "id": "ba77b425",
   "metadata": {},
   "source": [
    "Liczność próby (taka sama dla każdego rodzaju):"
   ]
  },
  {
   "cell_type": "code",
   "execution_count": 4,
   "id": "844d3e11",
   "metadata": {},
   "outputs": [
    {
     "name": "stdout",
     "output_type": "stream",
     "text": [
      "Piwo: \n",
      "Liczność próby:  1549 \n",
      "Średnia:  51.5172 \n",
      "Wariancja:  634.2283 \n",
      "Odchylenie standardowe:  25.18389 \n",
      "Mediana:  50.1 \n",
      "Wartość minimalna:  1 \n",
      "Wartość maksymalna:  207.3 \n",
      "Skośność:  0.7024307 \n",
      "Kurtoza:  4.794654 \n"
     ]
    }
   ],
   "source": [
    "sum_up(beer,\"Piwo:\")"
   ]
  },
  {
   "cell_type": "code",
   "execution_count": 5,
   "id": "9da227a5",
   "metadata": {},
   "outputs": [
    {
     "name": "stdout",
     "output_type": "stream",
     "text": [
      "Wódka: \n",
      "Liczność próby:  1549 \n",
      "Średnia:  11.85494 \n",
      "Wariancja:  25.98047 \n",
      "Odchylenie standardowe:  5.097104 \n",
      "Mediana:  11.5 \n",
      "Wartość minimalna:  0.4 \n",
      "Wartość maksymalna:  40.6 \n",
      "Skośność:  0.614907 \n",
      "Kurtoza:  4.121038 \n"
     ]
    }
   ],
   "source": [
    "sum_up(vodka,\"Wódka:\")"
   ]
  },
  {
   "cell_type": "code",
   "execution_count": 6,
   "id": "765e56e5",
   "metadata": {},
   "outputs": [
    {
     "name": "stdout",
     "output_type": "stream",
     "text": [
      "Wino: \n",
      "Liczność próby:  1549 \n",
      "Średnia:  5.638528 \n",
      "Wariancja:  7.873659 \n",
      "Odchylenie standardowe:  2.806004 \n",
      "Mediana:  5.4 \n",
      "Wartość minimalna:  0.1 \n",
      "Wartość maksymalna:  18.1 \n",
      "Skośność:  0.7003036 \n",
      "Kurtoza:  3.655648 \n"
     ]
    }
   ],
   "source": [
    "sum_up(wine,\"Wino:\")"
   ]
  },
  {
   "cell_type": "code",
   "execution_count": 7,
   "id": "674deba3",
   "metadata": {},
   "outputs": [
    {
     "name": "stdout",
     "output_type": "stream",
     "text": [
      "Szampan: \n",
      "Liczność próby:  1549 \n",
      "Średnia:  1.315526 \n",
      "Wariancja:  0.6351095 \n",
      "Odchylenie standardowe:  0.7969376 \n",
      "Mediana:  1.2 \n",
      "Wartość minimalna:  0.1 \n",
      "Wartość maksymalna:  5.56 \n",
      "Skośność:  1.618024 \n",
      "Kurtoza:  7.066824 \n"
     ]
    }
   ],
   "source": [
    "sum_up(champagne,\"Szampan:\")"
   ]
  },
  {
   "cell_type": "code",
   "execution_count": 8,
   "id": "df66c11d",
   "metadata": {},
   "outputs": [
    {
     "name": "stdout",
     "output_type": "stream",
     "text": [
      "Brandy: \n",
      "Liczność próby:  1549 \n",
      "Średnia:  0.5269981 \n",
      "Wariancja:  0.1601608 \n",
      "Odchylenie standardowe:  0.400201 \n",
      "Mediana:  0.4 \n",
      "Wartość minimalna:  0 \n",
      "Wartość maksymalna:  2.3 \n",
      "Skośność:  1.386129 \n",
      "Kurtoza:  4.858891 \n"
     ]
    }
   ],
   "source": [
    "sum_up(brandy,\"Brandy:\")"
   ]
  },
  {
   "cell_type": "markdown",
   "id": "c8e2e2b3",
   "metadata": {},
   "source": [
    "Z podstawowych statystyk można wywnioskować, że największym powodzeniem wśród Rosjan w latach 1998-2016 cieszyło się piwo - biorąc pod uwagę samą objętość trunku, wypili oni około 5 razy więcej piwa niż wódki.\n",
    "Gdyby jednak wziąć pod uwagę średnią zawartość alkoholu w tych trunkach (5% dla piwa, 40% dla wódki), wódka wygrywa niemal dwukrotnie. Spożycie piwa cechowało się też największym zróżnicowaniem pod względem ilości - rozstęp to niemal 206 litrów per capita, a odchylenie standardowe 25 litrów per capita."
   ]
  },
  {
   "cell_type": "markdown",
   "id": "6b4139f3",
   "metadata": {},
   "source": [
    "### 2.2 Średnie spożycie czystego alkoholu w piwie i wódce."
   ]
  },
  {
   "cell_type": "code",
   "execution_count": 9,
   "id": "e3105ac1",
   "metadata": {},
   "outputs": [
    {
     "name": "stdout",
     "output_type": "stream",
     "text": [
      "Średnie spożycie alkoholu w piwie: 2.57586 \n",
      "Średnie spożycie alkoholu w wódce: 4.741975 \n"
     ]
    }
   ],
   "source": [
    "beer_alc <- 0.05*mean(beer)\n",
    "vodka_alc <- 0.40*mean(vodka)\n",
    "cat(\"Średnie spożycie alkoholu w piwie:\", beer_alc,\"\\n\")\n",
    "cat(\"Średnie spożycie alkoholu w wódce:\", vodka_alc, \"\\n\")"
   ]
  },
  {
   "cell_type": "markdown",
   "id": "f44ddc54",
   "metadata": {},
   "source": [
    "### 2.3. Spożycie poszczególnych rodzajów alkoholu według regionu.\n"
   ]
  },
  {
   "cell_type": "code",
   "execution_count": 10,
   "id": "56c367a5",
   "metadata": {
    "scrolled": false
   },
   "outputs": [
    {
     "data": {
      "text/html": [
       "<table class=\"dataframe\">\n",
       "<caption>A data.frame: 10 × 2</caption>\n",
       "<thead>\n",
       "\t<tr><th></th><th scope=col>region</th><th scope=col>beer</th></tr>\n",
       "\t<tr><th></th><th scope=col>&lt;chr&gt;</th><th scope=col>&lt;dbl&gt;</th></tr>\n",
       "</thead>\n",
       "<tbody>\n",
       "\t<tr><th scope=row>61</th><td>Saint Petersburg                     </td><td>84.37526</td></tr>\n",
       "\t<tr><th scope=row>33</th><td>Moscow                               </td><td>83.68842</td></tr>\n",
       "\t<tr><th scope=row>82</th><td>Yamalo-Nenets Autonomous Okrug       </td><td>80.13789</td></tr>\n",
       "\t<tr><th scope=row>75</th><td>Tyumen Oblast                        </td><td>76.95000</td></tr>\n",
       "\t<tr><th scope=row>40</th><td>Omsk Oblast                          </td><td>76.64368</td></tr>\n",
       "\t<tr><th scope=row>8</th><td>Chelyabinsk Oblast                   </td><td>74.14737</td></tr>\n",
       "\t<tr><th scope=row>21</th><td>Khanty–Mansi Autonomous Okrug – Yugra</td><td>73.84526</td></tr>\n",
       "\t<tr><th scope=row>12</th><td>Ivanovo Oblast                       </td><td>73.00105</td></tr>\n",
       "\t<tr><th scope=row>69</th><td>Sverdlovsk Oblast                    </td><td>71.95895</td></tr>\n",
       "\t<tr><th scope=row>20</th><td>Khabarovsk Krai                      </td><td>70.19158</td></tr>\n",
       "</tbody>\n",
       "</table>\n"
      ],
      "text/latex": [
       "A data.frame: 10 × 2\n",
       "\\begin{tabular}{r|ll}\n",
       "  & region & beer\\\\\n",
       "  & <chr> & <dbl>\\\\\n",
       "\\hline\n",
       "\t61 & Saint Petersburg                      & 84.37526\\\\\n",
       "\t33 & Moscow                                & 83.68842\\\\\n",
       "\t82 & Yamalo-Nenets Autonomous Okrug        & 80.13789\\\\\n",
       "\t75 & Tyumen Oblast                         & 76.95000\\\\\n",
       "\t40 & Omsk Oblast                           & 76.64368\\\\\n",
       "\t8 & Chelyabinsk Oblast                    & 74.14737\\\\\n",
       "\t21 & Khanty–Mansi Autonomous Okrug – Yugra & 73.84526\\\\\n",
       "\t12 & Ivanovo Oblast                        & 73.00105\\\\\n",
       "\t69 & Sverdlovsk Oblast                     & 71.95895\\\\\n",
       "\t20 & Khabarovsk Krai                       & 70.19158\\\\\n",
       "\\end{tabular}\n"
      ],
      "text/markdown": [
       "\n",
       "A data.frame: 10 × 2\n",
       "\n",
       "| <!--/--> | region &lt;chr&gt; | beer &lt;dbl&gt; |\n",
       "|---|---|---|\n",
       "| 61 | Saint Petersburg                      | 84.37526 |\n",
       "| 33 | Moscow                                | 83.68842 |\n",
       "| 82 | Yamalo-Nenets Autonomous Okrug        | 80.13789 |\n",
       "| 75 | Tyumen Oblast                         | 76.95000 |\n",
       "| 40 | Omsk Oblast                           | 76.64368 |\n",
       "| 8 | Chelyabinsk Oblast                    | 74.14737 |\n",
       "| 21 | Khanty–Mansi Autonomous Okrug – Yugra | 73.84526 |\n",
       "| 12 | Ivanovo Oblast                        | 73.00105 |\n",
       "| 69 | Sverdlovsk Oblast                     | 71.95895 |\n",
       "| 20 | Khabarovsk Krai                       | 70.19158 |\n",
       "\n"
      ],
      "text/plain": [
       "   region                                beer    \n",
       "61 Saint Petersburg                      84.37526\n",
       "33 Moscow                                83.68842\n",
       "82 Yamalo-Nenets Autonomous Okrug        80.13789\n",
       "75 Tyumen Oblast                         76.95000\n",
       "40 Omsk Oblast                           76.64368\n",
       "8  Chelyabinsk Oblast                    74.14737\n",
       "21 Khanty–Mansi Autonomous Okrug – Yugra 73.84526\n",
       "12 Ivanovo Oblast                        73.00105\n",
       "69 Sverdlovsk Oblast                     71.95895\n",
       "20 Khabarovsk Krai                       70.19158"
      ]
     },
     "metadata": {},
     "output_type": "display_data"
    },
    {
     "data": {
      "text/html": [
       "<table class=\"dataframe\">\n",
       "<caption>A data.frame: 10 × 2</caption>\n",
       "<thead>\n",
       "\t<tr><th></th><th scope=col>region</th><th scope=col>vodka</th></tr>\n",
       "\t<tr><th></th><th scope=col>&lt;chr&gt;</th><th scope=col>&lt;dbl&gt;</th></tr>\n",
       "</thead>\n",
       "<tbody>\n",
       "\t<tr><th scope=row>23</th><td>Komi Republic          </td><td>20.65421</td></tr>\n",
       "\t<tr><th scope=row>17</th><td>Kamchatka Krai         </td><td>19.71211</td></tr>\n",
       "\t<tr><th scope=row>33</th><td>Moscow                 </td><td>19.02211</td></tr>\n",
       "\t<tr><th scope=row>31</th><td>Magadan Oblast         </td><td>18.73316</td></tr>\n",
       "\t<tr><th scope=row>63</th><td>Sakhalin Oblast        </td><td>18.17947</td></tr>\n",
       "\t<tr><th scope=row>36</th><td>Nenets Autonomous Okrug</td><td>17.84684</td></tr>\n",
       "\t<tr><th scope=row>4</th><td>Arkhangelsk Oblast     </td><td>17.38105</td></tr>\n",
       "\t<tr><th scope=row>80</th><td>Vologda Oblast         </td><td>17.21789</td></tr>\n",
       "\t<tr><th scope=row>35</th><td>Murmansk Oblast        </td><td>16.69474</td></tr>\n",
       "\t<tr><th scope=row>29</th><td>Leningrad Oblast       </td><td>15.80947</td></tr>\n",
       "</tbody>\n",
       "</table>\n"
      ],
      "text/latex": [
       "A data.frame: 10 × 2\n",
       "\\begin{tabular}{r|ll}\n",
       "  & region & vodka\\\\\n",
       "  & <chr> & <dbl>\\\\\n",
       "\\hline\n",
       "\t23 & Komi Republic           & 20.65421\\\\\n",
       "\t17 & Kamchatka Krai          & 19.71211\\\\\n",
       "\t33 & Moscow                  & 19.02211\\\\\n",
       "\t31 & Magadan Oblast          & 18.73316\\\\\n",
       "\t63 & Sakhalin Oblast         & 18.17947\\\\\n",
       "\t36 & Nenets Autonomous Okrug & 17.84684\\\\\n",
       "\t4 & Arkhangelsk Oblast      & 17.38105\\\\\n",
       "\t80 & Vologda Oblast          & 17.21789\\\\\n",
       "\t35 & Murmansk Oblast         & 16.69474\\\\\n",
       "\t29 & Leningrad Oblast        & 15.80947\\\\\n",
       "\\end{tabular}\n"
      ],
      "text/markdown": [
       "\n",
       "A data.frame: 10 × 2\n",
       "\n",
       "| <!--/--> | region &lt;chr&gt; | vodka &lt;dbl&gt; |\n",
       "|---|---|---|\n",
       "| 23 | Komi Republic           | 20.65421 |\n",
       "| 17 | Kamchatka Krai          | 19.71211 |\n",
       "| 33 | Moscow                  | 19.02211 |\n",
       "| 31 | Magadan Oblast          | 18.73316 |\n",
       "| 63 | Sakhalin Oblast         | 18.17947 |\n",
       "| 36 | Nenets Autonomous Okrug | 17.84684 |\n",
       "| 4 | Arkhangelsk Oblast      | 17.38105 |\n",
       "| 80 | Vologda Oblast          | 17.21789 |\n",
       "| 35 | Murmansk Oblast         | 16.69474 |\n",
       "| 29 | Leningrad Oblast        | 15.80947 |\n",
       "\n"
      ],
      "text/plain": [
       "   region                  vodka   \n",
       "23 Komi Republic           20.65421\n",
       "17 Kamchatka Krai          19.71211\n",
       "33 Moscow                  19.02211\n",
       "31 Magadan Oblast          18.73316\n",
       "63 Sakhalin Oblast         18.17947\n",
       "36 Nenets Autonomous Okrug 17.84684\n",
       "4  Arkhangelsk Oblast      17.38105\n",
       "80 Vologda Oblast          17.21789\n",
       "35 Murmansk Oblast         16.69474\n",
       "29 Leningrad Oblast        15.80947"
      ]
     },
     "metadata": {},
     "output_type": "display_data"
    },
    {
     "data": {
      "text/html": [
       "<table class=\"dataframe\">\n",
       "<caption>A data.frame: 10 × 2</caption>\n",
       "<thead>\n",
       "\t<tr><th></th><th scope=col>region</th><th scope=col>wine</th></tr>\n",
       "\t<tr><th></th><th scope=col>&lt;chr&gt;</th><th scope=col>&lt;dbl&gt;</th></tr>\n",
       "</thead>\n",
       "<tbody>\n",
       "\t<tr><th scope=row>54</th><td>Republic of Karelia    </td><td>10.762105</td></tr>\n",
       "\t<tr><th scope=row>46</th><td>Pskov Oblast           </td><td>10.307895</td></tr>\n",
       "\t<tr><th scope=row>80</th><td>Vologda Oblast         </td><td> 9.328421</td></tr>\n",
       "\t<tr><th scope=row>23</th><td>Komi Republic          </td><td> 9.223684</td></tr>\n",
       "\t<tr><th scope=row>38</th><td>Novgorod Oblast        </td><td> 9.184737</td></tr>\n",
       "\t<tr><th scope=row>36</th><td>Nenets Autonomous Okrug</td><td> 8.985789</td></tr>\n",
       "\t<tr><th scope=row>4</th><td>Arkhangelsk Oblast     </td><td> 8.670000</td></tr>\n",
       "\t<tr><th scope=row>35</th><td>Murmansk Oblast        </td><td> 7.853684</td></tr>\n",
       "\t<tr><th scope=row>29</th><td>Leningrad Oblast       </td><td> 7.786316</td></tr>\n",
       "\t<tr><th scope=row>22</th><td>Kirov Oblast           </td><td> 7.733158</td></tr>\n",
       "</tbody>\n",
       "</table>\n"
      ],
      "text/latex": [
       "A data.frame: 10 × 2\n",
       "\\begin{tabular}{r|ll}\n",
       "  & region & wine\\\\\n",
       "  & <chr> & <dbl>\\\\\n",
       "\\hline\n",
       "\t54 & Republic of Karelia     & 10.762105\\\\\n",
       "\t46 & Pskov Oblast            & 10.307895\\\\\n",
       "\t80 & Vologda Oblast          &  9.328421\\\\\n",
       "\t23 & Komi Republic           &  9.223684\\\\\n",
       "\t38 & Novgorod Oblast         &  9.184737\\\\\n",
       "\t36 & Nenets Autonomous Okrug &  8.985789\\\\\n",
       "\t4 & Arkhangelsk Oblast      &  8.670000\\\\\n",
       "\t35 & Murmansk Oblast         &  7.853684\\\\\n",
       "\t29 & Leningrad Oblast        &  7.786316\\\\\n",
       "\t22 & Kirov Oblast            &  7.733158\\\\\n",
       "\\end{tabular}\n"
      ],
      "text/markdown": [
       "\n",
       "A data.frame: 10 × 2\n",
       "\n",
       "| <!--/--> | region &lt;chr&gt; | wine &lt;dbl&gt; |\n",
       "|---|---|---|\n",
       "| 54 | Republic of Karelia     | 10.762105 |\n",
       "| 46 | Pskov Oblast            | 10.307895 |\n",
       "| 80 | Vologda Oblast          |  9.328421 |\n",
       "| 23 | Komi Republic           |  9.223684 |\n",
       "| 38 | Novgorod Oblast         |  9.184737 |\n",
       "| 36 | Nenets Autonomous Okrug |  8.985789 |\n",
       "| 4 | Arkhangelsk Oblast      |  8.670000 |\n",
       "| 35 | Murmansk Oblast         |  7.853684 |\n",
       "| 29 | Leningrad Oblast        |  7.786316 |\n",
       "| 22 | Kirov Oblast            |  7.733158 |\n",
       "\n"
      ],
      "text/plain": [
       "   region                  wine     \n",
       "54 Republic of Karelia     10.762105\n",
       "46 Pskov Oblast            10.307895\n",
       "80 Vologda Oblast           9.328421\n",
       "23 Komi Republic            9.223684\n",
       "38 Novgorod Oblast          9.184737\n",
       "36 Nenets Autonomous Okrug  8.985789\n",
       "4  Arkhangelsk Oblast       8.670000\n",
       "35 Murmansk Oblast          7.853684\n",
       "29 Leningrad Oblast         7.786316\n",
       "22 Kirov Oblast             7.733158"
      ]
     },
     "metadata": {},
     "output_type": "display_data"
    },
    {
     "data": {
      "text/html": [
       "<table class=\"dataframe\">\n",
       "<caption>A data.frame: 10 × 2</caption>\n",
       "<thead>\n",
       "\t<tr><th></th><th scope=col>region</th><th scope=col>champagne</th></tr>\n",
       "\t<tr><th></th><th scope=col>&lt;chr&gt;</th><th scope=col>&lt;dbl&gt;</th></tr>\n",
       "</thead>\n",
       "<tbody>\n",
       "\t<tr><th scope=row>33</th><td>Moscow                   </td><td>4.386316</td></tr>\n",
       "\t<tr><th scope=row>31</th><td>Magadan Oblast           </td><td>2.934737</td></tr>\n",
       "\t<tr><th scope=row>17</th><td>Kamchatka Krai           </td><td>2.736842</td></tr>\n",
       "\t<tr><th scope=row>61</th><td>Saint Petersburg         </td><td>2.468947</td></tr>\n",
       "\t<tr><th scope=row>63</th><td>Sakhalin Oblast          </td><td>2.420526</td></tr>\n",
       "\t<tr><th scope=row>35</th><td>Murmansk Oblast          </td><td>2.406316</td></tr>\n",
       "\t<tr><th scope=row>29</th><td>Leningrad Oblast         </td><td>2.090526</td></tr>\n",
       "\t<tr><th scope=row>9</th><td>Chukotka Autonomous Okrug</td><td>2.057895</td></tr>\n",
       "\t<tr><th scope=row>20</th><td>Khabarovsk Krai          </td><td>1.977895</td></tr>\n",
       "\t<tr><th scope=row>66</th><td>Sevastopol               </td><td>1.966667</td></tr>\n",
       "</tbody>\n",
       "</table>\n"
      ],
      "text/latex": [
       "A data.frame: 10 × 2\n",
       "\\begin{tabular}{r|ll}\n",
       "  & region & champagne\\\\\n",
       "  & <chr> & <dbl>\\\\\n",
       "\\hline\n",
       "\t33 & Moscow                    & 4.386316\\\\\n",
       "\t31 & Magadan Oblast            & 2.934737\\\\\n",
       "\t17 & Kamchatka Krai            & 2.736842\\\\\n",
       "\t61 & Saint Petersburg          & 2.468947\\\\\n",
       "\t63 & Sakhalin Oblast           & 2.420526\\\\\n",
       "\t35 & Murmansk Oblast           & 2.406316\\\\\n",
       "\t29 & Leningrad Oblast          & 2.090526\\\\\n",
       "\t9 & Chukotka Autonomous Okrug & 2.057895\\\\\n",
       "\t20 & Khabarovsk Krai           & 1.977895\\\\\n",
       "\t66 & Sevastopol                & 1.966667\\\\\n",
       "\\end{tabular}\n"
      ],
      "text/markdown": [
       "\n",
       "A data.frame: 10 × 2\n",
       "\n",
       "| <!--/--> | region &lt;chr&gt; | champagne &lt;dbl&gt; |\n",
       "|---|---|---|\n",
       "| 33 | Moscow                    | 4.386316 |\n",
       "| 31 | Magadan Oblast            | 2.934737 |\n",
       "| 17 | Kamchatka Krai            | 2.736842 |\n",
       "| 61 | Saint Petersburg          | 2.468947 |\n",
       "| 63 | Sakhalin Oblast           | 2.420526 |\n",
       "| 35 | Murmansk Oblast           | 2.406316 |\n",
       "| 29 | Leningrad Oblast          | 2.090526 |\n",
       "| 9 | Chukotka Autonomous Okrug | 2.057895 |\n",
       "| 20 | Khabarovsk Krai           | 1.977895 |\n",
       "| 66 | Sevastopol                | 1.966667 |\n",
       "\n"
      ],
      "text/plain": [
       "   region                    champagne\n",
       "33 Moscow                    4.386316 \n",
       "31 Magadan Oblast            2.934737 \n",
       "17 Kamchatka Krai            2.736842 \n",
       "61 Saint Petersburg          2.468947 \n",
       "63 Sakhalin Oblast           2.420526 \n",
       "35 Murmansk Oblast           2.406316 \n",
       "29 Leningrad Oblast          2.090526 \n",
       "9  Chukotka Autonomous Okrug 2.057895 \n",
       "20 Khabarovsk Krai           1.977895 \n",
       "66 Sevastopol                1.966667 "
      ]
     },
     "metadata": {},
     "output_type": "display_data"
    },
    {
     "data": {
      "text/html": [
       "<table class=\"dataframe\">\n",
       "<caption>A data.frame: 10 × 2</caption>\n",
       "<thead>\n",
       "\t<tr><th></th><th scope=col>region</th><th scope=col>brandy</th></tr>\n",
       "\t<tr><th></th><th scope=col>&lt;chr&gt;</th><th scope=col>&lt;dbl&gt;</th></tr>\n",
       "</thead>\n",
       "<tbody>\n",
       "\t<tr><th scope=row>33</th><td>Moscow                        </td><td>1.2578947</td></tr>\n",
       "\t<tr><th scope=row>17</th><td>Kamchatka Krai                </td><td>1.2452632</td></tr>\n",
       "\t<tr><th scope=row>15</th><td>Kaliningrad Oblast            </td><td>1.2384211</td></tr>\n",
       "\t<tr><th scope=row>35</th><td>Murmansk Oblast               </td><td>1.1273684</td></tr>\n",
       "\t<tr><th scope=row>61</th><td>Saint Petersburg              </td><td>1.1173684</td></tr>\n",
       "\t<tr><th scope=row>66</th><td>Sevastopol                    </td><td>1.1000000</td></tr>\n",
       "\t<tr><th scope=row>29</th><td>Leningrad Oblast              </td><td>1.0221053</td></tr>\n",
       "\t<tr><th scope=row>34</th><td>Moscow Oblast                 </td><td>1.0005263</td></tr>\n",
       "\t<tr><th scope=row>31</th><td>Magadan Oblast                </td><td>0.9894737</td></tr>\n",
       "\t<tr><th scope=row>82</th><td>Yamalo-Nenets Autonomous Okrug</td><td>0.9515789</td></tr>\n",
       "</tbody>\n",
       "</table>\n"
      ],
      "text/latex": [
       "A data.frame: 10 × 2\n",
       "\\begin{tabular}{r|ll}\n",
       "  & region & brandy\\\\\n",
       "  & <chr> & <dbl>\\\\\n",
       "\\hline\n",
       "\t33 & Moscow                         & 1.2578947\\\\\n",
       "\t17 & Kamchatka Krai                 & 1.2452632\\\\\n",
       "\t15 & Kaliningrad Oblast             & 1.2384211\\\\\n",
       "\t35 & Murmansk Oblast                & 1.1273684\\\\\n",
       "\t61 & Saint Petersburg               & 1.1173684\\\\\n",
       "\t66 & Sevastopol                     & 1.1000000\\\\\n",
       "\t29 & Leningrad Oblast               & 1.0221053\\\\\n",
       "\t34 & Moscow Oblast                  & 1.0005263\\\\\n",
       "\t31 & Magadan Oblast                 & 0.9894737\\\\\n",
       "\t82 & Yamalo-Nenets Autonomous Okrug & 0.9515789\\\\\n",
       "\\end{tabular}\n"
      ],
      "text/markdown": [
       "\n",
       "A data.frame: 10 × 2\n",
       "\n",
       "| <!--/--> | region &lt;chr&gt; | brandy &lt;dbl&gt; |\n",
       "|---|---|---|\n",
       "| 33 | Moscow                         | 1.2578947 |\n",
       "| 17 | Kamchatka Krai                 | 1.2452632 |\n",
       "| 15 | Kaliningrad Oblast             | 1.2384211 |\n",
       "| 35 | Murmansk Oblast                | 1.1273684 |\n",
       "| 61 | Saint Petersburg               | 1.1173684 |\n",
       "| 66 | Sevastopol                     | 1.1000000 |\n",
       "| 29 | Leningrad Oblast               | 1.0221053 |\n",
       "| 34 | Moscow Oblast                  | 1.0005263 |\n",
       "| 31 | Magadan Oblast                 | 0.9894737 |\n",
       "| 82 | Yamalo-Nenets Autonomous Okrug | 0.9515789 |\n",
       "\n"
      ],
      "text/plain": [
       "   region                         brandy   \n",
       "33 Moscow                         1.2578947\n",
       "17 Kamchatka Krai                 1.2452632\n",
       "15 Kaliningrad Oblast             1.2384211\n",
       "35 Murmansk Oblast                1.1273684\n",
       "61 Saint Petersburg               1.1173684\n",
       "66 Sevastopol                     1.1000000\n",
       "29 Leningrad Oblast               1.0221053\n",
       "34 Moscow Oblast                  1.0005263\n",
       "31 Magadan Oblast                 0.9894737\n",
       "82 Yamalo-Nenets Autonomous Okrug 0.9515789"
      ]
     },
     "metadata": {},
     "output_type": "display_data"
    }
   ],
   "source": [
    "beer_region <- aggregate(beer ~ region, data, mean)\n",
    "head(beer_region[order(beer_region[,2],decreasing=TRUE),], 10)\n",
    "\n",
    "vodka_region <- aggregate(vodka ~ region, data, mean)\n",
    "head(vodka_region[order(vodka_region[,2],decreasing=TRUE),], 10)\n",
    "\n",
    "wine_region <- aggregate(wine ~ region, data, mean)\n",
    "head(wine_region[order(wine_region[,2],decreasing=TRUE),], 10)\n",
    "\n",
    "champagne_region <- aggregate(champagne ~ region, data, mean)\n",
    "head(champagne_region[order(champagne_region[,2],decreasing=TRUE),], 10)\n",
    "\n",
    "brandy_region <- aggregate(brandy ~ region, data, mean)\n",
    "head(brandy_region[order(brandy_region[,2],decreasing=TRUE),], 10)"
   ]
  },
  {
   "cell_type": "markdown",
   "id": "2adb982b",
   "metadata": {},
   "source": [
    "### 2.4 Regiony, w których łącznie wypito najwięcej alkoholu per capita."
   ]
  },
  {
   "cell_type": "code",
   "execution_count": 11,
   "id": "8966ea40",
   "metadata": {},
   "outputs": [
    {
     "data": {
      "text/html": [
       "<table class=\"dataframe\">\n",
       "<caption>A data.frame: 10 × 2</caption>\n",
       "<thead>\n",
       "\t<tr><th></th><th scope=col>Group.1</th><th scope=col>x</th></tr>\n",
       "\t<tr><th></th><th scope=col>&lt;chr&gt;</th><th scope=col>&lt;dbl&gt;</th></tr>\n",
       "</thead>\n",
       "<tbody>\n",
       "\t<tr><th scope=row>33</th><td>Moscow                               </td><td>115.73632</td></tr>\n",
       "\t<tr><th scope=row>61</th><td>Saint Petersburg                     </td><td>106.73579</td></tr>\n",
       "\t<tr><th scope=row>82</th><td>Yamalo-Nenets Autonomous Okrug       </td><td>102.98053</td></tr>\n",
       "\t<tr><th scope=row>75</th><td>Tyumen Oblast                        </td><td> 99.58579</td></tr>\n",
       "\t<tr><th scope=row>23</th><td>Komi Republic                        </td><td> 98.12947</td></tr>\n",
       "\t<tr><th scope=row>21</th><td>Khanty–Mansi Autonomous Okrug – Yugra</td><td> 96.54895</td></tr>\n",
       "\t<tr><th scope=row>8</th><td>Chelyabinsk Oblast                   </td><td> 96.06105</td></tr>\n",
       "\t<tr><th scope=row>80</th><td>Vologda Oblast                       </td><td> 95.12842</td></tr>\n",
       "\t<tr><th scope=row>69</th><td>Sverdlovsk Oblast                    </td><td> 94.95526</td></tr>\n",
       "\t<tr><th scope=row>12</th><td>Ivanovo Oblast                       </td><td> 93.91526</td></tr>\n",
       "</tbody>\n",
       "</table>\n"
      ],
      "text/latex": [
       "A data.frame: 10 × 2\n",
       "\\begin{tabular}{r|ll}\n",
       "  & Group.1 & x\\\\\n",
       "  & <chr> & <dbl>\\\\\n",
       "\\hline\n",
       "\t33 & Moscow                                & 115.73632\\\\\n",
       "\t61 & Saint Petersburg                      & 106.73579\\\\\n",
       "\t82 & Yamalo-Nenets Autonomous Okrug        & 102.98053\\\\\n",
       "\t75 & Tyumen Oblast                         &  99.58579\\\\\n",
       "\t23 & Komi Republic                         &  98.12947\\\\\n",
       "\t21 & Khanty–Mansi Autonomous Okrug – Yugra &  96.54895\\\\\n",
       "\t8 & Chelyabinsk Oblast                    &  96.06105\\\\\n",
       "\t80 & Vologda Oblast                        &  95.12842\\\\\n",
       "\t69 & Sverdlovsk Oblast                     &  94.95526\\\\\n",
       "\t12 & Ivanovo Oblast                        &  93.91526\\\\\n",
       "\\end{tabular}\n"
      ],
      "text/markdown": [
       "\n",
       "A data.frame: 10 × 2\n",
       "\n",
       "| <!--/--> | Group.1 &lt;chr&gt; | x &lt;dbl&gt; |\n",
       "|---|---|---|\n",
       "| 33 | Moscow                                | 115.73632 |\n",
       "| 61 | Saint Petersburg                      | 106.73579 |\n",
       "| 82 | Yamalo-Nenets Autonomous Okrug        | 102.98053 |\n",
       "| 75 | Tyumen Oblast                         |  99.58579 |\n",
       "| 23 | Komi Republic                         |  98.12947 |\n",
       "| 21 | Khanty–Mansi Autonomous Okrug – Yugra |  96.54895 |\n",
       "| 8 | Chelyabinsk Oblast                    |  96.06105 |\n",
       "| 80 | Vologda Oblast                        |  95.12842 |\n",
       "| 69 | Sverdlovsk Oblast                     |  94.95526 |\n",
       "| 12 | Ivanovo Oblast                        |  93.91526 |\n",
       "\n"
      ],
      "text/plain": [
       "   Group.1                               x        \n",
       "33 Moscow                                115.73632\n",
       "61 Saint Petersburg                      106.73579\n",
       "82 Yamalo-Nenets Autonomous Okrug        102.98053\n",
       "75 Tyumen Oblast                          99.58579\n",
       "23 Komi Republic                          98.12947\n",
       "21 Khanty–Mansi Autonomous Okrug – Yugra  96.54895\n",
       "8  Chelyabinsk Oblast                     96.06105\n",
       "80 Vologda Oblast                         95.12842\n",
       "69 Sverdlovsk Oblast                      94.95526\n",
       "12 Ivanovo Oblast                         93.91526"
      ]
     },
     "metadata": {},
     "output_type": "display_data"
    }
   ],
   "source": [
    "total_by_region <- aggregate(x = data$beer+data$vodka+data$wine+data$champagne+data$brandy,                \n",
    "          by = list(data$region),              \n",
    "          FUN = sum)\n",
    "total_by_region$x <- total_by_region$x/19  #19 lat danych\n",
    "head(total_by_region[order(total_by_region[,2],decreasing=TRUE),], 10)"
   ]
  },
  {
   "cell_type": "markdown",
   "id": "3ccf6cdf",
   "metadata": {},
   "source": [
    "### 2.5 Spożycie poszczególnych rodzajów alkoholu na przestrzeni lat."
   ]
  },
  {
   "cell_type": "code",
   "execution_count": 12,
   "id": "2fd8cc75",
   "metadata": {
    "scrolled": false
   },
   "outputs": [
    {
     "data": {
      "text/html": [
       "<table class=\"dataframe\">\n",
       "<caption>A data.frame: 10 × 2</caption>\n",
       "<thead>\n",
       "\t<tr><th></th><th scope=col>year</th><th scope=col>beer</th></tr>\n",
       "\t<tr><th></th><th scope=col>&lt;int&gt;</th><th scope=col>&lt;dbl&gt;</th></tr>\n",
       "</thead>\n",
       "<tbody>\n",
       "\t<tr><th scope=row>15</th><td>2012</td><td>65.96049</td></tr>\n",
       "\t<tr><th scope=row>11</th><td>2008</td><td>65.44568</td></tr>\n",
       "\t<tr><th scope=row>14</th><td>2011</td><td>64.64259</td></tr>\n",
       "\t<tr><th scope=row>12</th><td>2009</td><td>63.82099</td></tr>\n",
       "\t<tr><th scope=row>16</th><td>2013</td><td>63.66543</td></tr>\n",
       "\t<tr><th scope=row>13</th><td>2010</td><td>63.39383</td></tr>\n",
       "\t<tr><th scope=row>10</th><td>2007</td><td>62.76420</td></tr>\n",
       "\t<tr><th scope=row>9</th><td>2006</td><td>62.28519</td></tr>\n",
       "\t<tr><th scope=row>17</th><td>2014</td><td>56.72771</td></tr>\n",
       "\t<tr><th scope=row>8</th><td>2005</td><td>55.16049</td></tr>\n",
       "</tbody>\n",
       "</table>\n"
      ],
      "text/latex": [
       "A data.frame: 10 × 2\n",
       "\\begin{tabular}{r|ll}\n",
       "  & year & beer\\\\\n",
       "  & <int> & <dbl>\\\\\n",
       "\\hline\n",
       "\t15 & 2012 & 65.96049\\\\\n",
       "\t11 & 2008 & 65.44568\\\\\n",
       "\t14 & 2011 & 64.64259\\\\\n",
       "\t12 & 2009 & 63.82099\\\\\n",
       "\t16 & 2013 & 63.66543\\\\\n",
       "\t13 & 2010 & 63.39383\\\\\n",
       "\t10 & 2007 & 62.76420\\\\\n",
       "\t9 & 2006 & 62.28519\\\\\n",
       "\t17 & 2014 & 56.72771\\\\\n",
       "\t8 & 2005 & 55.16049\\\\\n",
       "\\end{tabular}\n"
      ],
      "text/markdown": [
       "\n",
       "A data.frame: 10 × 2\n",
       "\n",
       "| <!--/--> | year &lt;int&gt; | beer &lt;dbl&gt; |\n",
       "|---|---|---|\n",
       "| 15 | 2012 | 65.96049 |\n",
       "| 11 | 2008 | 65.44568 |\n",
       "| 14 | 2011 | 64.64259 |\n",
       "| 12 | 2009 | 63.82099 |\n",
       "| 16 | 2013 | 63.66543 |\n",
       "| 13 | 2010 | 63.39383 |\n",
       "| 10 | 2007 | 62.76420 |\n",
       "| 9 | 2006 | 62.28519 |\n",
       "| 17 | 2014 | 56.72771 |\n",
       "| 8 | 2005 | 55.16049 |\n",
       "\n"
      ],
      "text/plain": [
       "   year beer    \n",
       "15 2012 65.96049\n",
       "11 2008 65.44568\n",
       "14 2011 64.64259\n",
       "12 2009 63.82099\n",
       "16 2013 63.66543\n",
       "13 2010 63.39383\n",
       "10 2007 62.76420\n",
       "9  2006 62.28519\n",
       "17 2014 56.72771\n",
       "8  2005 55.16049"
      ]
     },
     "metadata": {},
     "output_type": "display_data"
    },
    {
     "data": {
      "text/html": [
       "<table class=\"dataframe\">\n",
       "<caption>A data.frame: 10 × 2</caption>\n",
       "<thead>\n",
       "\t<tr><th></th><th scope=col>year</th><th scope=col>vodka</th></tr>\n",
       "\t<tr><th></th><th scope=col>&lt;int&gt;</th><th scope=col>&lt;dbl&gt;</th></tr>\n",
       "</thead>\n",
       "<tbody>\n",
       "\t<tr><th scope=row>5</th><td>2002</td><td>14.78780</td></tr>\n",
       "\t<tr><th scope=row>6</th><td>2003</td><td>14.51829</td></tr>\n",
       "\t<tr><th scope=row>7</th><td>2004</td><td>14.33415</td></tr>\n",
       "\t<tr><th scope=row>4</th><td>2001</td><td>14.23902</td></tr>\n",
       "\t<tr><th scope=row>8</th><td>2005</td><td>13.83333</td></tr>\n",
       "\t<tr><th scope=row>3</th><td>2000</td><td>13.57284</td></tr>\n",
       "\t<tr><th scope=row>2</th><td>1999</td><td>13.46914</td></tr>\n",
       "\t<tr><th scope=row>9</th><td>2006</td><td>13.23580</td></tr>\n",
       "\t<tr><th scope=row>1</th><td>1998</td><td>12.66914</td></tr>\n",
       "\t<tr><th scope=row>10</th><td>2007</td><td>12.47901</td></tr>\n",
       "</tbody>\n",
       "</table>\n"
      ],
      "text/latex": [
       "A data.frame: 10 × 2\n",
       "\\begin{tabular}{r|ll}\n",
       "  & year & vodka\\\\\n",
       "  & <int> & <dbl>\\\\\n",
       "\\hline\n",
       "\t5 & 2002 & 14.78780\\\\\n",
       "\t6 & 2003 & 14.51829\\\\\n",
       "\t7 & 2004 & 14.33415\\\\\n",
       "\t4 & 2001 & 14.23902\\\\\n",
       "\t8 & 2005 & 13.83333\\\\\n",
       "\t3 & 2000 & 13.57284\\\\\n",
       "\t2 & 1999 & 13.46914\\\\\n",
       "\t9 & 2006 & 13.23580\\\\\n",
       "\t1 & 1998 & 12.66914\\\\\n",
       "\t10 & 2007 & 12.47901\\\\\n",
       "\\end{tabular}\n"
      ],
      "text/markdown": [
       "\n",
       "A data.frame: 10 × 2\n",
       "\n",
       "| <!--/--> | year &lt;int&gt; | vodka &lt;dbl&gt; |\n",
       "|---|---|---|\n",
       "| 5 | 2002 | 14.78780 |\n",
       "| 6 | 2003 | 14.51829 |\n",
       "| 7 | 2004 | 14.33415 |\n",
       "| 4 | 2001 | 14.23902 |\n",
       "| 8 | 2005 | 13.83333 |\n",
       "| 3 | 2000 | 13.57284 |\n",
       "| 2 | 1999 | 13.46914 |\n",
       "| 9 | 2006 | 13.23580 |\n",
       "| 1 | 1998 | 12.66914 |\n",
       "| 10 | 2007 | 12.47901 |\n",
       "\n"
      ],
      "text/plain": [
       "   year vodka   \n",
       "5  2002 14.78780\n",
       "6  2003 14.51829\n",
       "7  2004 14.33415\n",
       "4  2001 14.23902\n",
       "8  2005 13.83333\n",
       "3  2000 13.57284\n",
       "2  1999 13.46914\n",
       "9  2006 13.23580\n",
       "1  1998 12.66914\n",
       "10 2007 12.47901"
      ]
     },
     "metadata": {},
     "output_type": "display_data"
    },
    {
     "data": {
      "text/html": [
       "<table class=\"dataframe\">\n",
       "<caption>A data.frame: 10 × 2</caption>\n",
       "<thead>\n",
       "\t<tr><th></th><th scope=col>year</th><th scope=col>wine</th></tr>\n",
       "\t<tr><th></th><th scope=col>&lt;int&gt;</th><th scope=col>&lt;dbl&gt;</th></tr>\n",
       "</thead>\n",
       "<tbody>\n",
       "\t<tr><th scope=row>13</th><td>2010</td><td>7.434568</td></tr>\n",
       "\t<tr><th scope=row>11</th><td>2008</td><td>7.365432</td></tr>\n",
       "\t<tr><th scope=row>12</th><td>2009</td><td>7.337037</td></tr>\n",
       "\t<tr><th scope=row>14</th><td>2011</td><td>6.939259</td></tr>\n",
       "\t<tr><th scope=row>10</th><td>2007</td><td>6.703704</td></tr>\n",
       "\t<tr><th scope=row>15</th><td>2012</td><td>6.566667</td></tr>\n",
       "\t<tr><th scope=row>17</th><td>2014</td><td>6.319277</td></tr>\n",
       "\t<tr><th scope=row>18</th><td>2015</td><td>6.053012</td></tr>\n",
       "\t<tr><th scope=row>8</th><td>2005</td><td>6.041975</td></tr>\n",
       "\t<tr><th scope=row>19</th><td>2016</td><td>5.909639</td></tr>\n",
       "</tbody>\n",
       "</table>\n"
      ],
      "text/latex": [
       "A data.frame: 10 × 2\n",
       "\\begin{tabular}{r|ll}\n",
       "  & year & wine\\\\\n",
       "  & <int> & <dbl>\\\\\n",
       "\\hline\n",
       "\t13 & 2010 & 7.434568\\\\\n",
       "\t11 & 2008 & 7.365432\\\\\n",
       "\t12 & 2009 & 7.337037\\\\\n",
       "\t14 & 2011 & 6.939259\\\\\n",
       "\t10 & 2007 & 6.703704\\\\\n",
       "\t15 & 2012 & 6.566667\\\\\n",
       "\t17 & 2014 & 6.319277\\\\\n",
       "\t18 & 2015 & 6.053012\\\\\n",
       "\t8 & 2005 & 6.041975\\\\\n",
       "\t19 & 2016 & 5.909639\\\\\n",
       "\\end{tabular}\n"
      ],
      "text/markdown": [
       "\n",
       "A data.frame: 10 × 2\n",
       "\n",
       "| <!--/--> | year &lt;int&gt; | wine &lt;dbl&gt; |\n",
       "|---|---|---|\n",
       "| 13 | 2010 | 7.434568 |\n",
       "| 11 | 2008 | 7.365432 |\n",
       "| 12 | 2009 | 7.337037 |\n",
       "| 14 | 2011 | 6.939259 |\n",
       "| 10 | 2007 | 6.703704 |\n",
       "| 15 | 2012 | 6.566667 |\n",
       "| 17 | 2014 | 6.319277 |\n",
       "| 18 | 2015 | 6.053012 |\n",
       "| 8 | 2005 | 6.041975 |\n",
       "| 19 | 2016 | 5.909639 |\n",
       "\n"
      ],
      "text/plain": [
       "   year wine    \n",
       "13 2010 7.434568\n",
       "11 2008 7.365432\n",
       "12 2009 7.337037\n",
       "14 2011 6.939259\n",
       "10 2007 6.703704\n",
       "15 2012 6.566667\n",
       "17 2014 6.319277\n",
       "18 2015 6.053012\n",
       "8  2005 6.041975\n",
       "19 2016 5.909639"
      ]
     },
     "metadata": {},
     "output_type": "display_data"
    },
    {
     "data": {
      "text/html": [
       "<table class=\"dataframe\">\n",
       "<caption>A data.frame: 10 × 2</caption>\n",
       "<thead>\n",
       "\t<tr><th></th><th scope=col>year</th><th scope=col>champagne</th></tr>\n",
       "\t<tr><th></th><th scope=col>&lt;int&gt;</th><th scope=col>&lt;dbl&gt;</th></tr>\n",
       "</thead>\n",
       "<tbody>\n",
       "\t<tr><th scope=row>14</th><td>2011</td><td>1.817901</td></tr>\n",
       "\t<tr><th scope=row>15</th><td>2012</td><td>1.782716</td></tr>\n",
       "\t<tr><th scope=row>16</th><td>2013</td><td>1.706173</td></tr>\n",
       "\t<tr><th scope=row>13</th><td>2010</td><td>1.696296</td></tr>\n",
       "\t<tr><th scope=row>17</th><td>2014</td><td>1.584337</td></tr>\n",
       "\t<tr><th scope=row>11</th><td>2008</td><td>1.570370</td></tr>\n",
       "\t<tr><th scope=row>12</th><td>2009</td><td>1.548148</td></tr>\n",
       "\t<tr><th scope=row>18</th><td>2015</td><td>1.439759</td></tr>\n",
       "\t<tr><th scope=row>10</th><td>2007</td><td>1.422222</td></tr>\n",
       "\t<tr><th scope=row>19</th><td>2016</td><td>1.334940</td></tr>\n",
       "</tbody>\n",
       "</table>\n"
      ],
      "text/latex": [
       "A data.frame: 10 × 2\n",
       "\\begin{tabular}{r|ll}\n",
       "  & year & champagne\\\\\n",
       "  & <int> & <dbl>\\\\\n",
       "\\hline\n",
       "\t14 & 2011 & 1.817901\\\\\n",
       "\t15 & 2012 & 1.782716\\\\\n",
       "\t16 & 2013 & 1.706173\\\\\n",
       "\t13 & 2010 & 1.696296\\\\\n",
       "\t17 & 2014 & 1.584337\\\\\n",
       "\t11 & 2008 & 1.570370\\\\\n",
       "\t12 & 2009 & 1.548148\\\\\n",
       "\t18 & 2015 & 1.439759\\\\\n",
       "\t10 & 2007 & 1.422222\\\\\n",
       "\t19 & 2016 & 1.334940\\\\\n",
       "\\end{tabular}\n"
      ],
      "text/markdown": [
       "\n",
       "A data.frame: 10 × 2\n",
       "\n",
       "| <!--/--> | year &lt;int&gt; | champagne &lt;dbl&gt; |\n",
       "|---|---|---|\n",
       "| 14 | 2011 | 1.817901 |\n",
       "| 15 | 2012 | 1.782716 |\n",
       "| 16 | 2013 | 1.706173 |\n",
       "| 13 | 2010 | 1.696296 |\n",
       "| 17 | 2014 | 1.584337 |\n",
       "| 11 | 2008 | 1.570370 |\n",
       "| 12 | 2009 | 1.548148 |\n",
       "| 18 | 2015 | 1.439759 |\n",
       "| 10 | 2007 | 1.422222 |\n",
       "| 19 | 2016 | 1.334940 |\n",
       "\n"
      ],
      "text/plain": [
       "   year champagne\n",
       "14 2011 1.817901 \n",
       "15 2012 1.782716 \n",
       "16 2013 1.706173 \n",
       "13 2010 1.696296 \n",
       "17 2014 1.584337 \n",
       "11 2008 1.570370 \n",
       "12 2009 1.548148 \n",
       "18 2015 1.439759 \n",
       "10 2007 1.422222 \n",
       "19 2016 1.334940 "
      ]
     },
     "metadata": {},
     "output_type": "display_data"
    },
    {
     "data": {
      "text/html": [
       "<table class=\"dataframe\">\n",
       "<caption>A data.frame: 10 × 2</caption>\n",
       "<thead>\n",
       "\t<tr><th></th><th scope=col>year</th><th scope=col>brandy</th></tr>\n",
       "\t<tr><th></th><th scope=col>&lt;int&gt;</th><th scope=col>&lt;dbl&gt;</th></tr>\n",
       "</thead>\n",
       "<tbody>\n",
       "\t<tr><th scope=row>15</th><td>2012</td><td>0.8283951</td></tr>\n",
       "\t<tr><th scope=row>16</th><td>2013</td><td>0.8024691</td></tr>\n",
       "\t<tr><th scope=row>14</th><td>2011</td><td>0.7872840</td></tr>\n",
       "\t<tr><th scope=row>17</th><td>2014</td><td>0.7469880</td></tr>\n",
       "\t<tr><th scope=row>13</th><td>2010</td><td>0.7345679</td></tr>\n",
       "\t<tr><th scope=row>12</th><td>2009</td><td>0.6827160</td></tr>\n",
       "\t<tr><th scope=row>18</th><td>2015</td><td>0.6771084</td></tr>\n",
       "\t<tr><th scope=row>19</th><td>2016</td><td>0.6710843</td></tr>\n",
       "\t<tr><th scope=row>11</th><td>2008</td><td>0.6703704</td></tr>\n",
       "\t<tr><th scope=row>10</th><td>2007</td><td>0.5345679</td></tr>\n",
       "</tbody>\n",
       "</table>\n"
      ],
      "text/latex": [
       "A data.frame: 10 × 2\n",
       "\\begin{tabular}{r|ll}\n",
       "  & year & brandy\\\\\n",
       "  & <int> & <dbl>\\\\\n",
       "\\hline\n",
       "\t15 & 2012 & 0.8283951\\\\\n",
       "\t16 & 2013 & 0.8024691\\\\\n",
       "\t14 & 2011 & 0.7872840\\\\\n",
       "\t17 & 2014 & 0.7469880\\\\\n",
       "\t13 & 2010 & 0.7345679\\\\\n",
       "\t12 & 2009 & 0.6827160\\\\\n",
       "\t18 & 2015 & 0.6771084\\\\\n",
       "\t19 & 2016 & 0.6710843\\\\\n",
       "\t11 & 2008 & 0.6703704\\\\\n",
       "\t10 & 2007 & 0.5345679\\\\\n",
       "\\end{tabular}\n"
      ],
      "text/markdown": [
       "\n",
       "A data.frame: 10 × 2\n",
       "\n",
       "| <!--/--> | year &lt;int&gt; | brandy &lt;dbl&gt; |\n",
       "|---|---|---|\n",
       "| 15 | 2012 | 0.8283951 |\n",
       "| 16 | 2013 | 0.8024691 |\n",
       "| 14 | 2011 | 0.7872840 |\n",
       "| 17 | 2014 | 0.7469880 |\n",
       "| 13 | 2010 | 0.7345679 |\n",
       "| 12 | 2009 | 0.6827160 |\n",
       "| 18 | 2015 | 0.6771084 |\n",
       "| 19 | 2016 | 0.6710843 |\n",
       "| 11 | 2008 | 0.6703704 |\n",
       "| 10 | 2007 | 0.5345679 |\n",
       "\n"
      ],
      "text/plain": [
       "   year brandy   \n",
       "15 2012 0.8283951\n",
       "16 2013 0.8024691\n",
       "14 2011 0.7872840\n",
       "17 2014 0.7469880\n",
       "13 2010 0.7345679\n",
       "12 2009 0.6827160\n",
       "18 2015 0.6771084\n",
       "19 2016 0.6710843\n",
       "11 2008 0.6703704\n",
       "10 2007 0.5345679"
      ]
     },
     "metadata": {},
     "output_type": "display_data"
    }
   ],
   "source": [
    "beer_year <- aggregate(beer ~ year, data, mean)\n",
    "vodka_year <- aggregate(vodka ~ year, data, mean)\n",
    "wine_year <- aggregate(wine ~ year, data, mean)\n",
    "champagne_year <- aggregate(champagne ~ year, data, mean)\n",
    "brandy_year <- aggregate(brandy ~ year, data, mean)\n",
    "\n",
    "head(beer_year[order(beer_year[,2],decreasing=TRUE),], 10)\n",
    "head(vodka_year[order(vodka_year[,2],decreasing=TRUE),], 10)\n",
    "head(wine_year[order(wine_year[,2],decreasing=TRUE),], 10)\n",
    "head(champagne_year[order(champagne_year[,2],decreasing=TRUE),], 10)\n",
    "head(brandy_year[order(brandy_year[,2],decreasing=TRUE),], 10)"
   ]
  },
  {
   "cell_type": "code",
   "execution_count": 13,
   "id": "0c51b889",
   "metadata": {
    "scrolled": false
   },
   "outputs": [
    {
     "data": {
      "image/png": "[encoded data removed]",
      "text/plain": [
       "plot without title"
      ]
     },
     "metadata": {
      "image/png": {
       "height": 420,
       "width": 420
      }
     },
     "output_type": "display_data"
    },
    {
     "data": {
      "image/png": "[encoded data removed]",
      "text/plain": [
       "plot without title"
      ]
     },
     "metadata": {
      "image/png": {
       "height": 420,
       "width": 420
      }
     },
     "output_type": "display_data"
    },
    {
     "data": {
      "image/png": "[encoded data removed]",
      "text/plain": [
       "plot without title"
      ]
     },
     "metadata": {
      "image/png": {
       "height": 420,
       "width": 420
      }
     },
     "output_type": "display_data"
    },
    {
     "data": {
      "image/png": "[encoded data removed]",
      "text/plain": [
       "plot without title"
      ]
     },
     "metadata": {
      "image/png": {
       "height": 420,
       "width": 420
      }
     },
     "output_type": "display_data"
    },
    {
     "data": {
      "image/png": "[encoded data removed]",
      "text/plain": [
       "plot without title"
      ]
     },
     "metadata": {
      "image/png": {
       "height": 420,
       "width": 420
      }
     },
     "output_type": "display_data"
    }
   ],
   "source": [
    "plot(beer_year, ylab = \"Piwo na przestrzeni lat\", xlab = \"Rok\")\n",
    "plot(vodka_year, ylab = \"Wódka na przestrzeni lat\", xlab = \"Rok\")\n",
    "plot(wine_year, ylab = \"Wino na przestrzeni lat\", xlab = \"Rok\")\n",
    "plot(brandy_year, ylab = \"Szampan na przestrzeni lat\", xlab = \"Rok\")\n",
    "plot(champagne_year, ylab = \"Brandy na przestrzeni lat\", xlab = \"Rok\")"
   ]
  },
  {
   "cell_type": "markdown",
   "id": "ca11dc0a",
   "metadata": {},
   "source": [
    "### 2.6 Łączne spożycie alkoholi na przestrzeni lat."
   ]
  },
  {
   "cell_type": "code",
   "execution_count": 14,
   "id": "076563ee",
   "metadata": {},
   "outputs": [
    {
     "data": {
      "text/html": [
       "<table class=\"dataframe\">\n",
       "<caption>A data.frame: 10 × 2</caption>\n",
       "<thead>\n",
       "\t<tr><th></th><th scope=col>Group.1</th><th scope=col>x</th></tr>\n",
       "\t<tr><th></th><th scope=col>&lt;int&gt;</th><th scope=col>&lt;dbl&gt;</th></tr>\n",
       "</thead>\n",
       "<tbody>\n",
       "\t<tr><th scope=row>11</th><td>2008</td><td>86.36585</td></tr>\n",
       "\t<tr><th scope=row>15</th><td>2012</td><td>85.23049</td></tr>\n",
       "\t<tr><th scope=row>14</th><td>2011</td><td>84.48598</td></tr>\n",
       "\t<tr><th scope=row>12</th><td>2009</td><td>84.01951</td></tr>\n",
       "\t<tr><th scope=row>13</th><td>2010</td><td>83.60366</td></tr>\n",
       "\t<tr><th scope=row>10</th><td>2007</td><td>82.88049</td></tr>\n",
       "\t<tr><th scope=row>9</th><td>2006</td><td>82.03293</td></tr>\n",
       "\t<tr><th scope=row>16</th><td>2013</td><td>80.53293</td></tr>\n",
       "\t<tr><th scope=row>8</th><td>2005</td><td>75.69756</td></tr>\n",
       "\t<tr><th scope=row>7</th><td>2004</td><td>74.07805</td></tr>\n",
       "</tbody>\n",
       "</table>\n"
      ],
      "text/latex": [
       "A data.frame: 10 × 2\n",
       "\\begin{tabular}{r|ll}\n",
       "  & Group.1 & x\\\\\n",
       "  & <int> & <dbl>\\\\\n",
       "\\hline\n",
       "\t11 & 2008 & 86.36585\\\\\n",
       "\t15 & 2012 & 85.23049\\\\\n",
       "\t14 & 2011 & 84.48598\\\\\n",
       "\t12 & 2009 & 84.01951\\\\\n",
       "\t13 & 2010 & 83.60366\\\\\n",
       "\t10 & 2007 & 82.88049\\\\\n",
       "\t9 & 2006 & 82.03293\\\\\n",
       "\t16 & 2013 & 80.53293\\\\\n",
       "\t8 & 2005 & 75.69756\\\\\n",
       "\t7 & 2004 & 74.07805\\\\\n",
       "\\end{tabular}\n"
      ],
      "text/markdown": [
       "\n",
       "A data.frame: 10 × 2\n",
       "\n",
       "| <!--/--> | Group.1 &lt;int&gt; | x &lt;dbl&gt; |\n",
       "|---|---|---|\n",
       "| 11 | 2008 | 86.36585 |\n",
       "| 15 | 2012 | 85.23049 |\n",
       "| 14 | 2011 | 84.48598 |\n",
       "| 12 | 2009 | 84.01951 |\n",
       "| 13 | 2010 | 83.60366 |\n",
       "| 10 | 2007 | 82.88049 |\n",
       "| 9 | 2006 | 82.03293 |\n",
       "| 16 | 2013 | 80.53293 |\n",
       "| 8 | 2005 | 75.69756 |\n",
       "| 7 | 2004 | 74.07805 |\n",
       "\n"
      ],
      "text/plain": [
       "   Group.1 x       \n",
       "11 2008    86.36585\n",
       "15 2012    85.23049\n",
       "14 2011    84.48598\n",
       "12 2009    84.01951\n",
       "13 2010    83.60366\n",
       "10 2007    82.88049\n",
       "9  2006    82.03293\n",
       "16 2013    80.53293\n",
       "8  2005    75.69756\n",
       "7  2004    74.07805"
      ]
     },
     "metadata": {},
     "output_type": "display_data"
    }
   ],
   "source": [
    "total_by_year <- aggregate(x = data$beer+data$vodka+data$wine+data$champagne+data$brandy,                \n",
    "          by = list(data$year),              \n",
    "          FUN = sum)\n",
    "total_by_year$x <- total_by_year$x/82 #85 regionów w Rosji, trzy nie są brane pod uwagę w zestawieniu\n",
    "head(total_by_year[order(total_by_year[,2],decreasing=TRUE),], 10)"
   ]
  },
  {
   "cell_type": "code",
   "execution_count": 15,
   "id": "d3d08d6c",
   "metadata": {},
   "outputs": [
    {
     "ename": "ERROR",
     "evalue": "Error in plot(total): object 'total' not found\n",
     "output_type": "error",
     "traceback": [
      "Error in plot(total): object 'total' not found\nTraceback:\n",
      "1. plot(total)"
     ]
    }
   ],
   "source": [
    "plot(total)"
   ]
  },
  {
   "cell_type": "markdown",
   "id": "639dff79",
   "metadata": {},
   "source": [
    "# 3. Szereg rozdzielczy."
   ]
  },
  {
   "cell_type": "markdown",
   "id": "72616a71",
   "metadata": {},
   "source": [
    "### 3.1 Ustalenie liczby klas."
   ]
  },
  {
   "cell_type": "code",
   "execution_count": null,
   "id": "4263ee6f",
   "metadata": {},
   "outputs": [],
   "source": [
    "n_b <- length(beer)\n",
    "n_v <- length(vodka)\n",
    "n_w <- length(wine)\n",
    "n_c <- length(champagne)\n",
    "n_br <- length(brandy)\n",
    "\n",
    "max_b <- max(beer)\n",
    "min_b <- min(beer)\n",
    "\n",
    "max_v <- max(vodka)\n",
    "min_v <- min(vodka)\n",
    "\n",
    "max_w <- max(wine)\n",
    "min_w <- min(wine)\n",
    "\n",
    "max_c <- max(champagne)\n",
    "min_c <- min(champagne)\n",
    "\n",
    "max_br <- max(brandy)\n",
    "min_br <- min(brandy)"
   ]
  },
  {
   "cell_type": "code",
   "execution_count": null,
   "id": "8b5f26b8",
   "metadata": {},
   "outputs": [],
   "source": [
    "k_b <- round(sqrt(n_b))\n",
    "k_b\n",
    "k_b <- round(1+3.3*log(n_b))\n",
    "k_b\n",
    "k_b <- 5*log(n_b)\n",
    "k_b"
   ]
  },
  {
   "cell_type": "code",
   "execution_count": null,
   "id": "079fdb6a",
   "metadata": {},
   "outputs": [],
   "source": [
    "k_v <- round(sqrt(n_v))\n",
    "k_v\n",
    "k_v <- round(1+3.3*log(n_v))\n",
    "k_v\n",
    "k_v <- 5*log(n_v)\n",
    "k_v"
   ]
  },
  {
   "cell_type": "markdown",
   "id": "ba2be889",
   "metadata": {},
   "source": [
    "Ponieważ liczba klas w szeregu rozdzielczym nie powinna przekraczać 5 log(n), gdzie n jest liczbą danych, wybrano wzór 1+3.3 log(n)"
   ]
  },
  {
   "cell_type": "code",
   "execution_count": null,
   "id": "b08ff219",
   "metadata": {},
   "outputs": [],
   "source": [
    "num_of_intervals <- 1+3.3*log(n_b)\n",
    "intrvl_width_b <- (max_b-min_b)/num_of_intervals\n",
    "intrvl_width_v <- (max_v-min_v)/num_of_intervals\n",
    "intrvl_width_w <- (max_w-min_w)/num_of_intervals\n",
    "intrvl_width_c <- (max_c-min_c)/num_of_intervals\n",
    "intrvl_width_br <- (max_br-min_br)/num_of_intervals"
   ]
  },
  {
   "cell_type": "markdown",
   "id": "b0984ceb",
   "metadata": {},
   "source": [
    "### 3.2 Skonstruowane szeregi rozdzielcze."
   ]
  },
  {
   "cell_type": "code",
   "execution_count": null,
   "id": "d2d22e27",
   "metadata": {},
   "outputs": [],
   "source": [
    "intrvl <- floor(min_b)\n",
    "for (i in 1:num_of_intervals){\n",
    "    print(paste(\"<\", intrvl, \",\", intrvl+intrvl_width_b,\">\"))\n",
    "    intrvl <- intrvl+intrvl_width_b\n",
    "}"
   ]
  },
  {
   "cell_type": "code",
   "execution_count": null,
   "id": "152df0c4",
   "metadata": {
    "scrolled": false
   },
   "outputs": [],
   "source": [
    "intrvl <- floor(min_v)\n",
    "for (i in 1:num_of_intervals){\n",
    "    print(paste(\"<\", intrvl, \",\", intrvl+intrvl_width_v,\">\"))\n",
    "    intrvl <- intrvl+intrvl_width_v\n",
    "}"
   ]
  },
  {
   "cell_type": "markdown",
   "id": "b42fb96d",
   "metadata": {},
   "source": [
    "Analogicznie można wyznaczyć szeregi dla pozostałych alkoholi."
   ]
  },
  {
   "cell_type": "markdown",
   "id": "0fdc308d",
   "metadata": {},
   "source": [
    "### 3.3 Histogramy."
   ]
  },
  {
   "cell_type": "code",
   "execution_count": null,
   "id": "fa9e75b6",
   "metadata": {
    "scrolled": false
   },
   "outputs": [],
   "source": [
    "hist_display <- function (data, color, x, y){\n",
    "    num_of_intervals <- 1+3.3*log(length(data))\n",
    "    hist(data, col=color, breaks = num_of_intervals,\n",
    "        xlab = x,\n",
    "        ylab = y, main = paste(\"\"))\n",
    "}\n",
    "\n",
    "hist_display(beer,  \"#FFBF42\", x = \"Średnia ilość litrów piwa spożytego per capita\", y = \"Jak często wystąpiła dana wartość\")\n",
    "hist_display(vodka, \"#F1F2FF\", x = \"Średnia ilość litrów wódki spożytej per capita\", y = \"Jak często wystąpiła dana wartość\")\n",
    "hist_display(wine, \"#722f37\", x = \"Średnia ilość litrów wina spożytego per capita\", y = \"Jak często wystąpiła dana wartość\")\n",
    "hist_display(champagne, \"#f1f285\", x = \"Średnia ilość litrów szampana spożytego per capita\", y = \"Jak często wystąpiła dana wartość\")\n",
    "hist_display(brandy, \"#B54407\", x = \"Średnia ilość litrów brandy spożytej per capita\", y = \"Jak często wystąpiła dana wartość\")"
   ]
  },
  {
   "cell_type": "markdown",
   "id": "0bfa7747",
   "metadata": {},
   "source": [
    "# 4. Korelacje w danych"
   ]
  },
  {
   "cell_type": "markdown",
   "id": "192fdfe4",
   "metadata": {},
   "source": [
    "### 4.1 Zależność między ilością spożytego piwa i wódki."
   ]
  },
  {
   "cell_type": "markdown",
   "id": "e4d910b2",
   "metadata": {},
   "source": [
    "Czy piwo wypiera wódkę na skutek trendów? Czy spożycie alkoholu w dowolnego rodzaju trunku maleje i rośnie dla każdego z trunków jednocześnie czy ich popularność jest niezależna?"
   ]
  },
  {
   "cell_type": "code",
   "execution_count": null,
   "id": "a23d2187",
   "metadata": {
    "scrolled": false
   },
   "outputs": [],
   "source": [
    "plot(beer, vodka)"
   ]
  },
  {
   "cell_type": "markdown",
   "id": "36611372",
   "metadata": {},
   "source": [
    "Na powyższym wykresie widać bardzo nikłą zależność między spożyciem piwa i wódki. Aby jednak móc stwierdzać jakikolwiek związek należy wykonać test na korelację danych."
   ]
  },
  {
   "cell_type": "code",
   "execution_count": null,
   "id": "f6eae7b4",
   "metadata": {
    "scrolled": false
   },
   "outputs": [],
   "source": [
    "cor.test(beer, vodka, method=\"spearman\", exact=FALSE)"
   ]
  },
  {
   "cell_type": "markdown",
   "id": "9fca873c",
   "metadata": {},
   "source": [
    "Ze względu na wartości ekstremalne zarówno w przypadku piwa jak i wódki (tzw. *outliers*) zastosowany został test Spearmana. Test wykazał, że korelacja między zmiennymi jest istotna statystycznie (p-value < alpha = 0.05), jednak jej wartość jest niewielka - zaledwie 0.11. Nie jest to wystarczająca wartość aby formować jakiekolwiek znaczące tezy na temat zależności między popularnością tych trunków. W praktyce można uznać, że są zmienne niezależne.\n",
    "<br>Podobny test dla szampana i brandy:"
   ]
  },
  {
   "cell_type": "markdown",
   "id": "37936c41",
   "metadata": {},
   "source": [
    "### 4.2 Zależność między ilością spożytego szampana i brandy."
   ]
  },
  {
   "cell_type": "code",
   "execution_count": null,
   "id": "c6c9e656",
   "metadata": {
    "scrolled": false
   },
   "outputs": [],
   "source": [
    "plot(champagne, brandy)"
   ]
  },
  {
   "cell_type": "code",
   "execution_count": null,
   "id": "aebab8e0",
   "metadata": {},
   "outputs": [],
   "source": [
    "cor.test(champagne, brandy, method=\"kendall\", exact=FALSE)"
   ]
  },
  {
   "cell_type": "markdown",
   "id": "54e395c9",
   "metadata": {},
   "source": [
    "W tym wypadku, ze względu na zaokrąglenia i powtarzające się w ich wyniku dane najwłaściwszym testem będzie ten zaproponowany przez Kendalla. Test wykazał, że korelacja między zmiennymi jest istotna statystycznie (p-value < alpha = 0.05) i w przypadku tych danych jest ona dość duża, aby stwierdzić nieco większą niż w przypadku piwa i wódki - choć nadal nieznaczną - zależność między popularnością szampana i brandy. Oba trunki zyskiwały i traciły na popycie w podobnym czasie, co może być spowodowane rozwojem gospodarczym Rosji i dostępem do większej ilości importowanych alkoholi, a także stopniowym odchodzeniem społeczeństwa od ciężkich trunków typu wódka lub bimber."
   ]
  },
  {
   "cell_type": "markdown",
   "id": "cf35effe",
   "metadata": {},
   "source": [
    "# 5. Testy."
   ]
  },
  {
   "cell_type": "markdown",
   "id": "c78a2695",
   "metadata": {},
   "source": [
    "### 5.1 Czy w roku 2002 wypito więcej wódki niż w pozostałych latach?"
   ]
  },
  {
   "cell_type": "code",
   "execution_count": null,
   "id": "a7f099d1",
   "metadata": {},
   "outputs": [],
   "source": [
    "length(vodka[year=='2002'])"
   ]
  },
  {
   "cell_type": "markdown",
   "id": "7691b978",
   "metadata": {},
   "source": [
    "Ze względu na wystarczającą wielkość próbki ( >50) zastosowany zostanie test Z.<br>\n",
    "H0: mu_2002 = mu_pop,<br>\n",
    "H1: mu_2002 > mu_pop"
   ]
  },
  {
   "cell_type": "code",
   "execution_count": null,
   "id": "28e0ef2c",
   "metadata": {},
   "outputs": [],
   "source": [
    "# test Z\n",
    "vodka_2002 <- vodka[year=='2002']\n",
    "\n",
    "mu_pop <- mean(vodka)\n",
    "sigma <- sd(vodka_2002)\n",
    "n <- length(vodka_2002)\n",
    "mu_2002 <- mean(vodka_2002)\n",
    "alpha <- 0.05\n",
    "Z <- ((mu_2002 - mu_pop)/sigma)*sqrt(n)\n",
    "Z_alpha <- qnorm(1-alpha)\n",
    "p_value <- (1-pnorm(Z))\n",
    "\n",
    "cat(\"Wartość statystyki Z:\", Z, \"\\n\")\n",
    "cat(\"P-value:\", p_value, \"\\n\")\n",
    "cat(\"Przedział krytyczny: (\", Z_alpha, \", inf )\", \"\\n\")\n",
    "cat(\"Czy odrzucić hipotezę H0 na rzecz H1:\", Z > Z_alpha, \"\\n\")"
   ]
  },
  {
   "cell_type": "markdown",
   "id": "a5ac3ce2",
   "metadata": {},
   "source": [
    "Test odrzucił hipotezę zakładającą, że w 2002 roku wypito statystycznie tyle samo wódki co w każdym innym roku i zrobiłby to dla każdego rozsądnego poziomu istotności alpha (p-value=1.44E-6 << alpha=0.05, 0.01, 0.005). Przyjmujemy więc, że wypito jej więcej."
   ]
  },
  {
   "cell_type": "markdown",
   "id": "48c5988e",
   "metadata": {},
   "source": [
    "### 5.2 Czy w Petersburgu pije się więcej piwa niż w Moskwie? (Test dla dwóch populacji)"
   ]
  },
  {
   "cell_type": "code",
   "execution_count": 18,
   "id": "9b5c18e2",
   "metadata": {
    "scrolled": true
   },
   "outputs": [
    {
     "data": {
      "text/html": [
       "<style>\n",
       ".list-inline {list-style: none; margin:0; padding: 0}\n",
       ".list-inline>li {display: inline-block}\n",
       ".list-inline>li:not(:last-child)::after {content: \"\\00b7\"; padding: 0 .5ex}\n",
       "</style>\n",
       "<ol class=list-inline><li>27.9</li><li>57.4</li><li>68.2</li><li>101</li><li>104.6</li><li>105.6</li><li>103.9</li><li>104.8</li><li>125.3</li><li>106.4</li><li>125.9</li><li>143</li><li>113.2</li><li>82.93</li><li>77.2</li><li>44.2</li><li>41.8</li><li>36.1</li><li>33.7</li></ol>\n"
      ],
      "text/latex": [
       "\\begin{enumerate*}\n",
       "\\item 27.9\n",
       "\\item 57.4\n",
       "\\item 68.2\n",
       "\\item 101\n",
       "\\item 104.6\n",
       "\\item 105.6\n",
       "\\item 103.9\n",
       "\\item 104.8\n",
       "\\item 125.3\n",
       "\\item 106.4\n",
       "\\item 125.9\n",
       "\\item 143\n",
       "\\item 113.2\n",
       "\\item 82.93\n",
       "\\item 77.2\n",
       "\\item 44.2\n",
       "\\item 41.8\n",
       "\\item 36.1\n",
       "\\item 33.7\n",
       "\\end{enumerate*}\n"
      ],
      "text/markdown": [
       "1. 27.9\n",
       "2. 57.4\n",
       "3. 68.2\n",
       "4. 101\n",
       "5. 104.6\n",
       "6. 105.6\n",
       "7. 103.9\n",
       "8. 104.8\n",
       "9. 125.3\n",
       "10. 106.4\n",
       "11. 125.9\n",
       "12. 143\n",
       "13. 113.2\n",
       "14. 82.93\n",
       "15. 77.2\n",
       "16. 44.2\n",
       "17. 41.8\n",
       "18. 36.1\n",
       "19. 33.7\n",
       "\n",
       "\n"
      ],
      "text/plain": [
       " [1]  27.90  57.40  68.20 101.00 104.60 105.60 103.90 104.80 125.30 106.40\n",
       "[11] 125.90 143.00 113.20  82.93  77.20  44.20  41.80  36.10  33.70"
      ]
     },
     "metadata": {},
     "output_type": "display_data"
    },
    {
     "data": {
      "text/html": [
       "<style>\n",
       ".list-inline {list-style: none; margin:0; padding: 0}\n",
       ".list-inline>li {display: inline-block}\n",
       ".list-inline>li:not(:last-child)::after {content: \"\\00b7\"; padding: 0 .5ex}\n",
       "</style>\n",
       "<ol class=list-inline><li>30</li><li>56</li><li>61.8</li><li>78.9</li><li>85.7</li><li>89.1</li><li>99.1</li><li>108.5</li><li>111</li><li>101.4</li><li>95.8</li><li>79.7</li><li>87.8</li><li>91.28</li><li>89.9</li><li>92.5</li><li>82.9</li><li>79.5</li><li>69.2</li></ol>\n"
      ],
      "text/latex": [
       "\\begin{enumerate*}\n",
       "\\item 30\n",
       "\\item 56\n",
       "\\item 61.8\n",
       "\\item 78.9\n",
       "\\item 85.7\n",
       "\\item 89.1\n",
       "\\item 99.1\n",
       "\\item 108.5\n",
       "\\item 111\n",
       "\\item 101.4\n",
       "\\item 95.8\n",
       "\\item 79.7\n",
       "\\item 87.8\n",
       "\\item 91.28\n",
       "\\item 89.9\n",
       "\\item 92.5\n",
       "\\item 82.9\n",
       "\\item 79.5\n",
       "\\item 69.2\n",
       "\\end{enumerate*}\n"
      ],
      "text/markdown": [
       "1. 30\n",
       "2. 56\n",
       "3. 61.8\n",
       "4. 78.9\n",
       "5. 85.7\n",
       "6. 89.1\n",
       "7. 99.1\n",
       "8. 108.5\n",
       "9. 111\n",
       "10. 101.4\n",
       "11. 95.8\n",
       "12. 79.7\n",
       "13. 87.8\n",
       "14. 91.28\n",
       "15. 89.9\n",
       "16. 92.5\n",
       "17. 82.9\n",
       "18. 79.5\n",
       "19. 69.2\n",
       "\n",
       "\n"
      ],
      "text/plain": [
       " [1]  30.00  56.00  61.80  78.90  85.70  89.10  99.10 108.50 111.00 101.40\n",
       "[11]  95.80  79.70  87.80  91.28  89.90  92.50  82.90  79.50  69.20"
      ]
     },
     "metadata": {},
     "output_type": "display_data"
    }
   ],
   "source": [
    "beer_sp <- beer[region=='Saint Petersburg']\n",
    "beer_ms <- beer[region=='Moscow']\n",
    "beer_sp\n",
    "beer_ms"
   ]
  },
  {
   "cell_type": "markdown",
   "id": "1b9ce765",
   "metadata": {},
   "source": [
    "Ze względu na małe próby należałoby wykonać test T dla prób niezależnych, wymaga on jednak spełnienia kilku warunków. Pierwszy z nich,\n",
    "czyli równoliczność prób jest spełniony. <br>W dalszej części zostanie przeprowadzony test na równość wariancji."
   ]
  },
  {
   "cell_type": "markdown",
   "id": "3be41d2d",
   "metadata": {},
   "source": [
    "#### 5.2.1 Test na równość wariancji (Test F)\n",
    "H0: var_sp/var_ms == 1 <br>\n",
    "H1: var_sp/var_ms =/= 1"
   ]
  },
  {
   "cell_type": "code",
   "execution_count": null,
   "id": "4ae50b71",
   "metadata": {},
   "outputs": [],
   "source": [
    "var_sp <- var(beer[region=='Saint Petersburg'])\n",
    "var_ms <- var(beer[region=='Moscow'])\n",
    "\n",
    "F <- var_sp/var_ms\n",
    "p_value <- 1 - pf(F, df1=var_sp-1, df2=var_ms-1, lower.tail=TRUE)\n",
    "F\n",
    "p_value"
   ]
  },
  {
   "cell_type": "markdown",
   "id": "851b311d",
   "metadata": {},
   "source": [
    "Wartość p-value jest tak bliska zeru, że dla każdego rozsądnego poziomu istotności hipoteza H0 testu F zostanie odrzucona. Oznacza to, że nie możemy użyć testu T dla równych wariancji."
   ]
  },
  {
   "cell_type": "markdown",
   "id": "627e56bb",
   "metadata": {},
   "source": [
    "#### 5.2.2 Normalność rozkładu w próbkach"
   ]
  },
  {
   "cell_type": "code",
   "execution_count": null,
   "id": "8edd95fd",
   "metadata": {
    "scrolled": false
   },
   "outputs": [],
   "source": [
    "prev <- par(mfrow=c(1,2))\n",
    "hist_display(beer_sp,  \"#FFBF42\", x = \"Średnie spożycie piwa w Petersburgu\", y = \"Jak często wystąpiła dana wartość\")\n",
    "hist_display(beer_ms,  \"#FFBF42\", x = \"Średnie spożycie piwa w Moskwie\", y = \"Jak często wystąpiła dana wartość\")\n",
    "par(prev)"
   ]
  },
  {
   "cell_type": "markdown",
   "id": "77a00d82",
   "metadata": {},
   "source": [
    "Rozkład danych w próbkach niestety jest daleki od normalnego. Z tego powodu test T nie może zostać przeprowadzony. Zamiast tego zastosowany zostanie test Manna-Whitney'a, który jest nieparametrycznym odpowiednikiem testu T dla prób niezależnych."
   ]
  },
  {
   "cell_type": "markdown",
   "id": "e99665ec",
   "metadata": {},
   "source": [
    "#### 5.2.3 Test U Manna-Whitney'a (Wilcoxona)\n",
    "H0: W Petersburgu spożycie piwa jest takie samo jak w Moskwie. <br>\n",
    "H1: W Petersburgu spożycie piwa jest większe niż w Moskwie."
   ]
  },
  {
   "cell_type": "code",
   "execution_count": 20,
   "id": "818485a9",
   "metadata": {
    "scrolled": true
   },
   "outputs": [
    {
     "data": {
      "text/plain": [
       "\n",
       "\tWilcoxon rank sum test with continuity correction\n",
       "\n",
       "data:  beer_sp and beer_ms\n",
       "W = 198, p-value = 0.3098\n",
       "alternative hypothesis: true location shift is greater than 0\n"
      ]
     },
     "metadata": {},
     "output_type": "display_data"
    }
   ],
   "source": [
    "wilcox.test(beer_sp, beer_ms, mu=0, alternative=\"greater\", conf.level=0.95, exact=FALSE)"
   ]
  },
  {
   "cell_type": "markdown",
   "id": "9d2d5c4c",
   "metadata": {},
   "source": [
    "Ponieważ testy Manna-Whitney'a i Wilcoxona dają równoważne wyniki, został zastosowany ten drugi. Z testu wynika, że nie ma podstaw aby odrzucić hipotezę zerową (p-value >> alpha=0.05). Nie ma więc podstaw aby twierdzić, że piwo w Petersburgu cieszyło się przez lata statystycznie istotnie większą popularnością niż w stolicy Rosji."
   ]
  },
  {
   "cell_type": "markdown",
   "id": "16ef75c2",
   "metadata": {},
   "source": [
    "# 6. Wnioski i obserwacje."
   ]
  },
  {
   "cell_type": "markdown",
   "id": "3fa21586",
   "metadata": {},
   "source": [
    "#### 1. Pierwsza dekada XXI wieku przyniosła zdecydowany wzrost spożycia alkoholu każdego niemal rodzaju. Tendencja wzrostowa w większości przypadków trwała aż do pierwszej połowy dekady następne, kiedy to spożycie alkoholi zaczęło spadać. Wyjątkiem jest wódka, której popularność zaczęła spadać już około roku 2003.\n",
    "#### 2. Histogramy skonstruowane na podstawie szeregów rozdzielczych dla każdego z alkoholi mają rozkłady unimodalne. Wszystkie cechuje dodatnia skośność, która jest największa w przypadku brandy.\n",
    "#### 3. Istnieje bardzo słaba korelacja między spożyciami poszczególnych alkoholi, ich popularność generalnie podporządkowuje się jednemu większemu trendowi, spowodowanemu najpewniej przez kampanie anty-uzależnieniowe, podwyżki cen, wzrost gospodarczy i ogólne zadowolenie narodu. Niskie współczynniki korelacji mogą wynikać z faktu, iż różne grupy społeczne spożywają różne rodzaje trunków.\n",
    "#### 4. Wśród regionów największe średnie spożycie napojów alkoholowych per capita przez lata występowało w stolicy - 115 litrów/capita. Problem alkoholowy w Rosji osiągnął szczyt w latach 2008-2012, kiedy to w całym kraju przeciętny obywatel wypijał średnio 85-86 litrów alkoholowych napojów.\n",
    "#### 5. Pozycje dużych miast takich jak Petersburg czy Moskwa w tabelach zestawiających spożycie alkoholu per region sugerowałoby, że bardziej zurbanizowane regiony piją więcej alkoholi niskoprocentowych i vice versa, jednak ze względu na brak danych nie udało się tego udowodnić w niniejszej analizie. Aby znaleźć tą zależność można by ponownie posłużyć się stroną fedstat.ru, aby znaleźć odpowiednie dane demograficzne (przykładowe zestawienie takich danych: https://www.kaggle.com/dwdkills/russian-demography)"
   ]
  }
 ],
 "metadata": {
  "kernelspec": {
   "display_name": "R",
   "language": "R",
   "name": "ir"
  },
  "language_info": {
   "codemirror_mode": "r",
   "file_extension": ".r",
   "mimetype": "text/x-r-source",
   "name": "R",
   "pygments_lexer": "r",
   "version": "4.1.0"
  }
 },
 "nbformat": 4,
 "nbformat_minor": 5
}
