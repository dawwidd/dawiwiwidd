{
 "cells": [
  {
   "cell_type": "markdown",
   "metadata": {},
   "source": [
    "## Statystyka i Analiza danych\n",
    "# Laboratorium 11 - Metody nieparametryczne"
   ]
  },
  {
   "cell_type": "markdown",
   "metadata": {},
   "source": [
    "### Äwiczenie 1: \n",
    "\n",
    "W 1987 roku japoĹscy producenci postanowili zdobyÄ amerykaĹski rynek luksusowych samochodĂłw. Honda, a pĂłĹşniej takĹźe Nissan Auto Company doszli do wniosku, Ĺźe rynek ten zbyt dĹugo byĹ zdominowany przez firmy niemieckie. Firmy japoĹskie zaprojektowaĹy wiÄc luksusowe samochody, ktĂłre miaĹy zdobyÄ rynek amerykaĹski. Pierwszym japoĹskim luksusowym samochodem osobowym wprowadzonym w Stanach Zjednoczonych byĹa zaprojektowana w pracowni Hondy Acura Legend. PoszukujÄ",
    "c strategii marketingowych dla nowego samochodu, Honda postanowiĹa przetestowaÄ zadowolenie kierowcĂłw z prowadzenia tego auta w porĂłwnaniu z odpowiednim modelem BMW. 28 kierowcĂłw wybrano losowo spoĹrĂłd grupy ludzi, do ktĂłrych miano skierowaÄ reklamÄ. Poproszono ich o odbycie jazdy prĂłbnej w obydwu samochodach. KolejnoĹÄ prĂłbowania samochodĂłw byĹa losowo wybierana dla kaĹźdego z kierowcĂłw. Po jeĹşdzie prĂłbnej kierowca oceniaĹ komfort jazdy w skali od 1 do 10 (10 najlepsza). Wyniki tego sondaĹźu sÄ",
    " wczytane do ramki danych Samochody. Honda chciaĹa wykazaÄ, Ĺźe kierowcy z interesujÄ",
    "cej ich grupy preferujÄ",
    " samochĂłd Acura Legend. Czy i jak moĹźna to sprawdziÄ? \n",
    "**Uwaga: ze wzglÄdĂłw dydaktycznych naleĹźy najpierw przeprowadziÄ test dwustronny**"
   ]
  },
  {
   "cell_type": "code",
   "execution_count": null,
   "metadata": {},
   "outputs": [],
   "source": [
    "Samochody<-data.frame(\n",
    "  id_kierowcy=1:28,\n",
    "  bmw=c(6,7,8,9,5,6,9,10,9,6,4,8,6,9,8,9,10,9,3,7,6,10,9,8,8,7,8,9), \n",
    "  honda=c(9,10,8,10,7,5,9,9,10,9,6,7,10,8,9,10,9,9,5,9,10,10,8,7,9,10,8,10)\n",
    "  )"
   ]
  },
  {
   "cell_type": "markdown",
   "metadata": {},
   "source": [
    "Dane sÄ",
    " sparowane - oblicz rĂłĹźnice pomiÄdzy ocenami"
   ]
  },
  {
   "cell_type": "code",
   "execution_count": null,
   "metadata": {},
   "outputs": [],
   "source": [
    "roznice <- "
   ]
  },
  {
   "cell_type": "markdown",
   "metadata": {},
   "source": [
    "czy moĹźemy uĹźyÄ sparowanego testu t? SprawdĹş warunki tego testu."
   ]
  },
  {
   "cell_type": "code",
   "execution_count": null,
   "metadata": {},
   "outputs": [],
   "source": [
    "hist(roznice)\n",
    "qqnorm(roznice)\n",
    "qqline(roznice)"
   ]
  },
  {
   "cell_type": "markdown",
   "metadata": {},
   "source": [
    "Na histogramie widaÄ, Ĺźe rozkĹad nie jest normalny, a prĂłba nie jest duĹźa...\n",
    "Zastosujmy wiÄc metody **nieparametryczne**. Zacznijmy od testu znakĂłw. Sformuuj hipotezÄ zerowÄ",
    " i alternatywnÄ",
    " i przyjmij poziom istotnoĹci $\\alpha = 0.05$."
   ]
  },
  {
   "cell_type": "code",
   "execution_count": null,
   "metadata": {},
   "outputs": [],
   "source": [
    "#H0: \n",
    "#H1: \n",
    "\n",
    "alpha<-0.05"
   ]
  },
  {
   "cell_type": "markdown",
   "metadata": {},
   "source": [
    "Oblicz liczbÄ znaczÄ",
    "cych par:"
   ]
  },
  {
   "cell_type": "code",
   "execution_count": null,
   "metadata": {},
   "outputs": [],
   "source": [
    "n <- "
   ]
  },
  {
   "cell_type": "markdown",
   "metadata": {},
   "source": [
    "Oblicz wartoĹÄ statystyki testowej (liczba rĂłĹźnic dodatnich):"
   ]
  },
  {
   "cell_type": "code",
   "execution_count": null,
   "metadata": {},
   "outputs": [],
   "source": [
    "T <- "
   ]
  },
  {
   "cell_type": "markdown",
   "metadata": {},
   "source": [
    "SprawdĹş wartoĹci krytyczne wyznaczajÄ",
    "c *dokĹadne* kwantyle z rozkĹÄ",
    "du *dwumianowego* (bez przybliĹźenia normalnego):"
   ]
  },
  {
   "cell_type": "code",
   "execution_count": null,
   "metadata": {},
   "outputs": [],
   "source": [
    "qbinom(alpha/2, n, 0.5) - 1\n",
    "qbinom(1-(alpha/2), n, 0.5) + 1"
   ]
  },
  {
   "cell_type": "markdown",
   "metadata": {},
   "source": [
    "Czy odrzucamy hipotezÄ zerowÄ",
    "?"
   ]
  },
  {
   "cell_type": "code",
   "execution_count": null,
   "metadata": {
    "collapsed": true
   },
   "outputs": [],
   "source": [
    "# "
   ]
  },
  {
   "cell_type": "markdown",
   "metadata": {},
   "source": [
    "Wykonaj ten test funkcjÄ",
    " ``binom.test``:"
   ]
  },
  {
   "cell_type": "code",
   "execution_count": null,
   "metadata": {},
   "outputs": [],
   "source": [
    "binom.test(T, n)"
   ]
  },
  {
   "cell_type": "markdown",
   "metadata": {},
   "source": [
    "### Äwiczenie 1b\n",
    "\n",
    "SprĂłbujmy zastosowaÄ do tego samego problemu **test Wilcoxona**.\n",
    "PoniewaĹź w tym teĹcie rĂłwnieĹź bÄdziemy brali pod uwagÄ jedynie znaczÄ",
    "ce rĂłĹźnice, aby uĹatwiÄ sobie obliczenia stwĂłrz wektor zawierajÄ",
    "cy jedynie znaczÄ",
    "ce rĂłĹźnice."
   ]
  },
  {
   "cell_type": "code",
   "execution_count": null,
   "metadata": {},
   "outputs": [],
   "source": [
    "roznice<-"
   ]
  },
  {
   "cell_type": "markdown",
   "metadata": {},
   "source": [
    "Oblicz moduĹ rĂłĹźnic:"
   ]
  },
  {
   "cell_type": "code",
   "execution_count": null,
   "metadata": {
    "scrolled": true
   },
   "outputs": [],
   "source": [
    "modul_roznic<-"
   ]
  },
  {
   "cell_type": "markdown",
   "metadata": {},
   "source": [
    "Przypisz rangi rĂłĹźnicom poprzez wywoĹanie funkcji ``rank()``"
   ]
  },
  {
   "cell_type": "code",
   "execution_count": null,
   "metadata": {},
   "outputs": [],
   "source": [
    "rangi_modulow<-"
   ]
  },
  {
   "cell_type": "markdown",
   "metadata": {},
   "source": [
    "Oblicz sumÄ rang dodatnich i ujemnych rĂłĹźnic:"
   ]
  },
  {
   "cell_type": "code",
   "execution_count": null,
   "metadata": {},
   "outputs": [],
   "source": [
    "dodatnie<-\n",
    "ujemne<-"
   ]
  },
  {
   "cell_type": "markdown",
   "metadata": {},
   "source": [
    "Oblicz wartoĹÄ statystyki testowej"
   ]
  },
  {
   "cell_type": "code",
   "execution_count": null,
   "metadata": {},
   "outputs": [],
   "source": [
    "T <- "
   ]
  },
  {
   "cell_type": "markdown",
   "metadata": {},
   "source": [
    "SprawdĹş wartoĹÄ krytycznÄ",
    " (rozkĹad w ``R`` nazywa siÄ signrank):"
   ]
  },
  {
   "cell_type": "code",
   "execution_count": null,
   "metadata": {},
   "outputs": [],
   "source": [
    "qsignrank(alpha/2, length(rangi_modulow)) - 1"
   ]
  },
  {
   "cell_type": "markdown",
   "metadata": {},
   "source": [
    "Alternatywnie, moĹźna policzyÄ rĂłwnieĹź wartoĹÄ krytycznÄ",
    ":"
   ]
  },
  {
   "cell_type": "code",
   "execution_count": null,
   "metadata": {},
   "outputs": [],
   "source": [
    "psignrank(T ,length(rangi_modulow))*2"
   ]
  },
  {
   "cell_type": "markdown",
   "metadata": {},
   "source": [
    "OdrzuciÄ hipotezÄ zerowÄ",
    "?"
   ]
  },
  {
   "cell_type": "code",
   "execution_count": null,
   "metadata": {
    "collapsed": true
   },
   "outputs": [],
   "source": [
    "# Tak, Honda i BMW sÄ",
    " znaczÄ",
    "co rĂłĹźne"
   ]
  },
  {
   "cell_type": "markdown",
   "metadata": {},
   "source": [
    "Wykonaj test Wilcoxona przy uĹźyciu funkcji ``wilcox.test``"
   ]
  },
  {
   "cell_type": "code",
   "execution_count": null,
   "metadata": {
    "scrolled": true
   },
   "outputs": [],
   "source": [
    "wilcox.test(Samochody$bmw,Samochody$honda , paired = T)"
   ]
  },
  {
   "cell_type": "markdown",
   "metadata": {},
   "source": [
    "### Äwiczenie 2\n",
    "\n",
    "Wygeneruj wektor *X* liczb losowych z rozkĹadu jednorodnego *[0,1]* oraz wektor *Y* z rozkĹadu jednorodnego *[1,2]*."
   ]
  },
  {
   "cell_type": "code",
   "execution_count": null,
   "metadata": {
    "collapsed": true
   },
   "outputs": [],
   "source": [
    "X<-runif(50)\n",
    "Y<-runif(50, 1, 2)"
   ]
  },
  {
   "cell_type": "markdown",
   "metadata": {},
   "source": [
    "Policz **wspĂłĹczynnik korelacji Spearmana** poprzez policzenie korelacji na rangach wektorĂłw *X* i *Y*:"
   ]
  },
  {
   "cell_type": "code",
   "execution_count": null,
   "metadata": {},
   "outputs": [],
   "source": []
  },
  {
   "cell_type": "markdown",
   "metadata": {},
   "source": [
    "SprawdĹş ile bÄdzie wynosiĹ wspĂłĹczynnik korelacji Spearman'a dla zaleĹźnoĹci liniowej np. $Z=2X$. Ile bÄdzie wynosiĹ wspĂłĹczynnik korelacji Pearson'a?"
   ]
  },
  {
   "cell_type": "code",
   "execution_count": null,
   "metadata": {},
   "outputs": [],
   "source": [
    "Z <- 2*X\n"
   ]
  },
  {
   "cell_type": "markdown",
   "metadata": {},
   "source": [
    "Zwizualizuj wektory *X* i *Z* przed i po rangowaniu."
   ]
  },
  {
   "cell_type": "code",
   "execution_count": null,
   "metadata": {},
   "outputs": [],
   "source": [
    "plot(X,Z)\n",
    "plot(rank(X),rank(Z))"
   ]
  },
  {
   "cell_type": "markdown",
   "metadata": {},
   "source": [
    "SprawdĹş ile bÄdzie wynosiĹ wspĂłĹczynnik korelacji Spearman'a dla zaleĹźnoĹci  $Z=X^4$. Ile bÄdzie wynosiĹ wspĂłĹczynnik korelacji Pearson'a?"
   ]
  },
  {
   "cell_type": "code",
   "execution_count": null,
   "metadata": {},
   "outputs": [],
   "source": [
    "Z <- X^4\n"
   ]
  },
  {
   "cell_type": "markdown",
   "metadata": {},
   "source": [
    "Zwizualizuj wektory *X* i *Z* przed i po rangowaniu."
   ]
  },
  {
   "cell_type": "code",
   "execution_count": null,
   "metadata": {
    "collapsed": true
   },
   "outputs": [],
   "source": []
  },
  {
   "cell_type": "markdown",
   "metadata": {},
   "source": [
    "SprawdĹş ile bÄdzie wynosiĹ wspĂłĹczynnik korelacji Spearman'a dla zaleĹźnoĹci  $Z=X^4$, ale dodaj do niej trochÄ szumu z rozkĹadu normalnego"
   ]
  },
  {
   "cell_type": "code",
   "execution_count": null,
   "metadata": {},
   "outputs": [],
   "source": [
    "Z<-X^4 + 0.1*rnorm(length(Z))\n"
   ]
  },
  {
   "cell_type": "markdown",
   "metadata": {},
   "source": [
    "Zwizualizuj wektory *X* i *Z* przed i po rangowaniu."
   ]
  },
  {
   "cell_type": "code",
   "execution_count": null,
   "metadata": {},
   "outputs": [],
   "source": []
  },
  {
   "cell_type": "markdown",
   "metadata": {},
   "source": [
    "Olicz wspĂłĹczynnik korelacji Spearman'a pomiÄdzy wektorami *X* i *Z* z wykorzystaniem funkcji ``cor`` - znajdĹş w pomocy odpowiedni parametr"
   ]
  },
  {
   "cell_type": "code",
   "execution_count": null,
   "metadata": {},
   "outputs": [],
   "source": []
  },
  {
   "cell_type": "markdown",
   "metadata": {},
   "source": [
    "### Äwiczenie 3\n",
    "\n",
    "Unia Europejska postanowiĹa zmniejszyÄ dotacje dla producentĂłw makaronu. W ramach ustalania, o ile zmniejszyÄ caĹkowite dotacje, przeprowadzono eksperymenty majÄ",
    "ce na celu okreĹlenie moĹźliwego spadku eksportu, gĹĂłwnie do StanĂłw Zjednoczonych, wynikajÄ",
    "cego z redukcji dotacji. EkonomiĹci chcieli sprawdziÄ w wÄ",
    "skim zakresie wartoĹci, czy istnieje dodatnia korelacja miÄdzy poziomem dotacji a poziomem eksportu. Przeprowadzono symulacjÄ komputerowÄ",
    " zmiennych ekonomicznych majÄ",
    "cych znaczenie dla rynkĂłw eksportu makaronu. Wyniki znajdujÄ",
    " siÄ poniĹźej. ZakĹadajÄ",
    "c, Ĺźe wyniki symulacji sÄ",
    " dokĹadnym opisem rzeczywistoĹci, a otrzymane wartoĹci mogÄ",
    " byÄ uwaĹźane za prĂłbÄ losowÄ",
    " pobrana z populacji moĹźliwych wynikĂłw, ustal, czy istnieje dodatnia korelacja rang miÄdzy poziomem dotacji i poziomem eksportu."
   ]
  },
  {
   "cell_type": "code",
   "execution_count": null,
   "metadata": {
    "collapsed": true
   },
   "outputs": [],
   "source": [
    "Dane <- data.frame(\n",
    "    dotacje <- c(5.1,5.3,5.2,4.9,4.8,4.7,4.5,5,4.6,4.4,5.4), \n",
    "    eksport <- c(22,30,35,29,27,36,40,39,42,45,21) \n",
    ")"
   ]
  },
  {
   "cell_type": "markdown",
   "metadata": {},
   "source": [
    "Oblicz wspĂłĹczynnik korelacji Spearman'a i zinterpretuj go"
   ]
  },
  {
   "cell_type": "code",
   "execution_count": null,
   "metadata": {},
   "outputs": [],
   "source": []
  },
  {
   "cell_type": "markdown",
   "metadata": {},
   "source": [
    "Postaw hipotezÄ zerowÄ",
    " i alternatywnÄ",
    " i istotnoĹci wspĂłĹczynnika korelacji Spearmana:"
   ]
  },
  {
   "cell_type": "code",
   "execution_count": null,
   "metadata": {
    "collapsed": true
   },
   "outputs": [],
   "source": [
    "# H0: \n",
    "# H1: "
   ]
  },
  {
   "cell_type": "markdown",
   "metadata": {},
   "source": [
    "Policz test funkcjÄ",
    " ``cor.test`` z odpowiednim parametrem, aby test dotyczyĹ korelacji Spearmana"
   ]
  },
  {
   "cell_type": "code",
   "execution_count": null,
   "metadata": {},
   "outputs": [],
   "source": [
    "cor.test(Dane$dotacje, Dane$eksport,method=\"spearman\")"
   ]
  },
  {
   "cell_type": "markdown",
   "metadata": {},
   "source": [
    "Wniosek z testu:"
   ]
  },
  {
   "cell_type": "code",
   "execution_count": null,
   "metadata": {
    "collapsed": true
   },
   "outputs": [],
   "source": [
    "#"
   ]
  }
 ],
 "metadata": {
  "kernelspec": {
   "display_name": "R",
   "language": "R",
   "name": "ir"
  },
  "language_info": {
   "codemirror_mode": "r",
   "file_extension": ".r",
   "mimetype": "text/x-r-source",
   "name": "R",
   "pygments_lexer": "r",
   "version": "4.0.5"
  }
 },
 "nbformat": 4,
 "nbformat_minor": 2
}
