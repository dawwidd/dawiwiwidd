{
 "cells": [
  {
   "cell_type": "markdown",
   "metadata": {},
   "source": [
    "## Statystyka i Analiza danych\n",
    "# Laboratorium 3 - RozkĹady prawdopodobieĹstwa\n",
    "\n",
    "### Äwiczenie 1: RozkĹad normalny\n",
    "\n",
    "Zapoznaj siÄ z funkcjami R dotyczÄ",
    "cymi rozkĹadu normalnego:\n",
    "```\n",
    "dnorm\n",
    "pnorm\n",
    "qnorm\n",
    "rnorm\n",
    "```"
   ]
  },
  {
   "cell_type": "code",
   "execution_count": 1,
   "metadata": {},
   "outputs": [],
   "source": [
    "?dnorm"
   ]
  },
  {
   "cell_type": "markdown",
   "metadata": {},
   "source": [
    "Zaimplementuj funkcjÄ gÄstoĹci rozkĹadu normalnego i porĂłwnaj wynik z funkcjÄ",
    " `dnorm`"
   ]
  },
  {
   "cell_type": "code",
   "execution_count": null,
   "metadata": {
    "scrolled": false
   },
   "outputs": [],
   "source": [
    "gestosc <- function(x, mean=0, sd=1) {\n",
    "    # tu wstaw wzĂłr na gÄstoĹÄ rozkĹadu normalnego\n",
    "}\n",
    "\n",
    "\n",
    "#### sprawdzenie wyniku w postaci wykresu ####\n",
    "mean <- 0; sd <- 1\n",
    "x <- -50:50/10   # x = -5, -4.9, ..., 4.9, 5\n",
    "plot(x, dnorm(x, mean, sd), col=\"red\", pch=20)  # wykres punktowy dnorm\n",
    "lines(x, gestosc(x, mean, sd), col=\"blue\") # dodaj wykres gestosci jako liniÄ"
   ]
  },
  {
   "cell_type": "markdown",
   "metadata": {},
   "source": [
    "SprĂłbuj numerycznie zcaĹkowaÄ gÄstoĹÄ rozkĹadu (metodÄ",
    " prostokÄ",
    "tĂłw) aby uzyskaÄ wartoĹÄ dystrybuanty, a nastÄpnie porĂłwnaj wynik z funkcjÄ",
    " `pnorm`:"
   ]
  },
  {
   "cell_type": "code",
   "execution_count": null,
   "metadata": {},
   "outputs": [],
   "source": [
    "mean <- 0; sd <- 1\n",
    "\n",
    "delta = 0.01\n",
    "z <- -2000:2000*delta   # z od -20 do 20 co 0.01\n",
    "\n",
    "# caĹkuj numerycznie funkcjÄ gÄstoĹci; moĹźesz uĹźyÄ funkcji cumsum\n",
    "dystrybuanta <- # tu wstaw kod\n",
    "\n",
    "\n",
    "#### sprawdzenie wyniku w postaci wykresu ####\n",
    "x <- -50:50/10\n",
    "plot(x, pnorm(x, mean, sd), col=\"red\", pch=20)  # wykres punktowy pnorm\n",
    "lines(z, dystrybuanta, col=\"blue\") # dodaj wykresu dystrybuanty jako liniÄ"
   ]
  },
  {
   "cell_type": "markdown",
   "metadata": {},
   "source": [
    "### Äwiczenie 2: WstÄp do metody Monte Carlo\n",
    "\n",
    "Metoda Monte Carlo, wymyĹlona przez StanisĹawa Ulama, sĹuĹźy do przybliĹźania wartoĹci rĂłĹźnych caĹek (np. pola powierzchni figury, pola pod wykresem funkcji/rozkĹadu) poprzez wielokrotne losowanie liczb z odpowiedniego rozkĹadu prawdopodobieĹstwa.\n",
    "\n",
    "Zaczniemy od prĂłby oszacowania metodÄ",
    " Monte Carlo pola powierzchni koĹa o promieniu 1, wpisanego w kwadrat o bokach [-1,1]. W tym utwĂłrz funkcjÄ, ktĂłra losuje n par liczb x i y z rozkĹadu jednostajnego na odcinku [-1,1], a nastÄpnie zlicza, jaka czÄĹÄ z nich trafiĹa w koĹo i na postawie tego szacuje pole koĹa."
   ]
  },
  {
   "cell_type": "code",
   "execution_count": 27,
   "metadata": {},
   "outputs": [],
   "source": [
    "poleMC <- function(n) {\n",
    "    x <- runif(n, min=-1, max=1)\n",
    "    y <- runif(n, min=-1, max=1)\n",
    "\n",
    "    # uzupeĹnij resztÄ kodu\n",
    "}\n"
   ]
  },
  {
   "cell_type": "markdown",
   "metadata": {},
   "source": [
    "PorĂłwnaj wyniki funkcji `poleMC` z wartoĹciÄ",
    " pola figury obliczonej za pomocÄ",
    " wzoru dla rĂłĹźnych wartoĹci `n`"
   ]
  },
  {
   "cell_type": "code",
   "execution_count": null,
   "metadata": {},
   "outputs": [],
   "source": []
  },
  {
   "cell_type": "markdown",
   "metadata": {},
   "source": [
    "### Äwiczenie 3: Metoda Monte Carlo dla rozkĹadu normalnego\n",
    "\n",
    "Rozpoczniemy od napisania funkcji, ktĂłra generuje liczby losowe z rozkĹadu normalnego majÄ",
    "c do dyspozycji tylko funkcjÄ `runif` (do losowania z rozkĹadu jednostajnego). MoĹźesz uĹźyÄ funkcji `qnorm`."
   ]
  },
  {
   "cell_type": "code",
   "execution_count": null,
   "metadata": {},
   "outputs": [],
   "source": [
    "losowe <- function(n, mean=0, sd=1) {\n",
    "    x <- runif(n)\n",
    "    # uzupeĹnij resztÄ kodu\n",
    "}"
   ]
  },
  {
   "cell_type": "markdown",
   "metadata": {},
   "source": [
    "NastÄpnie przetestujemy funkcjÄ poprzez utworzenie histogramu wylosowanych wartoĹci i porĂłwnanie z prawdziwÄ",
    " gÄstoĹciÄ",
    " rozkĹadu oraz funkcjÄ",
    " R `rnorm`."
   ]
  },
  {
   "cell_type": "code",
   "execution_count": null,
   "metadata": {
    "scrolled": false
   },
   "outputs": [],
   "source": [
    "mean <- 0; sd <- 1\n",
    "n <- 100000\n",
    "\n",
    "par(mfrow=c(2,1)) \n",
    "\n",
    "hist(losowe(n, mean, sd), prob=TRUE, main=\"Funkcja losowe\")\n",
    "curve(dnorm(x, mean, sd), add=TRUE, col=\"blue\")\n",
    "\n",
    "hist(rnorm(n), prob=TRUE, main=\"Funkcja rnorm\")\n",
    "curve(dnorm(x, mean, sd), add=TRUE, col=\"blue\")"
   ]
  },
  {
   "cell_type": "markdown",
   "metadata": {},
   "source": [
    "Napiszemy teraz funkcjÄ szacujÄ",
    "cÄ",
    " wartoĹÄ dystrybuanty rozkĹadu normalnego metodÄ",
    " Monte Carlo:"
   ]
  },
  {
   "cell_type": "code",
   "execution_count": 65,
   "metadata": {
    "collapsed": true
   },
   "outputs": [],
   "source": [
    "dystrybuantaMC <- function(x, mean=0, sd=1, n=10000) {\n",
    "    # uzupeĹnij kod\n",
    "}"
   ]
  },
  {
   "cell_type": "markdown",
   "metadata": {},
   "source": [
    "PorĂłwnaj wartoĹci funkcji `dystrybuantaMC` z wartoĹciami zwracanymi przez funkcjÄ `pnorm` dla kilku wartoĹci x"
   ]
  },
  {
   "cell_type": "code",
   "execution_count": null,
   "metadata": {},
   "outputs": [],
   "source": [
    "x <- 0.5\n",
    "dystrybuantaMC(x, n=100000)\n",
    "pnorm(x)"
   ]
  },
  {
   "cell_type": "markdown",
   "metadata": {},
   "source": [
    "### Äwiczenie 4: Centralne Twierdzenie Graniczne\n",
    "\n",
    "W celu pogĹÄbienia intuicji dotyczÄ",
    "cej Centralnego Twierdzenia Granicznego (CTW), bÄdziemy badaÄ jak zmienia siÄ rozkĹad sum zmiennych losowych o rozkĹadzie:\n",
    "\n",
    "  - dwupunktowym z parametrem *p=0.5*,\n",
    "  - jednostajnym na [0,1],\n",
    "  - normalnym (funkcja `rnorm`).\n",
    "  \n",
    "W tym celu naleĹźy utworzyÄ funkcje, ktĂłre zwracajÄ",
    " `N` losowych sum, kaĹźda skĹadajÄ",
    "ca siÄ z `n` elementĂłw. MoĹźna to zrobiÄ poprzez utworzenie losowej macierzy `N` na `n`, a nastÄpnie zsumowanie wierszy (funkcja `rowSums')."
   ]
  },
  {
   "cell_type": "code",
   "execution_count": 100,
   "metadata": {},
   "outputs": [],
   "source": [
    "sumyDwupunktowy <- function(n, N=100000) {\n",
    "    # uzupeĹnij kod  \n",
    "}\n",
    "\n",
    "sumyJednostajny <- function(n, N=100000) {\n",
    "    # uzupeĹnij kod\n",
    "}\n",
    "\n",
    "sumyNormalny <- function(n, N=100000) {\n",
    "    # uzupeĹnij kod\n",
    "}"
   ]
  },
  {
   "cell_type": "markdown",
   "metadata": {},
   "source": [
    "UtwĂłrz wykresy sĹupkowe dla sum zmiennych o rozkĹadzie dwupunktowym, dla *n = 5, 10, 20, 50*:"
   ]
  },
  {
   "cell_type": "code",
   "execution_count": null,
   "metadata": {},
   "outputs": [],
   "source": [
    "par(mfrow=c(2,2))\n",
    "for (n in c(5, 10, 20, 50)) {\n",
    "    barplot(table(sumyDwupunktowy(n)), main=paste(\"Dwupunktowy, n =\", n))\n",
    "}"
   ]
  },
  {
   "cell_type": "markdown",
   "metadata": {},
   "source": [
    "Podobnie, utwĂłrz histogramy dla sum losowych z rozkĹadu jednostajnego dla *n = 1, 2, 3, 5, 10, 50*. MoĹźna dodaÄ krzywÄ",
    " gÄstoĹci rozkĹadu normalnego za pomocÄ",
    " komendy `curve` (**uwaga**: trzeba odpowiednio dobraÄ wartoĹÄ oczekiwanÄ",
    " i wariancjÄ!)."
   ]
  },
  {
   "cell_type": "code",
   "execution_count": null,
   "metadata": {},
   "outputs": [],
   "source": [
    "par(mfrow=c(3,2))\n",
    "for (n in c(1, 2, 3, 5, 10, 50)) {\n",
    "    # uzupeĹnij kod\n",
    "}"
   ]
  },
  {
   "cell_type": "markdown",
   "metadata": {},
   "source": [
    "Na koniec, utwĂłrz podobne wykresy dla zmiennych o rozkĹadzie normalnym."
   ]
  },
  {
   "cell_type": "code",
   "execution_count": null,
   "metadata": {
    "scrolled": false
   },
   "outputs": [],
   "source": []
  }
 ],
 "metadata": {
  "kernelspec": {
   "display_name": "R",
   "language": "R",
   "name": "ir"
  },
  "language_info": {
   "codemirror_mode": "r",
   "file_extension": ".r",
   "mimetype": "text/x-r-source",
   "name": "R",
   "pygments_lexer": "r",
   "version": "4.0.4"
  }
 },
 "nbformat": 4,
 "nbformat_minor": 2
}
