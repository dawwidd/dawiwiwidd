{
 "cells": [
  {
   "cell_type": "code",
   "execution_count": 15,
   "metadata": {},
   "outputs": [
    {
     "name": "stdout",
     "output_type": "stream",
     "text": [
      "Kwantyl:  1.644854 \n",
      "Poziom istotnosci (alpha):  0.1 \n",
      "Lewy koniec przedzialu ufnosci:  8.36 \n",
      "Prawy koniec przedzialu ufnosci:  11.64 \n",
      "Dlugosc przedzialu ufnosci:  8.28 \n"
     ]
    },
    {
     "data": {
      "image/png": "[encoded data removed]",
      "text/plain": [
       "plot without title"
      ]
     },
     "metadata": {},
     "output_type": "display_data"
    }
   ],
   "source": [
    "#Działa dla rozkładu normalnego oraz średniej arytmetycznej\n",
    "\n",
    "#DANE:\n",
    "n <- 16    #liczność próby\n",
    "sig2 <- 4  #wariancja (sigma^2)\n",
    "mean <- 10 #Srednia arytmetyczna\n",
    "perc <- 90 #procent przedziału ufności (90%)\n",
    "\n",
    "\n",
    "#OBLICZENIA:\n",
    "mu <-mean\n",
    "sigma <- sig2\n",
    "alpha <- 1 - perc/100\n",
    "kwantyl <- qnorm(1-alpha/2, 0, 1)\n",
    "cat(\"Kwantyl: \", kwantyl, \"\\n\") \n",
    "cat(\"Poziom istotności (alpha): \", alpha, \"\\n\") \n",
    "\n",
    "l_koniec_przedzialu <- mu - round(kwantyl,2)*(sigma/sqrt(n))       #odwrotnie nież w standaryzacji średniej\n",
    "cat(\"Lewy koniec przedziału ufności: \", l_koniec_przedzialu, \"\\n\") \n",
    "p_koniec_przedzialu <- mu + round(kwantyl,2)*(sigma/sqrt(n))  \n",
    "cat(\"Prawy koniec przedziału ufności: \", p_koniec_przedzialu, \"\\n\") \n",
    "#cat(\"Długość przedziału ufności: \", p_koniec_przedzialu-l_koniec_przedzialu, \"\\n\") \n",
    "\n",
    "#WYKRES:\n",
    "x1 <- (((mu-1*sigma^2)*100):((mu+1*sigma^2)*100))/100 \n",
    "plot(x1, pnorm(x1, mu, sigma), t='l')\n",
    "lines(x1, pnorm(x1, mu, sigma/sqrt(n)), t='l')\n",
    "lines(x1, x1*0+1-alpha/2)\n",
    "lines(x1, x1*0+alpha/2)"
   ]
  },
  {
   "cell_type": "code",
   "execution_count": null,
   "metadata": {},
   "outputs": [],
   "source": []
  },
  {
   "cell_type": "code",
   "execution_count": null,
   "metadata": {},
   "outputs": [],
   "source": []
  }
 ],
 "metadata": {
  "kernelspec": {
   "display_name": "R",
   "language": "R",
   "name": "ir"
  },
  "language_info": {
   "codemirror_mode": "r",
   "file_extension": ".r",
   "mimetype": "text/x-r-source",
   "name": "R",
   "pygments_lexer": "r",
   "version": "4.0.4"
  }
 },
 "nbformat": 4,
 "nbformat_minor": 4
}
