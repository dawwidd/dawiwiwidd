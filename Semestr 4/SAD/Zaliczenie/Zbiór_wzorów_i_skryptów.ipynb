{
 "cells": [
  {
   "cell_type": "markdown",
   "id": "3b5feb82",
   "metadata": {},
   "source": [
    "# Statystyka zbiór wzorów"
   ]
  },
  {
   "cell_type": "code",
   "execution_count": 1,
   "id": "be90a368",
   "metadata": {},
   "outputs": [],
   "source": [
    "# Implementacje statystyk opisowych\n",
    "#install.packages(\"moments\")\n",
    "library(moments)\n",
    "moment_centralny <- function(dane, rzad){mean((dane - mean(dane)) ^ rzad) }\n",
    "moment_centralny_rounded <- function(dane,rzad){ round(mean((dane - mean(dane)) ^ rzad),2) }\n",
    "wariancja <- function(dane){ sum((dane-mean(dane)) ^ 2) / (length(dane)-1) }\n",
    "wariancja_populacji <- function(dane){sum((dane-mean(dane)) ^ 2) / (length(dane))}\n",
    "odchylenie_std <- function(dane){sqrt(wariancja(dane))}\n",
    "odchylenie_std_populacji <- function(dane){sqrt(wariancja_populacji(dane))}\n",
    "skosnosc <- function(dane){moment_centralny(dane,3) / (odchylenie_std_populacji(dane)^3)}\n",
    "kurtoza <- function(dane){moment_centralny(dane,4) / odchylenie_std(dane)^4}\n",
    "kurtoza_min3 <- function(dane){moment_centralny(dane,4) / odchylenie_std(dane)^4 - 3}\n",
    "mode <- function(dane){ uniqv <- unique(dane); uniqv[which.max(tabulate(match(dane,uniqv)))]}\n",
    "alt_skewness <- function(dane){(mean(dane)-mode(dane)) / odchylenie_std(dane)}"
   ]
  },
  {
   "cell_type": "markdown",
   "id": "16c6977b",
   "metadata": {},
   "source": [
    "### Podstawowe statystyki opisowe"
   ]
  },
  {
   "cell_type": "code",
   "execution_count": 2,
   "id": "9e985010",
   "metadata": {},
   "outputs": [
    {
     "data": {
      "text/html": [
       "<style>\n",
       ".list-inline {list-style: none; margin:0; padding: 0}\n",
       ".list-inline>li {display: inline-block}\n",
       ".list-inline>li:not(:last-child)::after {content: \"\\00b7\"; padding: 0 .5ex}\n",
       "</style>\n",
       "<ol class=list-inline><li>0</li><li>2</li><li>3</li><li>3</li><li>5</li><li>5</li><li>6</li><li>6</li><li>7</li><li>8</li></ol>\n"
      ],
      "text/latex": [
       "\\begin{enumerate*}\n",
       "\\item 0\n",
       "\\item 2\n",
       "\\item 3\n",
       "\\item 3\n",
       "\\item 5\n",
       "\\item 5\n",
       "\\item 6\n",
       "\\item 6\n",
       "\\item 7\n",
       "\\item 8\n",
       "\\end{enumerate*}\n"
      ],
      "text/markdown": [
       "1. 0\n",
       "2. 2\n",
       "3. 3\n",
       "4. 3\n",
       "5. 5\n",
       "6. 5\n",
       "7. 6\n",
       "8. 6\n",
       "9. 7\n",
       "10. 8\n",
       "\n",
       "\n"
      ],
      "text/plain": [
       " [1] 0 2 3 3 5 5 6 6 7 8"
      ]
     },
     "metadata": {},
     "output_type": "display_data"
    },
    {
     "data": {
      "text/plain": [
       "   Min. 1st Qu.  Median    Mean 3rd Qu.    Max. \n",
       "    0.0     3.0     5.0     4.5     6.0     8.0 "
      ]
     },
     "metadata": {},
     "output_type": "display_data"
    },
    {
     "name": "stdout",
     "output_type": "stream",
     "text": [
      "[1] \"Rozstęp:  8\"\n",
      "[1] \"Odstęp międzykwartylowy:  3\"\n",
      "[1] \"Wariancja:  6.05555555555556\"\n",
      "[1] \"Wariancja pop:  5.45\"\n",
      "[1] \"Odchylenie standardowe:  2.46080384337223\"\n",
      "[1] \"Odchylenie standardowe pop:  2.33452350598575\"\n",
      "[1] \"Skośność:  -0.377264971929353\"\n",
      "[1] \"Kurtoza:  2.21740594226075\"\n",
      "[1] \"Kurtoza-3:  -1.20390118676879\"\n",
      "[1] \"Dominanta:  6\"\n",
      "[1] \"Alternatywna skośność:  -0.609556915330737\"\n"
     ]
    }
   ],
   "source": [
    "dane <- c(6,2,5,3,0,8,6,7,5,3)\n",
    "\n",
    "sort(dane)\n",
    "summary(dane)\n",
    "print(paste(\"Rozstęp: \",summary(dane)[6]-summary(dane)[1])) #rozstęp\n",
    "print(paste(\"Odstęp międzykwartylowy: \",summary(dane)[5]-summary(dane)[2])) #odstęp międzykwartylowy\n",
    "print(paste(\"Wariancja: \", wariancja(dane)))\n",
    "print(paste(\"Wariancja pop: \", wariancja_populacji(dane)))\n",
    "print(paste(\"Odchylenie standardowe: \", odchylenie_std(dane)))\n",
    "print(paste(\"Odchylenie standardowe pop: \", odchylenie_std_populacji(dane)))\n",
    "print(paste(\"Skośność: \", skewness(dane)))\n",
    "print(paste(\"Kurtoza: \", kurtosis(dane)))\n",
    "print(paste(\"Kurtoza-3: \", kurtoza_min3(dane)))\n",
    "print(paste(\"Dominanta: \", mode(dane)))\n",
    "print(paste(\"Alternatywna skośność: \", alt_skewness(dane)))"
   ]
  },
  {
   "cell_type": "markdown",
   "id": "90d44898",
   "metadata": {},
   "source": [
    "### Test Z"
   ]
  },
  {
   "cell_type": "code",
   "execution_count": 4,
   "id": "97c55dd1",
   "metadata": {},
   "outputs": [
    {
     "name": "stdout",
     "output_type": "stream",
     "text": [
      "Wartość statystyki -3.272727\n",
      "Wartość krytyczna: -1.644854\n",
      "Czy odrzucić: TRUE"
     ]
    }
   ],
   "source": [
    "# test Z\n",
    "mu_0 <- 129\n",
    "sigma <- 11\n",
    "n <- 25\n",
    "mu <- 121.8\n",
    "alpha <- 0.05\n",
    "Z <- ((mu - mu_0)/sigma)*sqrt(n)\n",
    "cat(\"Wartość statystyki\",Z)\n",
    "\n",
    "# Zakomentuj niepotrzebne\n",
    "Z_alpha <- qnorm(alpha) # lewostronny\n",
    "#  Z_alpha <- qnorm(1-alpha) # prawostronny\n",
    "# Z_alpha <- qnorm(1-alpha/2) # obustronny\n",
    "cat(\"\\nWartość krytyczna:\",Z_alpha)\n",
    "\n",
    "cat(\"\\nCzy odrzucić:\",Z < Z_alpha) # Czy odrzucic H0 na rzecz H1, lewostronny\n",
    "# cat(\"\\nCzy odrzucić:\",Z > Z_alpha) # Czy odrzucic H0 na rzecz H1, prawostronny\n",
    "# cat(\"\\nCzy odrzucić:\",(Z > Z_alpha) || (Z < -Z_alpha))# Czy odrzucic H0 na rzecz H1, obustronny"
   ]
  },
  {
   "cell_type": "markdown",
   "id": "cdac8f0e",
   "metadata": {},
   "source": [
    "### Test T"
   ]
  },
  {
   "cell_type": "code",
   "execution_count": 17,
   "id": "8be0f795",
   "metadata": {},
   "outputs": [
    {
     "name": "stdout",
     "output_type": "stream",
     "text": [
      "Wartość statystyki -31.90909\n",
      "Wartość krytyczna: 1.710882 \n",
      "Czy odrzucić: FALSE"
     ]
    }
   ],
   "source": [
    "# test T\n",
    "mu_0 <- 192\n",
    "sigma <- 11\n",
    "n <- 25\n",
    "mu <- 121.8\n",
    "alpha <- 0.05\n",
    "T <- ((mu - mu_0)/sigma)*sqrt(n)\n",
    "cat(\"Wartość statystyki\",T)\n",
    "\n",
    "# Zakomentuj niepotrzebne\n",
    "# T_alpha <- qt(alpha, n-1) # lewostronny\n",
    "T_alpha <- qt(1-alpha, n-1) # prawostronny\n",
    "# T_alpha <- qt(1-alpha/2, n-1) # obustronny\n",
    "\n",
    "cat(\"\\nWartość krytyczna:\",T_alpha,\"\\n\")\n",
    "\n",
    "# cat(\"\\nCzy odrzucić:\",T < T_alpha) # Czy odrzucic H0 na rzecz H1, lewostronny\n",
    "cat(\"Czy odrzucić:\",T > T_alpha) # Czy odrzucic H0 na rzecz H1, prawostronny\n",
    "# cat(\"Czy odrzucić:\",(T > T_alpha) || (T < -T_alpha)) # Czy odrzucic H0 na rzecz H1, obustronny"
   ]
  },
  {
   "cell_type": "markdown",
   "id": "01e81713",
   "metadata": {},
   "source": [
    "### Test F (wariancja)"
   ]
  },
  {
   "cell_type": "code",
   "execution_count": null,
   "id": "dde98afc",
   "metadata": {},
   "outputs": [],
   "source": []
  },
  {
   "cell_type": "markdown",
   "id": "766bba49",
   "metadata": {},
   "source": [
    "### Test frakcji"
   ]
  },
  {
   "cell_type": "code",
   "execution_count": 5,
   "id": "c04aae2a",
   "metadata": {},
   "outputs": [
    {
     "name": "stdout",
     "output_type": "stream",
     "text": [
      "Wartość statystyki:  -2.39188\n",
      "Wartość krytyczna: -2.053749\n",
      "Czy odrzucić: TRUE"
     ]
    }
   ],
   "source": [
    "# test frakcji\n",
    "p_0 <- 0.25\n",
    "p <- 5/49\n",
    "sigma <- sqrt(p_0*(1-p_0))\n",
    "n <- 49\n",
    "alpha <- 0.02\n",
    "Z <- ((p-p_0)/sigma)*sqrt(n)\n",
    "\n",
    "cat(\"Wartość statystyki: \",Z)\n",
    "\n",
    "# Zakomentuj niepotrzebne\n",
    "Z_alpha <- qnorm(alpha, 0, 1) # lewostronny\n",
    "#Z_alpha <- qnorm(1-alpha, 0, 1) # prawostronny\n",
    "# Z_alpha <- qnorm(1-alpha/2, 0, 1) # prawostronny\n",
    "\n",
    "cat(\"\\nWartość krytyczna:\",Z_alpha)\n",
    "\n",
    "\n",
    "cat(\"\\nCzy odrzucić:\", Z < Z_alpha) # Czy odrzucic H0 na rzecz H1, lewostronny\n",
    "#cat(\"\\nCzy odrzucić:\",Z > Z_alpha) # Czy odrzucic H0 na rzecz H1, prawostronny\n",
    "# cat(\"\\nCzy odrzucić:\",(Z > Z_alpha) || (Z < -Z_alpha)) # Czy odrzucic H0 na rzecz H1, obustronnydane <- c(0, 4, 5, 1, 6, 1, 0, 3, 0, 0)"
   ]
  },
  {
   "cell_type": "markdown",
   "id": "83e2ea9a",
   "metadata": {},
   "source": [
    "### Test istotności współczynnika korelacji"
   ]
  },
  {
   "cell_type": "code",
   "execution_count": 6,
   "id": "186817a3",
   "metadata": {},
   "outputs": [
    {
     "name": "stdout",
     "output_type": "stream",
     "text": [
      "\n",
      "Współczynnik kowariancji:                  0\n",
      "Współczynnik korelacji:                    0.014\n",
      "Współczynnik kierunkowy regresji liniowej: 0.004\n",
      "Wyraz wolny regresji liniowej:             0.124\n",
      "Wartość krytyczna:                         2.16\n",
      "Wartość statystyki testowej:               0.049\n",
      "\n",
      "Korelacja nie jest istotna"
     ]
    }
   ],
   "source": [
    "X <- c(0.08,0.088,0.539,0.802,0.396,0.161,0.756,0.687,0.308,0.032,0.815,0.958,0.977,0.894,0.097)\n",
    "Y <- c(0.017,0.073,0.103,0.237,0.295,0.126,0.003,0.009,0.085,0.165,0.172,-0.029,0.18,0.254,0.205)\n",
    "mu_X <- mean(X)\n",
    "mu_Y <- mean(Y)\n",
    "s_XY <- cov(X,Y)\n",
    "s_X <- sd(X)\n",
    "s_Y <- sd(Y)\n",
    "n <- length(X)\n",
    "alpha <- 0.05\n",
    "\n",
    "\n",
    "a <- s_XY/s_X^2\n",
    "b <- mu_Y - a * mu_X\n",
    "r_XY <- a * s_X/s_Y\n",
    "t_cr <- qt(1-alpha/2, n-2)\n",
    "t <- (r_XY/sqrt(1-r_XY^2)) * sqrt(n-2)\n",
    "\n",
    "cat(\"\\nWspółczynnik kowariancji:                 \",round(s_XY,3))\n",
    "cat(\"\\nWspółczynnik korelacji:                   \",round(r_XY,3))\n",
    "cat(\"\\nWspółczynnik kierunkowy regresji liniowej:\",round(a,3))\n",
    "cat(\"\\nWyraz wolny regresji liniowej:            \",round(b,3))\n",
    "cat(\"\\nWartość krytyczna:                        \",round(t_cr,3))\n",
    "cat(\"\\nWartość statystyki testowej:              \",round(t,3))  \n",
    "decyzja <- as.integer(abs(t)>t_cr)\n",
    "\n",
    "if (decyzja == 1){\n",
    "    cat(\"\\n\\nKorelacja jest istotna\")\n",
    "}else{\n",
    "    cat(\"\\n\\nKorelacja nie jest istotna\")\n",
    "}"
   ]
  },
  {
   "cell_type": "markdown",
   "id": "f0725d66",
   "metadata": {},
   "source": [
    "### Test istotności modelu regresji jednej zmiennej"
   ]
  },
  {
   "cell_type": "code",
   "execution_count": 7,
   "id": "fd02df00",
   "metadata": {},
   "outputs": [
    {
     "name": "stdout",
     "output_type": "stream",
     "text": [
      "R2 (współczynnik determinacji): 0.02040816 \n",
      "R (współczynnik korelacji): -0.1428571 \n",
      "F_cr (wartość krytyczna): 4.139252 \n",
      "F: 0.6875 \n",
      "F > F_cr: FALSE \n"
     ]
    }
   ],
   "source": [
    "# Test istotności modelu regresji jednej zmiennej\n",
    "\n",
    "# H0: a == 0\n",
    "# H1: a != 0\n",
    "\n",
    "n <- 35 # liczba obserwacji\n",
    "# Współczynniki prostej\n",
    "a <- -1\n",
    "b <- -4\n",
    "SST <- 490\n",
    "SSR <- 10\n",
    "alpha <- 0.05\n",
    "\n",
    "R2 <- SSR/SST\n",
    "cat(\"R2 (współczynnik determinacji):\", R2,\"\\n\")\n",
    "\n",
    "R <- sign(a) * sqrt(R2)\n",
    "cat(\"R (współczynnik korelacji):\", R,\"\\n\")\n",
    "\n",
    "F_cr <- qf(1-alpha, 1, n-2)\n",
    "cat(\"F_cr (wartość krytyczna):\", F_cr,\"\\n\")\n",
    "\n",
    "SSE <- SST - (R2*SST)\n",
    "F <- (SSR/SSE) * (n-2)\n",
    "cat(\"F:\", F,\"\\n\")\n",
    "cat(\"F > F_cr:\", F > F_cr,\"\\n\")"
   ]
  },
  {
   "cell_type": "markdown",
   "id": "b7d1816d",
   "metadata": {},
   "source": [
    "### Test istotności modelu regresji wielu zmiennych"
   ]
  },
  {
   "cell_type": "code",
   "execution_count": 6,
   "id": "79d77447",
   "metadata": {},
   "outputs": [
    {
     "name": "stdout",
     "output_type": "stream",
     "text": [
      "SST: 91.8 \n",
      "SSR: 30.294 \n",
      "SSE: 61.506 \n",
      "F: 3.69403 \n",
      "F > F_cr: TRUE \n"
     ]
    }
   ],
   "source": [
    "# test istotności modelu regresji wielu zmiennych\n",
    "\n",
    "n <- 35    # liczność próby\n",
    "k <- 4    #ile zmiennych\n",
    "R2 <- 0.33\n",
    "S_Y_squared <- 2.7    # nieobciążony estymator wariancji zmiennej objaśnianej Y\n",
    "#SST <- 33\n",
    "F_cr <- 2.69    # zbiór krytyczny (F_cr, inf)\n",
    "\n",
    "SST <- (n-1) * S_Y_squared\n",
    "# R2 <- SSR/SST\n",
    "SSR <- SST * R2\n",
    "# SST <- SSE+SSR\n",
    "SSE <- SST - SSR\n",
    "# SSE <- SST - (R2 * SST)\n",
    "MSR <- SSR/k\n",
    "MSE <- SSE/(n-k-1)\n",
    "F <- MSR/MSE\n",
    "cat(\"SST:\", SST,\"\\n\")\n",
    "cat(\"SSR:\", SSR,\"\\n\")\n",
    "cat(\"SSE:\", SSE,\"\\n\")\n",
    "cat(\"F:\", F,\"\\n\")\n",
    "cat(\"F > F_cr:\", F > F_cr,\"\\n\")"
   ]
  },
  {
   "cell_type": "markdown",
   "id": "89b92b36",
   "metadata": {},
   "source": [
    "### Test chi^2"
   ]
  },
  {
   "cell_type": "code",
   "execution_count": 2,
   "id": "b0e6fb5a",
   "metadata": {},
   "outputs": [
    {
     "data": {
      "text/html": [
       "<table class=\"dataframe\">\n",
       "<caption>A matrix: 2 × 2 of type dbl</caption>\n",
       "<tbody>\n",
       "\t<tr><td>37</td><td>13</td></tr>\n",
       "\t<tr><td>33</td><td>17</td></tr>\n",
       "</tbody>\n",
       "</table>\n"
      ],
      "text/latex": [
       "A matrix: 2 × 2 of type dbl\n",
       "\\begin{tabular}{ll}\n",
       "\t 37 & 13\\\\\n",
       "\t 33 & 17\\\\\n",
       "\\end{tabular}\n"
      ],
      "text/markdown": [
       "\n",
       "A matrix: 2 × 2 of type dbl\n",
       "\n",
       "| 37 | 13 |\n",
       "| 33 | 17 |\n",
       "\n"
      ],
      "text/plain": [
       "     [,1] [,2]\n",
       "[1,] 37   13  \n",
       "[2,] 33   17  "
      ]
     },
     "metadata": {},
     "output_type": "display_data"
    },
    {
     "name": "stdout",
     "output_type": "stream",
     "text": [
      "Suma: 100 \n",
      "Macierz wartości oczekiwanych:\n"
     ]
    },
    {
     "data": {
      "text/html": [
       "<table class=\"dataframe\">\n",
       "<caption>A matrix: 2 × 2 of type dbl</caption>\n",
       "<tbody>\n",
       "\t<tr><td>35</td><td>15</td></tr>\n",
       "\t<tr><td>35</td><td>15</td></tr>\n",
       "</tbody>\n",
       "</table>\n"
      ],
      "text/latex": [
       "A matrix: 2 × 2 of type dbl\n",
       "\\begin{tabular}{ll}\n",
       "\t 35 & 15\\\\\n",
       "\t 35 & 15\\\\\n",
       "\\end{tabular}\n"
      ],
      "text/markdown": [
       "\n",
       "A matrix: 2 × 2 of type dbl\n",
       "\n",
       "| 35 | 15 |\n",
       "| 35 | 15 |\n",
       "\n"
      ],
      "text/plain": [
       "     [,1] [,2]\n",
       "[1,] 35   15  \n",
       "[2,] 35   15  "
      ]
     },
     "metadata": {},
     "output_type": "display_data"
    },
    {
     "data": {
      "text/plain": [
       "\n",
       "\tPearson's Chi-squared test\n",
       "\n",
       "data:  data_matrix\n",
       "X-squared = 0.7619, df = 1, p-value = 0.3827\n"
      ]
     },
     "metadata": {},
     "output_type": "display_data"
    },
    {
     "data": {
      "text/html": [
       "<strong>X-squared:</strong> 0.761904761904762"
      ],
      "text/latex": [
       "\\textbf{X-squared:} 0.761904761904762"
      ],
      "text/markdown": [
       "**X-squared:** 0.761904761904762"
      ],
      "text/plain": [
       "X-squared \n",
       "0.7619048 "
      ]
     },
     "metadata": {},
     "output_type": "display_data"
    },
    {
     "name": "stdout",
     "output_type": "stream",
     "text": [
      "Początek obszaru krytycznego: 3.841459 \n",
      "Czy odrzucić H0: FALSE \n"
     ]
    }
   ],
   "source": [
    "# Test chi-kwadrat\n",
    "\n",
    "# H0: Brak zależności\n",
    "# H1: Istnieje zależność\n",
    "\n",
    "alpha <- 0.05\n",
    "data_matrix <- matrix( c(37,33,13,17), 2, 2)\n",
    "data_matrix\n",
    "\n",
    "margin_rows <- rowSums(data_matrix)\n",
    "margin_cols <- colSums(data_matrix)\n",
    "total <- sum(margin_cols)\n",
    "cat(\"Suma:\", total,\"\\n\")\n",
    "\n",
    "E_matrix <- outer(margin_rows, margin_cols)/total\n",
    "cat(\"Macierz wartości oczekiwanych:\\n\")\n",
    "E_matrix\n",
    "\n",
    "test <- chisq.test(data_matrix, correct=FALSE) # correct - poprawka Yatesa\n",
    "test\n",
    "\n",
    "chi2 <- test[[1]]\n",
    "chi2\n",
    "chi2 <-unname(chi2)\n",
    "\n",
    "df <- test[[2]]    # stopnie swobody\n",
    "chi2_cr <- qchisq(1-alpha, df)\n",
    "cat(\"Początek obszaru krytycznego:\",chi2_cr,\"\\n\")   # Początek obszaru krytycznego\n",
    "\n",
    "cat(\"Czy odrzucić H0:\",chi2 > chi2_cr,\"\\n\") # Czy odrzucić H0"
   ]
  },
  {
   "cell_type": "markdown",
   "id": "41bc80dd",
   "metadata": {},
   "source": [
    "### Test chi^2 (insze zadanie)"
   ]
  },
  {
   "cell_type": "code",
   "execution_count": 10,
   "id": "31164e36",
   "metadata": {},
   "outputs": [
    {
     "data": {
      "text/plain": [
       "\n",
       "\tChi-squared test for given probabilities\n",
       "\n",
       "data:  sondaz\n",
       "X-squared = 59.313, df = 3, p-value = 8.242e-13\n"
      ]
     },
     "metadata": {},
     "output_type": "display_data"
    },
    {
     "data": {
      "text/html": [
       "<strong>X-squared:</strong> 59.312996031746"
      ],
      "text/latex": [
       "\\textbf{X-squared:} 59.312996031746"
      ],
      "text/markdown": [
       "**X-squared:** 59.312996031746"
      ],
      "text/plain": [
       "X-squared \n",
       "   59.313 "
      ]
     },
     "metadata": {},
     "output_type": "display_data"
    },
    {
     "name": "stdout",
     "output_type": "stream",
     "text": [
      "Stopnie swobody: 3 \n",
      "Początek obszaru krytycznego: 7.814728 \n",
      "Czy odrzucić H0: TRUE \n"
     ]
    }
   ],
   "source": [
    "# Test chi-kwadrat (2)\n",
    "\n",
    "kategorie <- c(\"A\",\"B\",\"C\",\"D\")\n",
    "historyczne <- c(36,18,14,32)\n",
    "sondaz <- c(12,23,38,27)\n",
    "n <- sum(sondaz)\n",
    "alpha <- 0.05\n",
    "\n",
    "test <- chisq.test(sondaz, p=historyczne/sum(historyczne))\n",
    "test\n",
    "\n",
    "chi2 <- test[[1]]\n",
    "chi2\n",
    "chi2 <- unname(chi2)\n",
    "\n",
    "df <- length(sondaz)-1\n",
    "cat(\"Stopnie swobody:\", df,\"\\n\")\n",
    "\n",
    "chi2_cr <- qchisq(1-alpha, df)\n",
    "cat(\"Początek obszaru krytycznego:\",chi2_cr,\"\\n\")   # Początek obszaru krytycznego\n",
    "\n",
    "cat(\"Czy odrzucić H0:\",chi2 > chi2_cr,\"\\n\") # Czy odrzucić H0"
   ]
  },
  {
   "cell_type": "markdown",
   "id": "e1dfc57d",
   "metadata": {},
   "source": [
    "### Test U Manna-Whitneya"
   ]
  },
  {
   "cell_type": "code",
   "execution_count": null,
   "id": "35531057",
   "metadata": {},
   "outputs": [],
   "source": []
  },
  {
   "cell_type": "markdown",
   "id": "46a41179",
   "metadata": {},
   "source": [
    "### Test Wilcoxona"
   ]
  },
  {
   "cell_type": "code",
   "execution_count": 11,
   "id": "c0b23953",
   "metadata": {},
   "outputs": [
    {
     "name": "stdout",
     "output_type": "stream",
     "text": [
      "Wartość statystyki:  14 \n",
      "Przedział krytyczny: [ 0 , 2045 ]"
     ]
    },
    {
     "data": {
      "text/html": [
       "TRUE"
      ],
      "text/latex": [
       "TRUE"
      ],
      "text/markdown": [
       "TRUE"
      ],
      "text/plain": [
       "[1] TRUE"
      ]
     },
     "metadata": {},
     "output_type": "display_data"
    }
   ],
   "source": [
    "# Test Wilcoxona\n",
    "dane0 <- c(4.5,3.5,2,5,4,3.5,3,2,2,4.5,3,4,5,2)\n",
    "dane1 <- c(3.5,4.5,4.5,5,5,4.5,3.5,3.5,2,4,5,3.5,4.5,3.5)\n",
    "alpha <- 0.05\n",
    "\n",
    "roznica <- dane0 - dane1\n",
    "modul_roznicy <- abs(roznica)\n",
    "ranga <- rank(modul_roznicy[modul_roznicy!=0])\n",
    "znaki_niezerowych_roznic <- sign(roznica[roznica!=0])\n",
    "\n",
    "Sigma_plus <- sum(ranga[znaki_niezerowych_roznic==1])\n",
    "Sigma_minus <- sum(ranga[znaki_niezerowych_roznic==-1])\n",
    "\n",
    "T <- min(Sigma_minus, Sigma_plus)\n",
    "cat(\"Wartość statystyki: \", T,\"\\n\")\n",
    "\n",
    "T_cr <- qsignrank(1-alpha, n, lower.tail=FALSE) - 1\n",
    "cat(\"Przedział krytyczny: [ 0 ,\", T_cr,\"]\")\n",
    "\n",
    "T <= T_cr\n"
   ]
  },
  {
   "cell_type": "code",
   "execution_count": 16,
   "id": "e4febea0",
   "metadata": {},
   "outputs": [
    {
     "data": {
      "text/html": [
       "<style>\n",
       ".list-inline {list-style: none; margin:0; padding: 0}\n",
       ".list-inline>li {display: inline-block}\n",
       ".list-inline>li:not(:last-child)::after {content: \"\\00b7\"; padding: 0 .5ex}\n",
       "</style>\n",
       "<ol class=list-inline><li>1.5</li><li>1.5</li><li>3.5</li><li>3.5</li><li>6</li><li>6</li><li>6</li><li>8</li><li>9</li><li>12</li><li>12</li><li>12</li><li>12</li><li>12</li></ol>\n"
      ],
      "text/latex": [
       "\\begin{enumerate*}\n",
       "\\item 1.5\n",
       "\\item 1.5\n",
       "\\item 3.5\n",
       "\\item 3.5\n",
       "\\item 6\n",
       "\\item 6\n",
       "\\item 6\n",
       "\\item 8\n",
       "\\item 9\n",
       "\\item 12\n",
       "\\item 12\n",
       "\\item 12\n",
       "\\item 12\n",
       "\\item 12\n",
       "\\end{enumerate*}\n"
      ],
      "text/markdown": [
       "1. 1.5\n",
       "2. 1.5\n",
       "3. 3.5\n",
       "4. 3.5\n",
       "5. 6\n",
       "6. 6\n",
       "7. 6\n",
       "8. 8\n",
       "9. 9\n",
       "10. 12\n",
       "11. 12\n",
       "12. 12\n",
       "13. 12\n",
       "14. 12\n",
       "\n",
       "\n"
      ],
      "text/plain": [
       " [1]  1.5  1.5  3.5  3.5  6.0  6.0  6.0  8.0  9.0 12.0 12.0 12.0 12.0 12.0"
      ]
     },
     "metadata": {},
     "output_type": "display_data"
    },
    {
     "data": {
      "text/html": [
       "<style>\n",
       ".list-inline {list-style: none; margin:0; padding: 0}\n",
       ".list-inline>li {display: inline-block}\n",
       ".list-inline>li:not(:last-child)::after {content: \"\\00b7\"; padding: 0 .5ex}\n",
       "</style>\n",
       "<ol class=list-inline><li>1.5</li><li>12</li><li>12</li><li>12</li><li>12</li><li>6</li><li>6</li><li>6</li><li>3.5</li><li>3.5</li><li>12</li><li>9</li><li>1.5</li><li>8</li></ol>\n"
      ],
      "text/latex": [
       "\\begin{enumerate*}\n",
       "\\item 1.5\n",
       "\\item 12\n",
       "\\item 12\n",
       "\\item 12\n",
       "\\item 12\n",
       "\\item 6\n",
       "\\item 6\n",
       "\\item 6\n",
       "\\item 3.5\n",
       "\\item 3.5\n",
       "\\item 12\n",
       "\\item 9\n",
       "\\item 1.5\n",
       "\\item 8\n",
       "\\end{enumerate*}\n"
      ],
      "text/markdown": [
       "1. 1.5\n",
       "2. 12\n",
       "3. 12\n",
       "4. 12\n",
       "5. 12\n",
       "6. 6\n",
       "7. 6\n",
       "8. 6\n",
       "9. 3.5\n",
       "10. 3.5\n",
       "11. 12\n",
       "12. 9\n",
       "13. 1.5\n",
       "14. 8\n",
       "\n",
       "\n"
      ],
      "text/plain": [
       " [1]  1.5 12.0 12.0 12.0 12.0  6.0  6.0  6.0  3.5  3.5 12.0  9.0  1.5  8.0"
      ]
     },
     "metadata": {},
     "output_type": "display_data"
    }
   ],
   "source": [
    "x <- 0\n",
    "rank(c(0,0,2,2,5,5,5,6,8,9,9,9,9,9))\n",
    "rank(c(0,9,9,9,9,5,5,5,2,2,9,8,0,6))"
   ]
  },
  {
   "cell_type": "code",
   "execution_count": 12,
   "id": "c6c69e0f",
   "metadata": {},
   "outputs": [
    {
     "name": "stderr",
     "output_type": "stream",
     "text": [
      "Warning message in wilcox.test.default(dane0, dane1, paired = TRUE):\n",
      "“cannot compute exact p-value with ties”\n",
      "Warning message in wilcox.test.default(dane0, dane1, paired = TRUE):\n",
      "“cannot compute exact p-value with zeroes”\n"
     ]
    },
    {
     "data": {
      "text/plain": [
       "\n",
       "\tWilcoxon signed rank test with continuity correction\n",
       "\n",
       "data:  dane0 and dane1\n",
       "V = 14, p-value = 0.05267\n",
       "alternative hypothesis: true location shift is not equal to 0\n"
      ]
     },
     "metadata": {},
     "output_type": "display_data"
    }
   ],
   "source": [
    "wilcox.test(dane0,dane1, paired=TRUE)"
   ]
  },
  {
   "cell_type": "markdown",
   "id": "102f5f1f",
   "metadata": {},
   "source": [
    "### Test T dla dwóch zmiennych (sparowany)"
   ]
  },
  {
   "cell_type": "code",
   "execution_count": 5,
   "id": "5cc9968d",
   "metadata": {},
   "outputs": [
    {
     "name": "stdout",
     "output_type": "stream",
     "text": [
      "[1] \"H_0 - wartości w obu próbach średnio są równe\"\n",
      "[1] \"H_1 - wartości w próbie 1 średnio są [większe/mniejsze/różne] niż w próbie 2\"\n",
      "\n",
      "przedział krytyczny dla testu PRAWOstronnego: ( 1.894579 ; inf)\n",
      "przedział krytyczny dla testu LEWOstronnego: (-inf; -1.894579 )\n",
      "przedział krytyczny dla testu DWUstronnego: (-inf; -2.364624 ) U ( 2.364624 ; inf)\n",
      "\n",
      "wartość statystyki T:  1.479095 \n",
      "stopnie swobody:  7 \n",
      "p-value:  0.09132485 \n",
      "\n",
      "[1] \"Czy odrzucić H_0?\"\n",
      "Dla testu PRAWOstronnego:  FALSE \n",
      "Dla testu LEWOstronnego:  FALSE \n",
      "Dla testu DWUstronnego:  FALSE \n"
     ]
    }
   ],
   "source": [
    "### Sparowany,(T)\n",
    "# próby\n",
    "dane1 <- c(112.1, 149.2, 120.3, 127.1, 105.6, 109.3, 116.4, 142)\n",
    "dane2 <- c(96.6, 100.2, 115.6, 94, 125.5, 134.4, 103.3, 97.3)\n",
    "d <- dane1-dane2\n",
    "\n",
    "n <- length(dane1)\n",
    "d_srednia <- mean(d)     # średnia różnica między dwiema sparowanymi wartościami (w 1 i 2 serii badań)\n",
    "odchylenie_std <- sqrt(var(d)) # ODCHYLENIE standardowe liczb d (NIE wariancja!!!)\n",
    "\n",
    "# zalozenia\n",
    "alfa <- 0.05\n",
    "dof <- n-1 #degrees of freedom\n",
    "\n",
    "# przedział krytyczny\n",
    "kryt_prawo <- qt(1-alfa, dof)\n",
    "kryt_lewo <- qt(alfa, dof)\n",
    "kryt_dwu <- qt(1-alfa/2, dof)\n",
    "\n",
    "#liczymy statystykę T\n",
    "T <- sqrt(n) * d_srednia/odchylenie_std\n",
    "\n",
    "\n",
    "print(\"H_0 - wartości w obu próbach średnio są równe\")\n",
    "print(\"H_1 - wartości w próbie 1 średnio są [większe/mniejsze/różne] niż w próbie 2\")\n",
    "\n",
    "cat(\"\\nprzedział krytyczny dla testu PRAWOstronnego: (\", kryt_prawo, \"; inf)\\n\")\n",
    "cat(\"przedział krytyczny dla testu LEWOstronnego: (-inf;\", kryt_lewo, \")\\n\")\n",
    "cat(\"przedział krytyczny dla testu DWUstronnego: (-inf;\", -kryt_dwu, \") U (\", kryt_dwu, \"; inf)\\n\\n\")\n",
    "    \n",
    "cat(\"wartość statystyki T: \", T, \"\\n\")\n",
    "cat(\"stopnie swobody: \", dof, \"\\n\")\n",
    "cat(\"p-value: \", pt(-T, dof), \"\\n\\n\")\n",
    "\n",
    "print(\"Czy odrzucić H_0?\")\n",
    "cat(\"Dla testu PRAWOstronnego: \", T > kryt_prawo, \"\\n\")\n",
    "cat(\"Dla testu LEWOstronnego: \", T < kryt_lewo, \"\\n\")\n",
    "cat(\"Dla testu DWUstronnego: \", T > kryt_dwu || T< -kryt_dwu, \"\\n\")"
   ]
  },
  {
   "cell_type": "markdown",
   "id": "088798f6",
   "metadata": {},
   "source": [
    "### Test znaków"
   ]
  },
  {
   "cell_type": "code",
   "execution_count": 14,
   "id": "37f49a11",
   "metadata": {},
   "outputs": [
    {
     "name": "stdout",
     "output_type": "stream",
     "text": [
      "Liczba par znaczących:\t 15 \n",
      "Wartość krytyczna:\t 1.96 \n",
      "Region krytyczny:\t (-inf,-1.96)U(1.96,inf)\n",
      "Wartość statystyki:\t -0.26 \n",
      "Odrzucamy H0:\t\t FALSE \n",
      "\n",
      "P-value z binoma:\t 1 \n",
      "Odrzucamy H0 z binoma:\t FALSE \n"
     ]
    }
   ],
   "source": [
    "# Test znaków\n",
    "X <- c(1, 6, 1, 11, 9, 8, 4, 10, 6, 10, 8, 3, 4, 7, 3, 4)\n",
    "Y <- c(13, 6, 7, 1, 10, 1, 8, 3, 10, 12, 1, 4, 3, 3, 2, 3)\n",
    "alpha <- 0.05\n",
    "\n",
    "XmY <- sum(X > Y)\n",
    "XlY <- sum(X < Y)\n",
    "Xmin <- min(XmY, XlY)\n",
    "\n",
    "n <-  sum(X != Y)\n",
    "\n",
    "z_cr <- qnorm(1-alpha/2) \n",
    "z <- (2*Xmin-n) / sqrt(n)\n",
    "\n",
    "cat('Liczba par znaczących:\\t', n, '\\n')\n",
    "cat('Wartość krytyczna:\\t', round(z_cr, 2), '\\n') \n",
    "cat('Region krytyczny:\\t (-inf,', -round(z_cr, 2), ')U(', round(z_cr, 2), ',inf)\\n', sep='') \n",
    "cat('Wartość statystyki:\\t', round(z, 2), '\\n')\n",
    "cat('Odrzucamy H0:\\t\\t', abs(z) > z_cr, '\\n\\n')\n",
    "\n",
    "cat('P-value z binoma:\\t', round(binom.test(sum(X > Y), sum(X != Y))$p.value, 4), '\\n')\n",
    "cat('Odrzucamy H0 z binoma:\\t', alpha > binom.test(sum(X > Y), sum(X != Y))$p.value, '\\n')"
   ]
  },
  {
   "cell_type": "code",
   "execution_count": 21,
   "id": "0be3dfe9",
   "metadata": {},
   "outputs": [
    {
     "name": "stdout",
     "output_type": "stream",
     "text": [
      "Kwantyl:  1.340755 \n",
      "Poziom istotności (alpha):  18 %\n",
      "Lewy koniec przedziału ufności:  4.601712 \n",
      "Prawy koniec przedziaexpected valuełu ufności:  7.398288 \n"
     ]
    },
    {
     "data": {
      "image/png": "[encoded data removed]",
      "text/plain": [
       "plot without title"
      ]
     },
     "metadata": {
      "image/png": {
       "height": 420,
       "width": 420
      }
     },
     "output_type": "display_data"
    }
   ],
   "source": [
    "# (Wejściówka 3)\n",
    "# Podaj X% przedział ufności dla średniej popuilacji o rozkładzie normalnym...\n",
    "\n",
    "#Działa dla rozkładu normalnego oraz średniej arytmetycznej\n",
    "\n",
    "#DANE:\n",
    "n <- 45    #liczność próby\n",
    "#sig2 <-    #wariancja\n",
    "sigma <- 7  #odchylenie standardowe\n",
    "mean <- 6 #Srednia arytmetyczna\n",
    "perc <- 82 #procent przedziału ufności (%)\n",
    "\n",
    "\n",
    "#OBLICZENIA:\n",
    "mu <-mean\n",
    "# sigma <- sqrt(sig2)\n",
    "alpha <- 1 - perc/100\n",
    "kwantyl <- qnorm(1-alpha/2, 0, 1)\n",
    "cat(\"Kwantyl: \", kwantyl, \"\\n\") \n",
    "cat(\"Poziom istotności (alpha): \", 100*alpha, \"%\\n\") \n",
    "\n",
    "l_koniec_przedzialu <- mu - round(kwantyl,2)*(sigma/sqrt(n))       #odwrotnie nież w standaryzacji średniej\n",
    "cat(\"Lewy koniec przedziału ufności: \", l_koniec_przedzialu, \"\\n\") \n",
    "p_koniec_przedzialu <- mu + round(kwantyl,2)*(sigma/sqrt(n))  \n",
    "cat(\"Prawy koniec przedziaexpected valuełu ufności: \", p_koniec_przedzialu, \"\\n\") \n",
    "#cat(\"Długość przedziału ufności: \", p_koniec_przedzialu-l_koniec_przedzialu, \"\\n\") \n",
    "\n",
    "#WYKRES:\n",
    "x1 <- (((mu-1*sigma^2)*100):((mu+1*sigma^2)*100))/100 \n",
    "plot(x1, pnorm(x1, mu, sigma), t='l')\n",
    "lines(x1, pnorm(x1, mu, sigma/sqrt(n)), t='l')\n",
    "lines(x1, x1*0+1-alpha/2)\n",
    "lines(x1, x1*0+alpha/2)"
   ]
  },
  {
   "cell_type": "code",
   "execution_count": 22,
   "id": "4acf65ea",
   "metadata": {},
   "outputs": [
    {
     "name": "stdout",
     "output_type": "stream",
     "text": [
      "c -5 \n",
      "d 1 \n",
      "e 0.8413445 \n",
      "f  48 \n",
      "g  24.24871 \n",
      "h  -4.412606 \n",
      "i  0.9999949 \n"
     ]
    }
   ],
   "source": [
    "# Niech zmienna X~N(..., ...) ma rozkład normalny o wartości oczekiwanej...\n",
    "\n",
    "# Część z X\n",
    "x_m = 2 # µ - wartość oczekiwana, średnia\n",
    "x_sd = 2  # 𝜎 - odchylenie std\n",
    "a = -8 # lewe ograniczenie (liczone ręcznie)\n",
    "b = 4 # prawe ograniczenie (liczone ręcznie)\n",
    "\n",
    "c = qnorm(pnorm(a, x_m, x_sd), 0, 1) # standaryzacja zmiennej\n",
    "d = qnorm(pnorm(b, x_m, x_sd), 0, 1)\n",
    "\n",
    "e = pnorm(d, 0, 1) - pnorm(c, 0, 1)\n",
    "\n",
    "cat(\"c\", c, \"\\n\")\n",
    "cat(\"d\", d, \"\\n\")\n",
    "cat(\"e\", e, \"\\n\")\n",
    "\n",
    "# Część z Y (sumą X-ów)\n",
    "n = 12  # ilość x\n",
    "x_m = 4  # 𝜇 = EX\n",
    "x_sd = 7  # 𝜎 - odchylenie std\n",
    "prawa = -59\n",
    "\n",
    "f = n * x_m       # EY\n",
    "g = sqrt(n)*x_sd # D(Y) sqrt(n*x_m^2)\n",
    "\n",
    "h = qnorm(pnorm(prawa, f, g), 0, 1)\n",
    "\n",
    "i = 1 - pnorm(h, 0, 1)   # dla znaku >\n",
    "# i = pnorm(h, 0, 1)     # dla znaku <\n",
    "\n",
    "cat(\"f \", f, \"\\n\")\n",
    "cat(\"g \", g, \"\\n\")\n",
    "cat(\"h \", h, \"\\n\")\n",
    "cat(\"i \", i, \"\\n\")"
   ]
  },
  {
   "cell_type": "code",
   "execution_count": null,
   "id": "06f12860",
   "metadata": {},
   "outputs": [],
   "source": [
    "SST <- SSR + SSE\n",
    "R2 <- SSR/SST\n",
    "\n",
    "F_cr <_"
   ]
  }
 ],
 "metadata": {
  "kernelspec": {
   "display_name": "R",
   "language": "R",
   "name": "ir"
  },
  "language_info": {
   "codemirror_mode": "r",
   "file_extension": ".r",
   "mimetype": "text/x-r-source",
   "name": "R",
   "pygments_lexer": "r",
   "version": "4.1.0"
  }
 },
 "nbformat": 4,
 "nbformat_minor": 5
}
