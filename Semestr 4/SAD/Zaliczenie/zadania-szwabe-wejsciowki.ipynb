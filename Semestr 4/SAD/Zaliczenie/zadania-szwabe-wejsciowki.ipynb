{
 "cells": [
  {
   "attachments": {},
   "cell_type": "markdown",
   "id": "inclusive-calcium",
   "metadata": {},
   "source": [
    "ZADANIA Z WEJŚCIÓWEK SZWABE TREŚĆ PLUS WYNIK\n"
   ]
  },
  {
   "cell_type": "code",
   "execution_count": null,
   "id": "sonic-recognition",
   "metadata": {},
   "outputs": [],
   "source": [
    "#TEST Z\n",
    "#Średni czas snu w populacji wynosi 6.27 godzin, a odchylenie standardowe 1.09 godziny. \n",
    "#Aby sprawdzić, czy studenci śpią dłużej wybrano losowo 64 studentów i zbadano ich czas snu. \n",
    "#Średni czas snu w próbce wyniósł 7.21. Zakładając, że czas snu ma rozkład normalny, \n",
    "#sprawdź czy na poziomie istotności α=0.01 można stwierdzić, że studenci śpią dłużej. Podaj nazwę testu, sformułuj hipotezę zerową i alternatywną, \n",
    "#podaj przedział krytyczny, wartość statystyki i decyzję odnośnie hipotez.\n",
    "\n",
    "mu_0 <- 6.67\n",
    "sigma <- 1.59\n",
    "n <-49\n",
    "mu <- 6.31\n",
    "alpha <- 0.01\n",
    "Z <-((mu-mu_0)/sigma)*sqrt(n)\n",
    "Z\n",
    "z_alpha <- qnorm(alpha) #TEST LEWOSTRONNY\n",
    "#z_alpha <- qnorm(1-alpha) #TEST PRAWOSTRONNY\n",
    "#z_alpha <- qnorm(alpha) #TEST\n",
    "z_alpha\n",
    "Z < z_alpha #Odrzucanie H0 dla H1 LEWO\n",
    "#Z > z_alpha #Odrzucanie H0 dla H1 PRAWO"
   ]
  },
  {
   "cell_type": "markdown",
   "id": "dominican-turkey",
   "metadata": {},
   "source": [
    "Średni czas snu w populacji wynosi 6.25 godzin. Aby sprawdzić, czy studenci śpią dłużej wybrano losowo 25 studentów i zbadano ich czas snu. Średni czas snu w próbce wyniósł 7.33 godzin a odchylenie standardowe 0.64 godziny. Zakładając, że czas snu ma rozkład normalny, sprawdź czy na poziomie istotności α=0.05 można stwierdzić, że studenci śpią dłużej. Podaj nazwę testu, sformułuj hipotezę zerową i alternatywną, podaj przedział krytyczny, wartość statystyki i decyzję odnośnie hipotez."
   ]
  },
  {
   "cell_type": "code",
   "execution_count": 1,
   "id": "informed-finger",
   "metadata": {},
   "outputs": [
    {
     "data": {
      "text/html": [
       "8.4375"
      ],
      "text/latex": [
       "8.4375"
      ],
      "text/markdown": [
       "8.4375"
      ],
      "text/plain": [
       "[1] 8.4375"
      ]
     },
     "metadata": {},
     "output_type": "display_data"
    },
    {
     "data": {
      "text/html": [
       "1.71088207990943"
      ],
      "text/latex": [
       "1.71088207990943"
      ],
      "text/markdown": [
       "1.71088207990943"
      ],
      "text/plain": [
       "[1] 1.710882"
      ]
     },
     "metadata": {},
     "output_type": "display_data"
    },
    {
     "data": {
      "text/html": [
       "TRUE"
      ],
      "text/latex": [
       "TRUE"
      ],
      "text/markdown": [
       "TRUE"
      ],
      "text/plain": [
       "[1] TRUE"
      ]
     },
     "metadata": {},
     "output_type": "display_data"
    }
   ],
   "source": [
    "# test T\n",
    "mu_0 <- 6.25\n",
    "sigma <- 0.64\n",
    "n <- 25\n",
    "mu <- 7.33\n",
    "alpha <- 0.05\n",
    "T <- ((mu - mu_0)/sigma)*sqrt(n)\n",
    "T #WARTOŚĆ STATYSTKI\n",
    "# Zakomentuj niepotrzebne\n",
    "# T_alpha <- qt(alpha, n-1) # lewostronny\n",
    "T_alpha <- qt(1-alpha, n-1) # prawostronny\n",
    "# T_alpha <- qt(1-alpha/2, n-1) # obustronny\n",
    "T_alpha #Przedział\n",
    "# T < T_alpha # Czy odrzucic H0 na rzecz H1, lewostronny\n",
    "T > T_alpha # Czy odrzucic H0 na rzecz H1, prawostronny\n",
    "# (T > T_alpha) || (T < -T_alpha) # Czy odrzucic H0 na rzecz H1, obustronny"
   ]
  },
  {
   "cell_type": "markdown",
   "id": "awful-great",
   "metadata": {},
   "source": [
    "Używając matematycznego modelu epidemiologicznego określono, że w pewnym regionie procent osób, które przeszły pewną chorobę zakaźną wynosi 10%. Postanowiono sprawdzić czy model przeszacowuje rzeczywistą wartość, wykonując test serologiczny na obecność przeciwciał na losowej grupie 64 osób. W jego wyniku u 25 osób uzyskano wynik pozytywny (przeszli chorobę), a u pozostałych 39 osób wynik negatywny (nie przeszli choroby). Wykonaj test statystyczny na poziomie istotności α=0.01 w celu sprawdzenia czy rzeczywista częstość osób, które przeszły chorobę, jest taka sama, czy może wyższa, niż otrzymana z modelu matematycznego. Do wyznaczenia wartości krytycznej użyj przybliżenia rozkładem normalnym.\n",
    "\n"
   ]
  },
  {
   "cell_type": "code",
   "execution_count": 2,
   "id": "global-scotland",
   "metadata": {},
   "outputs": [
    {
     "data": {
      "text/html": [
       "7.75"
      ],
      "text/latex": [
       "7.75"
      ],
      "text/markdown": [
       "7.75"
      ],
      "text/plain": [
       "[1] 7.75"
      ]
     },
     "metadata": {},
     "output_type": "display_data"
    },
    {
     "data": {
      "text/html": [
       "2.32634787404084"
      ],
      "text/latex": [
       "2.32634787404084"
      ],
      "text/markdown": [
       "2.32634787404084"
      ],
      "text/plain": [
       "[1] 2.326348"
      ]
     },
     "metadata": {},
     "output_type": "display_data"
    },
    {
     "data": {
      "text/html": [
       "TRUE"
      ],
      "text/latex": [
       "TRUE"
      ],
      "text/markdown": [
       "TRUE"
      ],
      "text/plain": [
       "[1] TRUE"
      ]
     },
     "metadata": {},
     "output_type": "display_data"
    }
   ],
   "source": [
    "# test frakcji\n",
    "p_0 <- 0.1\n",
    "p <- 25/64\n",
    "sigma <- sqrt(p_0*(1-p_0))\n",
    "n <- 64\n",
    "alpha <- 0.01\n",
    "Z <- ((p-p_0)/sigma)*sqrt(n)\n",
    "Z #Wartość statystki\n",
    "# Zakomentuj niepotrzebne\n",
    "# Z_alpha <- qnorm(alpha, 0, 1) # lewostronny\n",
    "Z_alpha <- qnorm(1-alpha, 0, 1) # prawostronny\n",
    "# Z_alpha <- qnorm(1-alpha/2, 0, 1) # prawostronny\n",
    "Z_alpha\n",
    "# Z < Z_alpha # Czy odrzucic H0 na rzecz H1, lewostronny\n",
    "Z > Z_alpha # Czy odrzucic H0 na rzecz H1, prawostronny\n",
    "# (Z > Z_alpha) || (Z < -Z_alpha) # Czy odrzucic H0 na rzecz H1, obustronny"
   ]
  },
  {
   "cell_type": "markdown",
   "id": "better-tiffany",
   "metadata": {},
   "source": [
    "Zmierzono zawartość pewnej substancji w dwóch seriach roztworu: przed i za pewnym filtrem.\n",
    "\n",
    "Zawartość w serii przed filtrem: 149.2, 112.1, 116.4, 142, 105.6, 120.3, 109.3, 127.1\n",
    "\n",
    "Zawartość w serii po filtrze: 97.3, 115.6, 134.4, 125.5, 94, 103.3, 100.2, 96.6\n",
    "\n",
    "Należy ustalić, czy fitr wpływa na zawartość substancji w roztworze na poziomie istotności alpha = 0.05.\n",
    "\n",
    "Wypełnij poniższe pola. Wartość każdego z pól podaj z dokładnością do dwóch miejsc po przecinku.\n",
    "\n",
    "Wypełnij poniższe pola. Wartość dwóch pierwszych pól podaj z dokładnością do dwóch miejsc po przecinku."
   ]
  },
  {
   "cell_type": "code",
   "execution_count": 3,
   "id": "fitting-fiber",
   "metadata": {},
   "outputs": [
    {
     "name": "stdout",
     "output_type": "stream",
     "text": [
      "[1] \"H_0 - wartości w obu próbach średnio są równe\"\n",
      "[1] \"H_1 - wartości w próbie 1 średnio są [większe/mniejsze/różne] niż w próbie 2\"\n",
      "\n",
      "przedział krytyczny dla testu PRAWOstronnego: ( 1.894579 ; inf)\n",
      "przedział krytyczny dla testu LEWOstronnego: (-inf; -1.894579 )\n",
      "przedział krytyczny dla testu DWUstronnego: ( -2.364624 ; 2.364624 )\n",
      "\n",
      "wartość statystyki T:  1.939151 \n",
      "\n",
      "[1] \"Czy odrzucić H_0?\"\n",
      "Dla testu PRAWOstronnego:  TRUE \n",
      "Dla testu LEWOstronnego:  FALSE \n",
      "Dla testu DWUstronnego:  FALSE \n"
     ]
    }
   ],
   "source": [
    "### Sparowany,(T)\n",
    "# próby\n",
    "dane1 <- c(149.2,112.1,116.4,142,105.6,120.3,109.3,127.1)\n",
    "dane2 <- c(97.3,115.6,134.4,125.5,94,103.3,100.2,96.6)\n",
    "d <- dane1-dane2\n",
    "\n",
    "n <- length(dane1)\n",
    "d_srednia <- mean(d)     # średnia różnica między dwiema sparowanymi wartościami (w 1 i 2 serii badań)\n",
    "odchylenie_std <- sqrt(var(d)) # ODCHYLENIE standardowe liczb d (NIE wariancja!!!)\n",
    "\n",
    "# zalozenia\n",
    "alfa <- 0.05\n",
    "dof <- n-1 #degrees of freedom\n",
    "\n",
    "# przedział krytyczny\n",
    "kryt_prawo <- qt(1-alfa, dof)\n",
    "kryt_lewo <- qt(alfa, dof)\n",
    "kryt_dwu <- qt(alfa/2, dof)\n",
    "\n",
    "#liczymy statystykę T\n",
    "T <- sqrt(n) * d_srednia/odchylenie_std\n",
    "\n",
    "\n",
    "print(\"H_0 - wartości w obu próbach średnio są równe\")\n",
    "print(\"H_1 - wartości w próbie 1 średnio są [większe/mniejsze/różne] niż w próbie 2\")\n",
    "\n",
    "cat(\"\\nprzedział krytyczny dla testu PRAWOstronnego: (\", kryt_prawo, \"; inf)\\n\")\n",
    "cat(\"przedział krytyczny dla testu LEWOstronnego: (-inf;\", kryt_lewo, \")\\n\")\n",
    "cat(\"przedział krytyczny dla testu DWUstronnego: (\", kryt_dwu, \";\", -kryt_dwu, \")\\n\\n\")\n",
    "    \n",
    "cat(\"wartość statystyki T: \", T, \"\\n\\n\")\n",
    "\n",
    "print(\"Czy odrzucić H_0?\")\n",
    "cat(\"Dla testu PRAWOstronnego: \", T > kryt_prawo, \"\\n\")\n",
    "cat(\"Dla testu LEWOstronnego: \", T < kryt_lewo, \"\\n\")\n",
    "cat(\"Dla testu DWUstronnego: \", T > -kryt_dwu || T< kryt_dwu, \"\\n\")"
   ]
  },
  {
   "cell_type": "markdown",
   "id": "extensive-hospital",
   "metadata": {},
   "source": [
    "Firma farmaceutyczna chce ustalić, jak stężenie pewnego składnika opracowywanego leku na myksomatozę wpływa na aktywność pewnego enzymu. W ramach badania klinicznego wybrano losową próbę 𝑛=18 pacjentów (królików), którym zaaplikowano (po uzyskaniu ustnej zgody) lek o różnym stężeniu tego składnika (𝑋), mierząc przy tym aktywność enzymu (𝑌). Otrzymano następujące wyniki:\n",
    "\n",
    "Wyniki pomiarów wartości X u kolejnych pacjentów: 0.503,0.039,0.932,0.891,0.643,0.953,0.64,0.761,0.663,0.623,0.333,0.222,0.669,0.496,0.711,0.685,0.366,0.677\n",
    "\n",
    "Wyniki pomiarów wartości Y (kolejność uszatych jak w X): 0.029,0.326,0.029,−0.121,0.199,−0.151,−0.024,−0.001,−0.07,0.229,0.086,0.085,0.22,0.2,0.192,0.198,0.243,0.206\n",
    "\n",
    "Należy wyznaczyć parametry modelu regresji liniowej, współczynnik korelacji między stężeniem składnika a aktywnością enzymu, a także sprawdzić na poziomie istotności równym 0.05, czy ten współczynnik korelacji jest istotny (istotnie różny od 0)."
   ]
  },
  {
   "cell_type": "code",
   "execution_count": 4,
   "id": "protecting-polyester",
   "metadata": {},
   "outputs": [
    {
     "data": {
      "text/html": [
       "18"
      ],
      "text/latex": [
       "18"
      ],
      "text/markdown": [
       "18"
      ],
      "text/plain": [
       "[1] 18"
      ]
     },
     "metadata": {},
     "output_type": "display_data"
    },
    {
     "data": {
      "text/html": [
       "-0.0188583039215686"
      ],
      "text/latex": [
       "-0.0188583039215686"
      ],
      "text/markdown": [
       "-0.0188583039215686"
      ],
      "text/plain": [
       "[1] -0.0188583"
      ]
     },
     "metadata": {},
     "output_type": "display_data"
    },
    {
     "data": {
      "text/html": [
       "-0.563156046635592"
      ],
      "text/latex": [
       "-0.563156046635592"
      ],
      "text/markdown": [
       "-0.563156046635592"
      ],
      "text/plain": [
       "[1] -0.563156"
      ]
     },
     "metadata": {},
     "output_type": "display_data"
    },
    {
     "data": {
      "text/html": [
       "-0.324652478997684"
      ],
      "text/latex": [
       "-0.324652478997684"
      ],
      "text/markdown": [
       "-0.324652478997684"
      ],
      "text/plain": [
       "[1] -0.3246525"
      ]
     },
     "metadata": {},
     "output_type": "display_data"
    },
    {
     "data": {
      "text/html": [
       "0.299084407807109"
      ],
      "text/latex": [
       "0.299084407807109"
      ],
      "text/markdown": [
       "0.299084407807109"
      ],
      "text/plain": [
       "[1] 0.2990844"
      ]
     },
     "metadata": {},
     "output_type": "display_data"
    },
    {
     "data": {
      "text/html": [
       "2.11990529922125"
      ],
      "text/latex": [
       "2.11990529922125"
      ],
      "text/markdown": [
       "2.11990529922125"
      ],
      "text/plain": [
       "[1] 2.119905"
      ]
     },
     "metadata": {},
     "output_type": "display_data"
    },
    {
     "data": {
      "text/html": [
       "-2.72599095836099"
      ],
      "text/latex": [
       "-2.72599095836099"
      ],
      "text/markdown": [
       "-2.72599095836099"
      ],
      "text/plain": [
       "[1] -2.725991"
      ]
     },
     "metadata": {},
     "output_type": "display_data"
    },
    {
     "data": {
      "text/html": [
       "TRUE"
      ],
      "text/latex": [
       "TRUE"
      ],
      "text/markdown": [
       "TRUE"
      ],
      "text/plain": [
       "[1] TRUE"
      ]
     },
     "metadata": {},
     "output_type": "display_data"
    },
    {
     "data": {
      "text/html": [
       "1"
      ],
      "text/latex": [
       "1"
      ],
      "text/markdown": [
       "1"
      ],
      "text/plain": [
       "[1] 1"
      ]
     },
     "metadata": {},
     "output_type": "display_data"
    },
    {
     "name": "stdout",
     "output_type": "stream",
     "text": [
      "[1] \"GEH\"\n"
     ]
    }
   ],
   "source": [
    "# Korelacja i regresja liniowa\n",
    "\n",
    "# Dane z danych\n",
    "X <- c(0.503,0.039,0.932,0.891,0.643,0.953,0.64,0.761,0.663,0.623,0.333,0.222,0.669,0.496,0.711,0.685,0.366,0.677)\n",
    "Y <- c(0.029,0.326,0.029,−0.121,0.199,−0.151,−0.024,−0.001,−0.07,0.229,0.086,0.085,0.22,0.2,0.192,0.198,0.243,0.206)\n",
    "mu_X <- mean(X)\n",
    "mu_Y <- mean(Y)\n",
    "s_XY <- cov(X,Y)\n",
    "s_X <- sd(X)\n",
    "s_Y <- sd(Y)\n",
    "n <- length(X)\n",
    "alpha <- 0.05\n",
    "\n",
    "# Dane gotowe\n",
    "# mu_X <- 0.544\n",
    "# mu_Y <- -5.526\n",
    "# s_XY <- -0.074\n",
    "# s_X <- 0.293\n",
    "# s_Y <- 0.303\n",
    "# n <- 19\n",
    "# alpha <- 0.05\n",
    "\n",
    "# Obliczenia test T\n",
    "n\n",
    "a <- s_XY/s_X^2\n",
    "b <- mu_Y - a * mu_X\n",
    "r_XY <- a * s_X/s_Y\n",
    "t_cr <- qt(1-alpha/2, n-2)\n",
    "t <- (r_XY/sqrt(1-r_XY^2)) * sqrt(n-2)\n",
    "\n",
    "# Obliczenia test Z (nie wiem czy poprawnie)\n",
    "# a <- s_XY/s_X^2\n",
    "# b <- mu_Y - a * mu_X\n",
    "# r_XY <- a * s_X/s_Y\n",
    "# t_cr <- qnorm(1-alpha/2, n-2)\n",
    "# t <- (r_XY/sqrt(1-r_XY^2)) * sqrt(n-2)\n",
    "\n",
    "s_XY # współczynnik kowariancji\n",
    "r_XY # współczynnik korelacji\n",
    "a    # współczynnik kierunkowy regresji liniowej\n",
    "b    # wyraz wolny regresji liniowej\n",
    "t_cr # wartość krytyczna (graniczna wartość zbioru krytycznego)\n",
    "t    # wartość statystyki testowej\n",
    "abs(t) > t_cr\n",
    "decision <- as.integer(abs(t)>t_cr)\n",
    "decision # 0 - nie jest istotny, 1 - jest istotny\n",
    "print(\"GEH\")"
   ]
  },
  {
   "cell_type": "markdown",
   "id": "present-pantyhose",
   "metadata": {},
   "source": [
    "BRAK PRAWIDŁOWEGO SKRYPTU DO TEGO ZADANIA\n",
    "Artykuł opublikowany w The Economist wymienia 3 zmienne, które mogą wypływać na rentowność banku. Przeprowadzono analizę regresji ze wskazanymi zmiennymi objaśniajacymi (niezależnymi). Dane tworzyły losową próbę zawierającą 26 obserwacji. Zbudowano następnie model regresji i po jego analizie uzyskano R2=0.61 oraz SST=474. Czy uzyskany model regresji można uznać za statyczynie istotny przy założeniu poziomu istotności α=0.05?\n",
    "\n",
    "Do wyznaczenia wartości krytycznej wykorzystaj jeden z następujących kwantyli rozkładu F (w nawiasach podano stopnie swobody): F(1,24)=4.26, F(3,24)=3.009, F(1,22)=4.301 oraz F(3,22)=3.049."
   ]
  },
  {
   "cell_type": "code",
   "execution_count": null,
   "id": "waiting-numbers",
   "metadata": {},
   "outputs": [],
   "source": [
    "#BRAKUJE SKRYPTU/WŁASNY SKRYPT NIEPOPRAWNY"
   ]
  },
  {
   "cell_type": "markdown",
   "id": "previous-cuisine",
   "metadata": {},
   "source": [
    "Z próbki o liczności n=32 zbudowano model regresji wielorakiej wykorzystując 7 zmiennych wyjaśniających (niezależnych). Uzyskano wartość współczynnika R2=0.2, a nieobciążony estymator wariancji zmiennej objaśnianej Y wyniósł s2y=1n−1∑ni=1(yi−y¯)2=4.6.\n",
    "\n",
    "Zweryfikuj hipotezę o statystycznej istotności otrzymanego modelu, zakładając że wszystkie założenia testu są spełnione.\n",
    "\n",
    "H0:∀i=1..7βi=0H1:∃i=1..7βi≠0\n",
    "\n",
    "Przyjmij zbiór krytyczny F∈(2.42,∞)."
   ]
  },
  {
   "cell_type": "code",
   "execution_count": null,
   "id": "authentic-lounge",
   "metadata": {},
   "outputs": [],
   "source": [
    "# 'Kolejny' test istotności modelu regresji wielu zmiennych\n",
    "\n",
    "n <- 32   # liczność próby\n",
    "k <- 7   #ile zmiennych\n",
    "R2 <- 0.2\n",
    "S_Y_squared <- 4.6    # nieobciążony estymator wariancji zmiennej objaśnianej Y\n",
    "#SST <- 33\n",
    "F_cr <- 2.42    # zbiór krytyczny (F_cr, inf)\n",
    "\n",
    "SST <- (n-1) * S_Y_squared\n",
    "# R2 <- SSR/SST\n",
    "SSR <- SST * R2\n",
    "# SST <- SSE+SSR\n",
    "SSE <- SST - SSR\n",
    "# SSE <- SST - (R2 * SST)\n",
    "MSR <- SSR/k\n",
    "MSE <- SSE/(n-k-1)\n",
    "F <- MSR/MSE\n",
    "cat(\"SST:\", SST,\"\\n\")\n",
    "cat(\"SSR:\", SSR,\"\\n\")\n",
    "cat(\"SSE:\", SSE,\"\\n\")\n",
    "cat(\"F:\", F,\"\\n\")\n",
    "cat(\"F > F_cr:\", F > F_cr,\"\\n\")"
   ]
  },
  {
   "cell_type": "markdown",
   "id": "quick-circular",
   "metadata": {},
   "source": [
    "Dla każdej z 96 losowo wybranych osób wyznaczono typ osobowości (ekstrawertyk/introwertyk) oraz preferowany kolor spośród dwóch przedstawionych (niebieski, czerwony). Wyniki podsumowano w postaci tabeli:\n",
    "\n",
    "         Niebieski\tCzerwony\n",
    "Ekstrawertyk\t28\t12\n",
    "introwertyk\t    46\t10\n",
    "\n",
    "Sprawdź czy istnieje zależność między typem osobowością a preferowanym kolorem. Przedstaw sformułowanie odpowiednich hipotez i obliczenia oraz podejmij decyzję przyjmując α=0.01. Z tablic odczytano, że wartością krytyczną przy zadanym poziomie istotności jest: 6.635 (dla df=1 stopnia swobody), 9.210 (df=2), 11.345 (df=3) i 13.277 (df=4)."
   ]
  },
  {
   "cell_type": "code",
   "execution_count": 7,
   "id": "suspended-harmony",
   "metadata": {},
   "outputs": [
    {
     "data": {
      "text/html": [
       "<table class=\"dataframe\">\n",
       "<caption>A matrix: 2 × 2 of type dbl</caption>\n",
       "<tbody>\n",
       "\t<tr><td>28</td><td>12</td></tr>\n",
       "\t<tr><td>46</td><td>10</td></tr>\n",
       "</tbody>\n",
       "</table>\n"
      ],
      "text/latex": [
       "A matrix: 2 × 2 of type dbl\n",
       "\\begin{tabular}{ll}\n",
       "\t 28 & 12\\\\\n",
       "\t 46 & 10\\\\\n",
       "\\end{tabular}\n"
      ],
      "text/markdown": [
       "\n",
       "A matrix: 2 × 2 of type dbl\n",
       "\n",
       "| 28 | 12 |\n",
       "| 46 | 10 |\n",
       "\n"
      ],
      "text/plain": [
       "     [,1] [,2]\n",
       "[1,] 28   12  \n",
       "[2,] 46   10  "
      ]
     },
     "metadata": {},
     "output_type": "display_data"
    },
    {
     "name": "stdout",
     "output_type": "stream",
     "text": [
      "Suma: 96 \n",
      "Macierz wartości oczekiwanych:\n"
     ]
    },
    {
     "data": {
      "text/html": [
       "<table class=\"dataframe\">\n",
       "<caption>A matrix: 2 × 2 of type dbl</caption>\n",
       "<tbody>\n",
       "\t<tr><td>30.83333</td><td> 9.166667</td></tr>\n",
       "\t<tr><td>43.16667</td><td>12.833333</td></tr>\n",
       "</tbody>\n",
       "</table>\n"
      ],
      "text/latex": [
       "A matrix: 2 × 2 of type dbl\n",
       "\\begin{tabular}{ll}\n",
       "\t 30.83333 &  9.166667\\\\\n",
       "\t 43.16667 & 12.833333\\\\\n",
       "\\end{tabular}\n"
      ],
      "text/markdown": [
       "\n",
       "A matrix: 2 × 2 of type dbl\n",
       "\n",
       "| 30.83333 |  9.166667 |\n",
       "| 43.16667 | 12.833333 |\n",
       "\n"
      ],
      "text/plain": [
       "     [,1]     [,2]     \n",
       "[1,] 30.83333  9.166667\n",
       "[2,] 43.16667 12.833333"
      ]
     },
     "metadata": {},
     "output_type": "display_data"
    },
    {
     "data": {
      "text/plain": [
       "\n",
       "\tPearson's Chi-squared test\n",
       "\n",
       "data:  data_matrix\n",
       "X-squared = 1.9476, df = 1, p-value = 0.1628\n"
      ]
     },
     "metadata": {},
     "output_type": "display_data"
    },
    {
     "data": {
      "text/html": [
       "<strong>X-squared:</strong> 1.94763074763075"
      ],
      "text/latex": [
       "\\textbf{X-squared:} 1.94763074763075"
      ],
      "text/markdown": [
       "**X-squared:** 1.94763074763075"
      ],
      "text/plain": [
       "X-squared \n",
       " 1.947631 "
      ]
     },
     "metadata": {},
     "output_type": "display_data"
    },
    {
     "name": "stdout",
     "output_type": "stream",
     "text": [
      "Początek obszaru krytycznego: 6.634897 \n",
      "Czy odrzucić H0: FALSE \n"
     ]
    }
   ],
   "source": [
    "# Test chi-kwadrat (Zad 2)\n",
    "\n",
    "# H0: Brak zależności\n",
    "# H1: Istnieje zależność\n",
    "\n",
    "alpha <- 0.01\n",
    "data_matrix <- matrix( c(28,46,12,10), 2, 2) #UZUPEŁNIAĆ KOLUMNAMI !!!!\n",
    "#   20  30 \n",
    "#   34  25\n",
    " data_matrix\n",
    "\n",
    "margin_rows <- rowSums(data_matrix)\n",
    "margin_cols <- colSums(data_matrix)\n",
    "total <- sum(margin_cols)\n",
    "cat(\"Suma:\", total,\"\\n\")\n",
    "\n",
    "E_matrix <- outer(margin_rows, margin_cols)/total\n",
    "cat(\"Macierz wartości oczekiwanych:\\n\")\n",
    "E_matrix\n",
    "\n",
    "test <- chisq.test(data_matrix, correct=FALSE) # correct - poprawka Yatesa\n",
    "test\n",
    "\n",
    "chi2 <- test[[1]]\n",
    "chi2\n",
    "chi2 <-unname(chi2)\n",
    "\n",
    "df <- test[[2]]    # stopnie swobody\n",
    "chi2_cr <- qchisq(1-alpha, df)\n",
    "cat(\"Początek obszaru krytycznego:\",chi2_cr,\"\\n\")   # Początek obszaru krytycznego\n",
    "\n",
    "cat(\"Czy odrzucić H0:\",chi2 > chi2_cr,\"\\n\") # Czy odrzucić H0"
   ]
  },
  {
   "cell_type": "markdown",
   "id": "competitive-stage",
   "metadata": {},
   "source": [
    "Firma rozważa wprowadzenie na rynek jednego z 4 produktów: A, B, C i D. Na podstawie danych historycznych spodziewane są następujące preferencje: produkt A 16%, B 14%, C 34% a D 36%. Aby zbadać preferencje konsumentów przeprowadzono badanie na 100 osobach, którego wyniki przedstawia poniższa tabela.\n",
    "\n",
    "A\tB\tC\tD\n",
    "38\t40\t12\t10\n",
    "Przetestuj hipotezę o tym, że preferencje konsumentów się zmieniły. Przedstaw hipotezy, oblicz wartość statystyki testowej i podejmij decyzję przyjumjąc α=0.05. Z tablic odczytano, że wartością krytyczną przy zadanym poziomie istotności jest 3.841 (dla df=1), 5.991 (df=2), 7.815 (df=3) i 3.8415 (df=4)."
   ]
  },
  {
   "cell_type": "code",
   "execution_count": 8,
   "id": "postal-column",
   "metadata": {},
   "outputs": [
    {
     "data": {
      "text/plain": [
       "\n",
       "\tChi-squared test for given probabilities\n",
       "\n",
       "data:  sondaz\n",
       "X-squared = 111.55, df = 3, p-value < 2.2e-16\n"
      ]
     },
     "metadata": {},
     "output_type": "display_data"
    },
    {
     "data": {
      "text/html": [
       "<strong>X-squared:</strong> 111.548786181139"
      ],
      "text/latex": [
       "\\textbf{X-squared:} 111.548786181139"
      ],
      "text/markdown": [
       "**X-squared:** 111.548786181139"
      ],
      "text/plain": [
       "X-squared \n",
       " 111.5488 "
      ]
     },
     "metadata": {},
     "output_type": "display_data"
    },
    {
     "name": "stdout",
     "output_type": "stream",
     "text": [
      "Stopnie swobody: 3 \n",
      "Początek obszaru krytycznego: 7.814728 \n",
      "Czy odrzucić H0: TRUE \n"
     ]
    }
   ],
   "source": [
    "kategorie <- c(\"A\",\"B\",\"C\",\"D\")\n",
    "historyczne <- c(16,14,34,36)\n",
    "sondaz <- c(38,40,12,10)\n",
    "n <- sum(sondaz)\n",
    "alpha <- 0.05\n",
    "\n",
    "test <- chisq.test(sondaz, p=historyczne/sum(historyczne))\n",
    "test\n",
    "\n",
    "chi2 <- test[[1]]\n",
    "chi2\n",
    "chi2 <- unname(chi2)\n",
    "\n",
    "df <- length(sondaz)-1\n",
    "cat(\"Stopnie swobody:\", df,\"\\n\")\n",
    "\n",
    "chi2_cr <- qchisq(1-alpha, df)\n",
    "cat(\"Początek obszaru krytycznego:\",chi2_cr,\"\\n\")   # Początek obszaru krytycznego\n",
    "\n",
    "cat(\"Czy odrzucić H0:\",chi2 > chi2_cr,\"\\n\") # Czy odrzucić H0"
   ]
  },
  {
   "cell_type": "markdown",
   "id": "exposed-fever",
   "metadata": {},
   "source": [
    "#####\n",
    "Porównano czas działania dwóch algorytmów optymalizacji na 16 instancjach problemu. Dane podsumowuje tabela:\n",
    "\n",
    "Algorytm 1:\t11\t12\t10\t5\t14\t6\t3\t15\t8\t7\t15\t14\t9\t6\t1\t17\n",
    "Algorymt 2:\t4\t4\t2\t10\t1\t9\t9\t3\t4\t5\t10\t10\t2\t4\t3\t10\n",
    "Sprawdź na poziomie istotności α=0.1 czy jest różnica w czasie działania algorytmów. Przedstaw hipotezy, oblicz wartość statystyki testowej i podaj decyzję odnośnie hipotez. Zastosuj standaryzowaną wersję testu znaków."
   ]
  },
  {
   "cell_type": "code",
   "execution_count": 9,
   "id": "seventh-release",
   "metadata": {},
   "outputs": [
    {
     "data": {
      "text/html": [
       "16"
      ],
      "text/latex": [
       "16"
      ],
      "text/markdown": [
       "16"
      ],
      "text/plain": [
       "[1] 16"
      ]
     },
     "metadata": {},
     "output_type": "display_data"
    },
    {
     "data": {
      "text/html": [
       "16"
      ],
      "text/latex": [
       "16"
      ],
      "text/markdown": [
       "16"
      ],
      "text/plain": [
       "[1] 16"
      ]
     },
     "metadata": {},
     "output_type": "display_data"
    },
    {
     "data": {
      "text/html": [
       "16"
      ],
      "text/latex": [
       "16"
      ],
      "text/markdown": [
       "16"
      ],
      "text/plain": [
       "[1] 16"
      ]
     },
     "metadata": {},
     "output_type": "display_data"
    },
    {
     "data": {
      "text/html": [
       "4"
      ],
      "text/latex": [
       "4"
      ],
      "text/markdown": [
       "4"
      ],
      "text/plain": [
       "[1] 4"
      ]
     },
     "metadata": {},
     "output_type": "display_data"
    },
    {
     "data": {
      "text/html": [
       "-2"
      ],
      "text/latex": [
       "-2"
      ],
      "text/markdown": [
       "-2"
      ],
      "text/plain": [
       "[1] -2"
      ]
     },
     "metadata": {},
     "output_type": "display_data"
    },
    {
     "data": {
      "text/html": [
       "-1.64485362695147"
      ],
      "text/latex": [
       "-1.64485362695147"
      ],
      "text/markdown": [
       "-1.64485362695147"
      ],
      "text/plain": [
       "[1] -1.644854"
      ]
     },
     "metadata": {},
     "output_type": "display_data"
    },
    {
     "data": {
      "text/html": [
       "1.64485362695147"
      ],
      "text/latex": [
       "1.64485362695147"
      ],
      "text/markdown": [
       "1.64485362695147"
      ],
      "text/plain": [
       "[1] 1.644854"
      ]
     },
     "metadata": {},
     "output_type": "display_data"
    },
    {
     "data": {
      "text/html": [
       "TRUE"
      ],
      "text/latex": [
       "TRUE"
      ],
      "text/markdown": [
       "TRUE"
      ],
      "text/plain": [
       "[1] TRUE"
      ]
     },
     "metadata": {},
     "output_type": "display_data"
    }
   ],
   "source": [
    "#Zadania ALGORYTM\n",
    "alpha <- 0.1\n",
    "Student_1 <- c(11,12,10,5,14,6,3,15,8,7,15,14,9,6,1,17)\n",
    "Student_2 <- c(4,4,2,10,1,9,9,3,4,5,10,10,2,4,3,10)\n",
    "length(Student_1)\n",
    "length(Student_2)\n",
    "\n",
    "roznice <- Student_1 - Student_2\n",
    "\n",
    "n <- sum(roznice!=0)\n",
    "T <- min(sum(roznice>0),sum(roznice<0))\n",
    "n\n",
    "T\n",
    "Z <- (2*T - n) / sqrt(n)\n",
    "\n",
    "Z #wartość statystki\"\n",
    "\n",
    "Z_cr <- qnorm(alpha/2,0,1)\n",
    "\n",
    "Z_cr\n",
    "-Z_cr\n",
    "\n",
    "Z < Z_cr #Czy odrzucamy"
   ]
  },
  {
   "cell_type": "code",
   "execution_count": null,
   "id": "indonesian-output",
   "metadata": {},
   "outputs": [],
   "source": []
  }
 ],
 "metadata": {
  "kernelspec": {
   "display_name": "R",
   "language": "R",
   "name": "ir"
  },
  "language_info": {
   "codemirror_mode": "r",
   "file_extension": ".r",
   "mimetype": "text/x-r-source",
   "name": "R",
   "pygments_lexer": "r",
   "version": "4.1.0"
  }
 },
 "nbformat": 4,
 "nbformat_minor": 5
}
