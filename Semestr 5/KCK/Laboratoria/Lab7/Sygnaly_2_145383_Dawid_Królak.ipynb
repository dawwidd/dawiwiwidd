{
 "cells": [
  {
   "cell_type": "markdown",
   "metadata": {},
   "source": [
    "# ZADANIE 2"
   ]
  },
  {
   "cell_type": "markdown",
   "metadata": {},
   "source": [
    "### 1. Plik spots.txt zawiera wartości aktywności Słońca w kolejnych miesiącach. Wykreśl ten sygnał oraz jego spektrum. Za pomocą FFT, oblicz częstotliwość cyklu aktywności słonecznej. Przydatne mogą być następujące konstrukcje:\n",
    "   - array = np.genfromtxt(‘spots.txt’)\n",
    "   - x = max(array)"
   ]
  },
  {
   "cell_type": "code",
   "execution_count": null,
   "metadata": {},
   "outputs": [],
   "source": [
    "import pylab as plb\n",
    "from numpy import *\n",
    "import numpy as np\n",
    "import matplotlib.pyplot as plt\n",
    "import plotly.graph_objects as graph\n",
    "import math\n",
    "import cmath\n",
    "import scipy\n",
    "import ipywidgets as ipw\n",
    "from numpy.fft import fft, ifft, fftfreq\n",
    "\n",
    "array = np.genfromtxt('spots.txt')\n",
    "x = max(array)\n",
    "w = 12\n",
    "plt.plot(range(len(array)), array)"
   ]
  },
  {
   "cell_type": "code",
   "execution_count": null,
   "metadata": {},
   "outputs": [],
   "source": [
    "xf = fftfreq(len(array), 1/w)\n",
    "yf = np.abs(fft(array)) / len(array) / 2\n",
    "fig = graph.Figure([graph.Scatter(x=xf, y=yf)])\n",
    "fig.update_xaxes(range=[0, w//2])\n",
    "fig.show()"
   ]
  },
  {
   "cell_type": "markdown",
   "metadata": {},
   "source": [
    "### 2. Proste filtrowanie. Wykreśl sygnał sin(2\\*pi\\*t) + sin(4\\*pi\\*t), T=1s, w=20Hz. Za pomocą FFT, przekształć sygnał do dziedziny częstotliwości. Następnie usuń składowe o częstotliwości 2Hz. Tak zmodyfikowany sygnał przekształć do dziedziny czasu i wykreśl go."
   ]
  },
  {
   "cell_type": "code",
   "execution_count": null,
   "metadata": {},
   "outputs": [],
   "source": [
    "def rysuj_fale(A=1, F=50, lp=1, w=40):\n",
    "    T = 1/F\n",
    "    TW = 1/w\n",
    "    f = lambda t : A * sin(2*pi*t*F)\n",
    "    rysuj_sygnal(f, 0, lp*T, TW)\n",
    "    \n",
    "def fftfreq2(N, w=1):\n",
    "    if N==1:\n",
    "        return [0]\n",
    "    \n",
    "    if N%2==0:\n",
    "        n = N\n",
    "        q = -1\n",
    "    else:\n",
    "        n = N-1\n",
    "        q = 0\n",
    "    a = np.arange(0, n/2+q+1, 1)\n",
    "    b = np.arange(-n/2, 0 ,1)\n",
    "    return np.hstack((a,b))/(n*w)\n",
    "\n",
    "def rysuj_sygnal(f, x1=0, x2=1, krok=0.1):\n",
    "    x_dots = np.arange(x1,x2,krok)\n",
    "    y_dots = f(x_dots)\n",
    "    N = len(y_dots)\n",
    "    w = 1/krok\n",
    "    \n",
    "    x_wave = np.linspace(x1,x2,500)\n",
    "    y_wave = [f(x) for x in x_wave]\n",
    "    \n",
    "    x_fft = fftfreq2(N, 1 / w)\n",
    "    y_fft = np.abs(fft(y_dots)) * 2 / N\n",
    "    \n",
    "    fig = plt.figure(figsize=(20, 10))   \n",
    "    ax = fig.add_subplot(121)\n",
    "    ax.plot(x_dots, y_dots, 'o')\n",
    "    ax.plot(x_wave, y_wave, '-', color='red')\n",
    "    \n",
    "    ax.set_xlabel('Czas')\n",
    "    ax.set_ylabel('Amplituda')\n",
    "    \n",
    "    ax = fig.add_subplot(122)\n",
    "    plt.stem(x_fft, y_fft, '*')\n",
    "    \n",
    "    ax.set_xlabel('Częstotliwość')\n",
    "    ax.set_ylabel('Amplituda')\n",
    "    plt.show()\n",
    "    return x_fft, fft(y_dots)"
   ]
  },
  {
   "cell_type": "code",
   "execution_count": null,
   "metadata": {},
   "outputs": [],
   "source": [
    "def rysuj_fale_2(f, T, lp, w):\n",
    "    fun = lambda t: np.sin(2*3.1415*t*f) + np.sin(4*3.1415*t*f)\n",
    "    return rysuj_sygnal(fun, x2=lp*T, krok=1/w)\n",
    "\n",
    "x_fft, signal_fft = rysuj_fale_2(f=1, T=1, lp=1, w=20)"
   ]
  },
  {
   "cell_type": "markdown",
   "metadata": {},
   "source": [
    "### 3. Informacja o fazie. Wykreśl sygnał sin(2\\*pi\\*t) + sin(4\\*pi\\*t), T=1s, w=20Hz. Tym razem oprócz spektrum, wykreśl wykres z informacją o fazie poszczególnych częstotliwości (faza = arg(z)), gdzie z=a+bi. To samo wykonaj dla sin(2\\*pi\\*t) + cos(4\\*pi\\*t). Porównaj otrzymane wykresy. Przydatne funkcje (działają także dla tablic):\n",
    "   - atan2(z)\n",
    "   - z.imag\n",
    "   - z.real"
   ]
  },
  {
   "cell_type": "code",
   "execution_count": null,
   "metadata": {},
   "outputs": [],
   "source": [
    "def rysuj_sygnal_z_faza(f, x1=0, x2=1, krok=0.1):\n",
    "    x_dots = np.arange(x1,x2,krok)\n",
    "    y_dots = f(x_dots)\n",
    "    N = len(y_dots)\n",
    "    w = 1/krok\n",
    "    \n",
    "    x_wave = np.linspace(x1,x2,500)\n",
    "    y_wave = [f(x) for x in x_wave]\n",
    "    \n",
    "    x_fft = fftfreq2(N, 1 / w)\n",
    "    y_fft = np.abs(fft(y_dots)) * 2 / N\n",
    "    y_phase = np.angle(fft(y_dots))\n",
    "    \n",
    "    fig = plt.figure(figsize=(20, 10))   \n",
    "    ax = fig.add_subplot(131)\n",
    "    ax.plot(x_dots, y_dots, 'o')\n",
    "    ax.plot(x_wave, y_wave, '-', color='red')\n",
    "    \n",
    "    ax.set_xlabel('Czas')\n",
    "    ax.set_ylabel('Amplituda')\n",
    "    \n",
    "    ax = fig.add_subplot(132)\n",
    "    plt.stem(x_fft, y_fft, '*')\n",
    "    \n",
    "    ax.set_xlabel('Częstotliwość')\n",
    "    ax.set_ylabel('Amplituda')\n",
    "    \n",
    "    \n",
    "    ax = fig.add_subplot(133)\n",
    "    plt.stem(x_fft, y_phase, '-*')\n",
    "    \n",
    "    ax.set_xlabel('Częstotliwość')\n",
    "    ax.set_ylabel('Amplituda')\n",
    "    plt.show()\n",
    "    return x_fft, fft(y_dots)"
   ]
  },
  {
   "cell_type": "code",
   "execution_count": null,
   "metadata": {},
   "outputs": [],
   "source": [
    "def rysuj_fale_3(f, T, lp, w):\n",
    "    fun = lambda t: np.sin(2*3.1415*t*f) + np.sin(4*3.1415*t*f)\n",
    "    return rysuj_sygnal_z_faza(fun, x2=lp*T, krok=1/w)\n",
    "\n",
    "x_fft, signal_fft = rysuj_fale_3(f=1, T=1, lp=1, w=20)"
   ]
  },
  {
   "cell_type": "markdown",
   "metadata": {},
   "source": [
    "### 4. Wczytaj plik err.wav. Wykreśl jego spektrum. Spróbuj także skali logarytmicznej. Określ dominujące w sygnale częstotliwości. Przydatne:\n",
    "   - import scipy.io.wavfile\n",
    "   - w, signal = scipy.io.wavfile.read('err.wav')\n",
    "   - signal = [s[0] for s in signal] #Tylko pierwszy kanał\n",
    "   - yscale(‘log’)\n",
    "   - spectrum[::10]  # co 10­ty element"
   ]
  },
  {
   "cell_type": "code",
   "execution_count": null,
   "metadata": {},
   "outputs": [],
   "source": [
    "import scipy.io.wavfile\n",
    "samplerate, data = scipy.io.wavfile.read('err.wav')\n",
    "data = [d[0] for d in data]\n",
    "plt.plot(data)\n",
    "plt.xlim(0,len(data))\n",
    "print(samplerate, 'Hz')"
   ]
  },
  {
   "cell_type": "code",
   "execution_count": null,
   "metadata": {},
   "outputs": [],
   "source": [
    "samplerate, data = scipy.io.wavfile.read('err.wav')\n",
    "data = [d[0] for d in data]\n",
    "plt.yscale('log')\n",
    "plt.plot(data)\n",
    "plt.xlim(0,len(data))\n",
    "print(samplerate, 'Hz')"
   ]
  },
  {
   "cell_type": "code",
   "execution_count": null,
   "metadata": {},
   "outputs": [],
   "source": [
    "w = samplerate\n",
    "xf = fftfreq(len(data), 1/w)\n",
    "yf = np.abs(fft(data)) / len(array) / 2\n",
    "fig = graph.Figure([graph.Scatter(x=xf, y=yf)])\n",
    "fig.update_xaxes(range=[0, w//2])\n",
    "fig.show()\n",
    "print(max(yf), 'Hz')"
   ]
  },
  {
   "cell_type": "markdown",
   "metadata": {},
   "source": [
    "### 5. Za pomocą fft można efektywnie mnożyć duże liczby (lub np. wielomiany). Sprawdź poniższ obliczenia. Jaka jest złożoność obliczeniowa następującej operacji? Uwaga: aby wykonać obliczenia dla większych cyfr, trzeba zaprogramować “promocję” np. [1,2]*[0,6]=[0,6,12], co znaczy [0,6+1,2]=[0,7,2]."
   ]
  },
  {
   "cell_type": "code",
   "execution_count": null,
   "metadata": {},
   "outputs": [],
   "source": [
    "a=[1,2,3]\n",
    "b=[1,2]\n",
    "print(123*12)\n",
    "\n",
    "# Należy odpowiednio dobrać “padding”. W przeciwnym wypadku na końcu wyniku pojawią się dodatkowe zera.\n",
    "A = fft(a,4)\n",
    "B = fft(b,4)\n",
    "C = A*B\n",
    "c = abs(ifft(C))\n",
    "print(c)"
   ]
  }
 ],
 "metadata": {
  "kernelspec": {
   "display_name": "Python 3 (ipykernel)",
   "language": "python",
   "name": "python3"
  },
  "language_info": {
   "codemirror_mode": {
    "name": "ipython",
    "version": 3
   },
   "file_extension": ".py",
   "mimetype": "text/x-python",
   "name": "python",
   "nbconvert_exporter": "python",
   "pygments_lexer": "ipython3",
   "version": "3.10.6"
  },
  "latex_envs": {
   "LaTeX_envs_menu_present": true,
   "autoclose": false,
   "autocomplete": true,
   "bibliofile": "biblio.bib",
   "cite_by": "apalike",
   "current_citInitial": 1,
   "eqLabelWithNumbers": true,
   "eqNumInitial": 1,
   "hotkeys": {
    "equation": "Ctrl-E",
    "itemize": "Ctrl-I"
   },
   "labels_anchors": false,
   "latex_user_defs": false,
   "report_style_numbering": false,
   "user_envs_cfg": false
  }
 },
 "nbformat": 4,
 "nbformat_minor": 4
}
