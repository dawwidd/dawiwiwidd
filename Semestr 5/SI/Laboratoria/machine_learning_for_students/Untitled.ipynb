{
 "cells": [
  {
   "cell_type": "markdown",
   "metadata": {},
   "source": [
    "# Wstęp do Python\n",
    "\n",
    "## Tworzenie zmiennych \n",
    "W przeciwieństwie do C/C++ - w pythonie nie deklarujemy typów zmiennych. Poniższe linijki przypisują różne wartości zmiennym:"
   ]
  },
  {
   "cell_type": "code",
   "execution_count": null,
   "metadata": {
    "collapsed": true
   },
   "outputs": [],
   "source": [
    "a = 4        # płotek oznacza początek komentarza, ten tekst jest ignorowany\n",
    "inna_zmienna = \"to jest tekst\"\n",
    "c4 = 4.2"
   ]
  },
  {
   "cell_type": "markdown",
   "metadata": {},
   "source": [
    "## Wyświetlanie danych\n",
    "Wyświetlanie danych na ekran wykonywane jest z użyciem funkcji print()"
   ]
  },
  {
   "cell_type": "code",
   "execution_count": null,
   "metadata": {},
   "outputs": [],
   "source": [
    "print(\"Witaj świecie.\")"
   ]
  },
  {
   "cell_type": "markdown",
   "metadata": {},
   "source": [
    "## Operacje na zmiennych\n",
    "\n",
    "Operacje na zmiennych są bardzo podobne do tych z C/C++"
   ]
  },
  {
   "cell_type": "code",
   "execution_count": null,
   "metadata": {},
   "outputs": [],
   "source": [
    "d = a+4      # dodawanie\n",
    "e = 4*9.2    # mnożenie\n",
    "f = a**2     # a do potęgi 2\n",
    "\n",
    "print(d)\n",
    "print(e)\n",
    "print(f)"
   ]
  },
  {
   "cell_type": "markdown",
   "metadata": {},
   "source": [
    "## Tworzenie funkcji i ich wywoływanie\n",
    "Funkcję deklarujemy poprzez słowo kluczowe def, po którym następuje nazwa funkcji, a następnie w nawiasach lista argumentów funkcji. Ciało funkcji rozpoczyna się znakiem dwukropka.\n",
    "\n",
    "Rezultat zwracany przez funkcję definiuje się z użyciem słowa kluczowego return (jak w C/C++)\n",
    "\n",
    "**Uwaga** w C/C++ bloki kodu definiowało się poprzez zastosowanie nawiasów klamrowych - w pythonie, zamiast klamr używa się wcięć. Cały kod, który należy do funkcji musi być wcięty poprzez użycie tabulacji lub ciągu 4 spacji."
   ]
  },
  {
   "cell_type": "code",
   "execution_count": null,
   "metadata": {
    "collapsed": true
   },
   "outputs": [],
   "source": [
    "def dodaj_liczby(liczba1, liczba2):\n",
    "    return liczba1+liczba2\n",
    "\n",
    "\n",
    "\n",
    "print(dodaj_liczby(5, 4))   #wywołanie funkcji - podobnie jak w C++"
   ]
  },
  {
   "cell_type": "markdown",
   "metadata": {},
   "source": [
    "## Instrukcje warunkowe\n",
    "Instrukcje warunkowe są bardzo podobne do tych znanych z C/C++. W odróżnieniu od wspomnianych - nie trzeba używać nawiasów wokół warunkow, a także podobnie jak powyżej - ciało instrukcji warunkowej musi być odpowiednio wcięte"
   ]
  },
  {
   "cell_type": "code",
   "execution_count": null,
   "metadata": {},
   "outputs": [],
   "source": [
    "if 5 > 3:\n",
    "    print(\"Python ogarnia matematykę\")\n",
    "else:\n",
    "    print(\"Python nie ogrania\")"
   ]
  },
  {
   "cell_type": "markdown",
   "metadata": {},
   "source": [
    "## Pętle\n",
    "Pętle tworzy się z użyciem słowa kluczowego for po którym definiujemy ilość wywołań (range zwraca listę liczb od zera do zadanej)."
   ]
  },
  {
   "cell_type": "code",
   "execution_count": null,
   "metadata": {},
   "outputs": [],
   "source": [
    "for i in range(10):\n",
    "    print(i)"
   ]
  },
  {
   "cell_type": "markdown",
   "metadata": {},
   "source": [
    "## Klasy i instancjonowanie klas\n"
   ]
  },
  {
   "cell_type": "code",
   "execution_count": null,
   "metadata": {},
   "outputs": [],
   "source": [
    "class A:                    # nagłówek klasy\n",
    "    def __init__(self):     # konstruktor \n",
    "        self.i = 1          # ustawianie zmiennych obiektu\n",
    "    \n",
    "    def generate_something(self):  # metoda obiektu\n",
    "        return \"something\"         # zwarająca napis\n",
    "    \n",
    "test = A()  # tutaj tworzymy instancję klasy A\n",
    "print(test.generate_something())  # a tu wywołujemy metodę nowoutworzonej klasy"
   ]
  },
  {
   "cell_type": "markdown",
   "metadata": {},
   "source": [
    "## Importowanie zewnętrznych modułów\n",
    "\n",
    "W C/C++ importowanie zewnętrznych modułów odbywało się poprzez użycie #include...\n",
    "W pythonie używamy zamiast tego słowa kluczowego: import"
   ]
  },
  {
   "cell_type": "code",
   "execution_count": null,
   "metadata": {},
   "outputs": [],
   "source": [
    "import random            # zaimportuj moduł z funkcjami dot. losowości\n",
    "\n",
    "print(random.random())   # wygeneruj losową liczbę z zakresu 0 - 1"
   ]
  }
 ],
 "metadata": {
  "kernelspec": {
   "display_name": "Python 3",
   "language": "python",
   "name": "python3"
  },
  "language_info": {
   "codemirror_mode": {
    "name": "ipython",
    "version": 3
   },
   "file_extension": ".py",
   "mimetype": "text/x-python",
   "name": "python",
   "nbconvert_exporter": "python",
   "pygments_lexer": "ipython3",
   "version": "3.6.0"
  }
 },
 "nbformat": 4,
 "nbformat_minor": 2
}
