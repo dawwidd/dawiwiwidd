{
 "cells": [
  {
   "cell_type": "code",
   "execution_count": 6,
   "id": "8d7319f9",
   "metadata": {},
   "outputs": [],
   "source": [
    "import cv2\n",
    "import numpy as np\n",
    "import math\n",
    "import matplotlib.pyplot as plt\n"
   ]
  },
  {
   "cell_type": "code",
   "execution_count": null,
   "id": "15a417f9",
   "metadata": {},
   "outputs": [],
   "source": [
    "folder = \"image\"\n",
    "imageList = []\n",
    "for filename in os.listdir(folder):\n",
    "    img = cv2.imread(filename)\n",
    "    imageList.append(img)\n",
    "    "
   ]
  }
 ],
 "metadata": {
  "kernelspec": {
   "display_name": "Python 3",
   "language": "python",
   "name": "python3"
  },
  "language_info": {
   "codemirror_mode": {
    "name": "ipython",
    "version": 3
   },
   "file_extension": ".py",
   "mimetype": "text/x-python",
   "name": "python",
   "nbconvert_exporter": "python",
   "pygments_lexer": "ipython3",
   "version": "3.9.2"
  }
 },
 "nbformat": 4,
 "nbformat_minor": 5
}
