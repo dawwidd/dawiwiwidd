{
 "cells": [
  {
   "cell_type": "code",
   "execution_count": 3,
   "id": "f6c3f8cf",
   "metadata": {
    "scrolled": false
   },
   "outputs": [
    {
     "name": "stdout",
     "output_type": "stream",
     "text": [
      "obraz.png\n"
     ]
    },
    {
     "ename": "ValueError",
     "evalue": "The truth value of an array with more than one element is ambiguous. Use a.any() or a.all()",
     "output_type": "error",
     "traceback": [
      "\u001b[0;31m---------------------------------------------------------------------------\u001b[0m",
      "\u001b[0;31mValueError\u001b[0m                                Traceback (most recent call last)",
      "Cell \u001b[0;32mIn [3], line 43\u001b[0m\n\u001b[1;32m     40\u001b[0m             maskB[i\u001b[38;5;241m*\u001b[39m\u001b[38;5;241m2\u001b[39m][j\u001b[38;5;241m*\u001b[39m\u001b[38;5;241m2\u001b[39m\u001b[38;5;241m+\u001b[39m\u001b[38;5;241m1\u001b[39m] \u001b[38;5;241m=\u001b[39m \u001b[38;5;241m0\u001b[39m \u001b[38;5;28;01mif\u001b[39;00m maskA[i\u001b[38;5;241m*\u001b[39m\u001b[38;5;241m2\u001b[39m][j\u001b[38;5;241m*\u001b[39m\u001b[38;5;241m2\u001b[39m\u001b[38;5;241m+\u001b[39m\u001b[38;5;241m1\u001b[39m] \u001b[38;5;241m==\u001b[39m \u001b[38;5;241m1\u001b[39m \u001b[38;5;28;01melse\u001b[39;00m \u001b[38;5;241m1\u001b[39m\n\u001b[1;32m     41\u001b[0m             maskB[i\u001b[38;5;241m*\u001b[39m\u001b[38;5;241m2\u001b[39m\u001b[38;5;241m+\u001b[39m\u001b[38;5;241m1\u001b[39m][j\u001b[38;5;241m*\u001b[39m\u001b[38;5;241m2\u001b[39m\u001b[38;5;241m+\u001b[39m\u001b[38;5;241m1\u001b[39m] \u001b[38;5;241m=\u001b[39m \u001b[38;5;241m0\u001b[39m \u001b[38;5;28;01mif\u001b[39;00m maskA[i\u001b[38;5;241m*\u001b[39m\u001b[38;5;241m2\u001b[39m\u001b[38;5;241m+\u001b[39m\u001b[38;5;241m1\u001b[39m][j\u001b[38;5;241m*\u001b[39m\u001b[38;5;241m2\u001b[39m\u001b[38;5;241m+\u001b[39m\u001b[38;5;241m1\u001b[39m] \u001b[38;5;241m==\u001b[39m \u001b[38;5;241m1\u001b[39m \u001b[38;5;28;01melse\u001b[39;00m \u001b[38;5;241m1\u001b[39m\n\u001b[0;32m---> 43\u001b[0m imageFromMasks \u001b[38;5;241m=\u001b[39m maskA \u001b[38;5;129;01mand\u001b[39;00m maskB\n\u001b[1;32m     45\u001b[0m _, (originalImagePlot, maskAPlot, maskBPlot, imageFromMasksPlot) \u001b[38;5;241m=\u001b[39m plt\u001b[38;5;241m.\u001b[39msubplots(nrows \u001b[38;5;241m=\u001b[39m \u001b[38;5;241m4\u001b[39m, figsize\u001b[38;5;241m=\u001b[39m(\u001b[38;5;241m50\u001b[39m,\u001b[38;5;241m50\u001b[39m))\n\u001b[1;32m     46\u001b[0m originalImagePlot\u001b[38;5;241m.\u001b[39mimshow(originalImage, cmap\u001b[38;5;241m=\u001b[39m\u001b[38;5;124m'\u001b[39m\u001b[38;5;124mgray\u001b[39m\u001b[38;5;124m'\u001b[39m)\n",
      "\u001b[0;31mValueError\u001b[0m: The truth value of an array with more than one element is ambiguous. Use a.any() or a.all()"
     ]
    }
   ],
   "source": [
    "import matplotlib.pyplot as plt\n",
    "import numpy as np\n",
    "\n",
    "def readImage(path):\n",
    "    image = plt.imread(path)\n",
    "    return np.array(([list(map(int,i)) for i in image[:,:,0]]));\n",
    "\n",
    "if __name__ == '__main__':\n",
    "    image_path = input()\n",
    "    originalImage = readImage(image_path)\n",
    "    originalHeight, originalWidth = originalImage.shape\n",
    "    maskHeight, maskWidth = originalHeight*2, originalWidth*2\n",
    "    \n",
    "#     maskA = np.ones((maskHeight, maskWidth))\n",
    "#     maskB = np.ones((maskHeight, maskWidth))\n",
    "#     imageFromMasks = np.ones((maskHeight, maskWidth))\n",
    "    \n",
    "#     for i in range(0, originalHeight):\n",
    "#         for j in range(0, originalWidth):\n",
    "#             variant = np.random.randint(2)\n",
    "#             if(variant == 0):\n",
    "#                 maskA[i*2][j*2] = 1\n",
    "#                 maskA[i*2+1][j*2] = 0\n",
    "#                 maskA[i*2][j*2+1] = 0\n",
    "#                 maskA[i*2+1][j*2+1] = 1\n",
    "#             else:\n",
    "#                 maskA[i*2][j*2] = 0\n",
    "#                 maskA[i*2+1][j*2] = 1\n",
    "#                 maskA[i*2][j*2+1] = 1\n",
    "#                 maskA[i*2+1][j*2+1] = 0\n",
    "                \n",
    "#             if(originalImage[i][j] == 1):\n",
    "#                 maskB[i*2][j*2] = 1 if maskA[i*2][j*2] == 1 else 0\n",
    "#                 maskB[i*2+1][j*2] = 1 if maskA[i*2+1][j*2] == 1 else 0\n",
    "#                 maskB[i*2][j*2+1] = 1 if maskA[i*2][j*2+1] == 1 else 0\n",
    "#                 maskB[i*2+1][j*2+1] = 1 if maskA[i*2+1][j*2+1] == 1 else 0\n",
    "#             else:\n",
    "#                 maskB[i*2][j*2] = 0 if maskA[i*2][j*2] == 1 else 1\n",
    "#                 maskB[i*2+1][j*2] = 0 if maskA[i*2+1][j*2] == 1 else 1\n",
    "#                 maskB[i*2][j*2+1] = 0 if maskA[i*2][j*2+1] == 1 else 1\n",
    "#                 maskB[i*2+1][j*2+1] = 0 if maskA[i*2+1][j*2+1] == 1 else 1\n",
    "    \n",
    "    maskA = plt.imread('SPOILER_part2.png')\n",
    "    maskB = plt.imread('SPOILER_part1.png')\n",
    "    imageFromMasks = maskA == maskB\n",
    "                \n",
    "    _, (originalImagePlot, maskAPlot, maskBPlot, imageFromMasksPlot) = plt.subplots(nrows = 4, figsize=(50,50))\n",
    "    originalImagePlot.imshow(originalImage, cmap='gray')\n",
    "    maskAPlot.imshow(maskA, cmap='gray')\n",
    "    maskBPlot.imshow(maskB, cmap='gray')\n",
    "    imageFromMasksPlot.imshow(imageFromMasks, cmap='gray')"
   ]
  }
 ],
 "metadata": {
  "kernelspec": {
   "display_name": "Python 3 (ipykernel)",
   "language": "python",
   "name": "python3"
  },
  "language_info": {
   "codemirror_mode": {
    "name": "ipython",
    "version": 3
   },
   "file_extension": ".py",
   "mimetype": "text/x-python",
   "name": "python",
   "nbconvert_exporter": "python",
   "pygments_lexer": "ipython3",
   "version": "3.10.8"
  }
 },
 "nbformat": 4,
 "nbformat_minor": 5
}
